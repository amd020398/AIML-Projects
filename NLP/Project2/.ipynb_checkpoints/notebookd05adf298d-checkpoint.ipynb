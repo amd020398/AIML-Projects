{
 "cells": [
  {
   "cell_type": "markdown",
   "metadata": {
    "id": "ygtd69Lsh8Qo"
   },
   "source": [
    "# Import Libraries"
   ]
  },
  {
   "cell_type": "code",
   "execution_count": null,
   "metadata": {},
   "outputs": [],
   "source": []
  },
  {
   "cell_type": "code",
   "execution_count": 1,
   "metadata": {
    "execution": {
     "iopub.execute_input": "2021-11-09T05:41:09.145462Z",
     "iopub.status.busy": "2021-11-09T05:41:09.145113Z",
     "iopub.status.idle": "2021-11-09T05:41:17.510057Z",
     "shell.execute_reply": "2021-11-09T05:41:17.50919Z",
     "shell.execute_reply.started": "2021-11-09T05:41:09.145375Z"
    },
    "id": "0B9Kkjciqe3H"
   },
   "outputs": [],
   "source": [
    "import pandas as pd\n",
    "import numpy as np\n",
    "%matplotlib inline\n",
    "from matplotlib import pyplot as plt\n",
    "import seaborn as sns\n",
    "import re\n",
    "from collections import Counter\n",
    "from wordcloud import WordCloud, STOPWORDS\n",
    "from sklearn.preprocessing import OneHotEncoder, StandardScaler\n",
    "from sklearn.model_selection import train_test_split, GridSearchCV\n",
    "from sklearn.feature_extraction.text import CountVectorizer, TfidfVectorizer\n",
    "from sklearn.linear_model import LogisticRegression\n",
    "from sklearn.metrics import roc_curve, confusion_matrix, auc, accuracy_score\n",
    "from sklearn.naive_bayes import MultinomialNB\n",
    "from sklearn.ensemble import RandomForestClassifier\n",
    "import pickle\n",
    "import cv2\n",
    "import tensorflow as tf\n",
    "import tensorflow_hub as hub\n",
    "from tensorflow.keras.preprocessing.sequence import pad_sequences\n",
    "from tensorflow.keras.preprocessing.text import Tokenizer\n",
    "from tensorflow.keras.callbacks import *\n",
    "from tensorflow.keras import Model, Input, Sequential\n",
    "from datetime import datetime\n",
    "from tensorflow.keras import Input, Model\n",
    "from tensorflow.keras.layers import *\n",
    "from tensorflow.keras.utils import plot_model\n",
    "from tqdm import tqdm"
   ]
  },
  {
   "cell_type": "code",
   "execution_count": 2,
   "metadata": {
    "execution": {
     "iopub.execute_input": "2021-11-09T05:41:33.328495Z",
     "iopub.status.busy": "2021-11-09T05:41:33.327873Z",
     "iopub.status.idle": "2021-11-09T05:41:33.335622Z",
     "shell.execute_reply": "2021-11-09T05:41:33.334905Z",
     "shell.execute_reply.started": "2021-11-09T05:41:33.328443Z"
    },
    "id": "jklwNw3Vn-8P",
    "outputId": "a7bef1b1-a3bc-4e9f-a36c-c86ff1504e80"
   },
   "outputs": [
    {
     "data": {
      "text/plain": [
       "('2.2.0', '4.5.4-dev', '0.12.0')"
      ]
     },
     "execution_count": 2,
     "metadata": {},
     "output_type": "execute_result"
    }
   ],
   "source": [
    "tf.__version__, cv2.__version__, hub.__version__"
   ]
  },
  {
   "cell_type": "code",
   "execution_count": null,
   "metadata": {
    "execution": {
     "iopub.execute_input": "2021-11-09T05:42:29.448575Z",
     "iopub.status.busy": "2021-11-09T05:42:29.448035Z",
     "iopub.status.idle": "2021-11-09T05:42:29.463991Z",
     "shell.execute_reply": "2021-11-09T05:42:29.46303Z",
     "shell.execute_reply.started": "2021-11-09T05:42:29.44853Z"
    }
   },
   "outputs": [],
   "source": []
  },
  {
   "cell_type": "markdown",
   "metadata": {
    "id": "YiyfJXFeiAPg"
   },
   "source": [
    "# Load data"
   ]
  },
  {
   "cell_type": "code",
   "execution_count": 3,
   "metadata": {
    "execution": {
     "iopub.execute_input": "2021-11-09T05:42:53.560972Z",
     "iopub.status.busy": "2021-11-09T05:42:53.560237Z",
     "iopub.status.idle": "2021-11-09T05:42:53.8809Z",
     "shell.execute_reply": "2021-11-09T05:42:53.880061Z",
     "shell.execute_reply.started": "2021-11-09T05:42:53.560929Z"
    },
    "id": "agDShNlUqypJ",
    "outputId": "14b23fa2-6d9f-4fdb-e02f-a17d5655a743"
   },
   "outputs": [
    {
     "data": {
      "text/html": [
       "<div>\n",
       "<style scoped>\n",
       "    .dataframe tbody tr th:only-of-type {\n",
       "        vertical-align: middle;\n",
       "    }\n",
       "\n",
       "    .dataframe tbody tr th {\n",
       "        vertical-align: top;\n",
       "    }\n",
       "\n",
       "    .dataframe thead th {\n",
       "        text-align: right;\n",
       "    }\n",
       "</style>\n",
       "<table border=\"1\" class=\"dataframe\">\n",
       "  <thead>\n",
       "    <tr style=\"text-align: right;\">\n",
       "      <th></th>\n",
       "      <th>is_sarcastic</th>\n",
       "      <th>headline</th>\n",
       "      <th>article_link</th>\n",
       "    </tr>\n",
       "  </thead>\n",
       "  <tbody>\n",
       "    <tr>\n",
       "      <th>0</th>\n",
       "      <td>1</td>\n",
       "      <td>thirtysomething scientists unveil doomsday clo...</td>\n",
       "      <td>https://www.theonion.com/thirtysomething-scien...</td>\n",
       "    </tr>\n",
       "    <tr>\n",
       "      <th>1</th>\n",
       "      <td>0</td>\n",
       "      <td>dem rep. totally nails why congress is falling...</td>\n",
       "      <td>https://www.huffingtonpost.com/entry/donna-edw...</td>\n",
       "    </tr>\n",
       "    <tr>\n",
       "      <th>2</th>\n",
       "      <td>0</td>\n",
       "      <td>eat your veggies: 9 deliciously different recipes</td>\n",
       "      <td>https://www.huffingtonpost.com/entry/eat-your-...</td>\n",
       "    </tr>\n",
       "    <tr>\n",
       "      <th>3</th>\n",
       "      <td>1</td>\n",
       "      <td>inclement weather prevents liar from getting t...</td>\n",
       "      <td>https://local.theonion.com/inclement-weather-p...</td>\n",
       "    </tr>\n",
       "    <tr>\n",
       "      <th>4</th>\n",
       "      <td>1</td>\n",
       "      <td>mother comes pretty close to using word 'strea...</td>\n",
       "      <td>https://www.theonion.com/mother-comes-pretty-c...</td>\n",
       "    </tr>\n",
       "  </tbody>\n",
       "</table>\n",
       "</div>"
      ],
      "text/plain": [
       "   is_sarcastic                                           headline  \\\n",
       "0             1  thirtysomething scientists unveil doomsday clo...   \n",
       "1             0  dem rep. totally nails why congress is falling...   \n",
       "2             0  eat your veggies: 9 deliciously different recipes   \n",
       "3             1  inclement weather prevents liar from getting t...   \n",
       "4             1  mother comes pretty close to using word 'strea...   \n",
       "\n",
       "                                        article_link  \n",
       "0  https://www.theonion.com/thirtysomething-scien...  \n",
       "1  https://www.huffingtonpost.com/entry/donna-edw...  \n",
       "2  https://www.huffingtonpost.com/entry/eat-your-...  \n",
       "3  https://local.theonion.com/inclement-weather-p...  \n",
       "4  https://www.theonion.com/mother-comes-pretty-c...  "
      ]
     },
     "execution_count": 3,
     "metadata": {},
     "output_type": "execute_result"
    }
   ],
   "source": [
    "test = pd.read_json(\"Sarcasm_Headlines_Dataset.json\", lines=True)\n",
    "test.head()"
   ]
  },
  {
   "cell_type": "code",
   "execution_count": 4,
   "metadata": {
    "execution": {
     "iopub.execute_input": "2021-11-09T05:43:05.236545Z",
     "iopub.status.busy": "2021-11-09T05:43:05.23622Z",
     "iopub.status.idle": "2021-11-09T05:43:05.2678Z",
     "shell.execute_reply": "2021-11-09T05:43:05.265695Z",
     "shell.execute_reply.started": "2021-11-09T05:43:05.236511Z"
    },
    "id": "U3Eh_GKdq6BV",
    "outputId": "c39b37e8-66d8-46b8-b122-06d3d2dbc745"
   },
   "outputs": [
    {
     "name": "stdout",
     "output_type": "stream",
     "text": [
      "<class 'pandas.core.frame.DataFrame'>\n",
      "RangeIndex: 28619 entries, 0 to 28618\n",
      "Data columns (total 3 columns):\n",
      " #   Column        Non-Null Count  Dtype \n",
      "---  ------        --------------  ----- \n",
      " 0   is_sarcastic  28619 non-null  int64 \n",
      " 1   headline      28619 non-null  object\n",
      " 2   article_link  28619 non-null  object\n",
      "dtypes: int64(1), object(2)\n",
      "memory usage: 670.9+ KB\n"
     ]
    }
   ],
   "source": [
    "test.info()"
   ]
  },
  {
   "cell_type": "code",
   "execution_count": null,
   "metadata": {
    "execution": {
     "iopub.execute_input": "2021-11-09T05:43:17.059574Z",
     "iopub.status.busy": "2021-11-09T05:43:17.058681Z",
     "iopub.status.idle": "2021-11-09T05:43:17.425484Z",
     "shell.execute_reply": "2021-11-09T05:43:17.424488Z",
     "shell.execute_reply.started": "2021-11-09T05:43:17.059517Z"
    },
    "id": "qXFxTUc74rm9",
    "outputId": "552624a9-7328-4c4b-dae8-5b01c6b9a1d7"
   },
   "outputs": [],
   "source": [
    "train = pd.read_json(\"/kaggle/input/news-headlines-dataset-for-sarcasm-detection/Sarcasm_Headlines_Dataset_v2.json\", lines=True)\n",
    "train.head()"
   ]
  },
  {
   "cell_type": "code",
   "execution_count": null,
   "metadata": {
    "execution": {
     "iopub.execute_input": "2021-11-09T05:43:38.925701Z",
     "iopub.status.busy": "2021-11-09T05:43:38.925411Z",
     "iopub.status.idle": "2021-11-09T05:43:38.94559Z",
     "shell.execute_reply": "2021-11-09T05:43:38.94453Z",
     "shell.execute_reply.started": "2021-11-09T05:43:38.925667Z"
    },
    "id": "RClSDaGg4yvk",
    "outputId": "2a33c164-d3ce-4bc7-efdb-25ac9f1ba6b2"
   },
   "outputs": [],
   "source": [
    "train.info()"
   ]
  },
  {
   "cell_type": "code",
   "execution_count": null,
   "metadata": {
    "execution": {
     "iopub.execute_input": "2021-11-09T05:44:04.165635Z",
     "iopub.status.busy": "2021-11-09T05:44:04.165324Z",
     "iopub.status.idle": "2021-11-09T05:44:04.32384Z",
     "shell.execute_reply": "2021-11-09T05:44:04.323041Z",
     "shell.execute_reply.started": "2021-11-09T05:44:04.165603Z"
    },
    "id": "6g879wtyuNpp",
    "outputId": "eeb5af3e-e1e7-4270-def8-452aa43ed9dd"
   },
   "outputs": [],
   "source": [
    "plt.figure()\n",
    "sns.countplot(data = train, x = \"is_sarcastic\")\n",
    "plt.title(\"Class distribution\")\n",
    "plt.show()"
   ]
  },
  {
   "cell_type": "code",
   "execution_count": null,
   "metadata": {
    "execution": {
     "iopub.execute_input": "2021-11-09T05:44:09.805748Z",
     "iopub.status.busy": "2021-11-09T05:44:09.805456Z",
     "iopub.status.idle": "2021-11-09T05:44:09.810223Z",
     "shell.execute_reply": "2021-11-09T05:44:09.809197Z",
     "shell.execute_reply.started": "2021-11-09T05:44:09.805718Z"
    },
    "id": "5fYt8U0qhryt"
   },
   "outputs": [],
   "source": [
    "def length(phrase):\n",
    "  return len(phrase.split())"
   ]
  },
  {
   "cell_type": "code",
   "execution_count": null,
   "metadata": {
    "execution": {
     "iopub.execute_input": "2021-11-09T05:44:15.15301Z",
     "iopub.status.busy": "2021-11-09T05:44:15.152453Z",
     "iopub.status.idle": "2021-11-09T05:44:15.205606Z",
     "shell.execute_reply": "2021-11-09T05:44:15.204786Z",
     "shell.execute_reply.started": "2021-11-09T05:44:15.152971Z"
    },
    "id": "KDDz8Cl2ge4n",
    "outputId": "3da013dd-00fd-4145-aca3-7eb854d5cbc3"
   },
   "outputs": [],
   "source": [
    "train[\"length\"] = train[\"headline\"].apply(length)\n",
    "train.head()"
   ]
  },
  {
   "cell_type": "code",
   "execution_count": null,
   "metadata": {
    "execution": {
     "iopub.execute_input": "2021-11-09T05:44:20.597307Z",
     "iopub.status.busy": "2021-11-09T05:44:20.597014Z",
     "iopub.status.idle": "2021-11-09T05:44:22.236037Z",
     "shell.execute_reply": "2021-11-09T05:44:22.235404Z",
     "shell.execute_reply.started": "2021-11-09T05:44:20.597278Z"
    },
    "id": "qkJEs0wziJMm",
    "outputId": "e522b3f9-026c-4909-e416-3176116893cb"
   },
   "outputs": [],
   "source": [
    "plt.figure()\n",
    "sns.displot(data = train, x = \"length\", kde = True)\n",
    "plt.title(\"distribution of number of words in headlines\")\n",
    "plt.show()"
   ]
  },
  {
   "cell_type": "code",
   "execution_count": null,
   "metadata": {
    "execution": {
     "iopub.execute_input": "2021-11-09T05:44:27.649114Z",
     "iopub.status.busy": "2021-11-09T05:44:27.648666Z",
     "iopub.status.idle": "2021-11-09T05:44:27.68543Z",
     "shell.execute_reply": "2021-11-09T05:44:27.684419Z",
     "shell.execute_reply.started": "2021-11-09T05:44:27.649082Z"
    },
    "id": "-RNwj2yPjbaV",
    "outputId": "9cc59165-21f7-442a-f759-619754f144d5"
   },
   "outputs": [],
   "source": [
    "for i in [0, 10, 20, 30, 40, 50, 60, 70, 80, 90, 100]:\n",
    "  print(\"{0}th percentile is {1}\".format(i, np.percentile(train[\"length\"], i)))\n",
    "print()\n",
    "for i in [90, 91, 92, 93, 94, 95, 96, 97, 98, 99, 100]:\n",
    "  print(\"{0}th percentile is {1}\".format(i, np.percentile(train[\"length\"], i)))\n",
    "print()\n",
    "for i in [99, 99.10, 99.20, 99.30, 99.40, 99.50, 99.60, 99.70, 99.80, 99.90]:\n",
    "  print(\"{0}th percentile is {1}\".format(i, np.percentile(train[\"length\"], i)))\n",
    "print()"
   ]
  },
  {
   "cell_type": "code",
   "execution_count": null,
   "metadata": {
    "execution": {
     "iopub.execute_input": "2021-11-09T05:44:36.247564Z",
     "iopub.status.busy": "2021-11-09T05:44:36.24725Z",
     "iopub.status.idle": "2021-11-09T05:44:36.255186Z",
     "shell.execute_reply": "2021-11-09T05:44:36.254322Z",
     "shell.execute_reply.started": "2021-11-09T05:44:36.24753Z"
    },
    "id": "jFgmrSol9hWW"
   },
   "outputs": [],
   "source": [
    "# Reference: https://stackoverflow.com/a/47091490/6645883\n",
    "\n",
    "def decontracted(phrase):\n",
    "    # specific\n",
    "    phrase = re.sub(r\"won\\'t\", \"will not\", phrase)\n",
    "    phrase = re.sub(r\"can\\'t\", \"can not\", phrase)\n",
    "\n",
    "    # general\n",
    "    phrase = re.sub(r\"n\\'t\", \" not\", phrase)\n",
    "    phrase = re.sub(r\"\\'re\", \" are\", phrase)\n",
    "    phrase = re.sub(r\"\\'s\", \" is\", phrase)\n",
    "    phrase = re.sub(r\"\\'d\", \" would\", phrase)\n",
    "    phrase = re.sub(r\"\\'ll\", \" will\", phrase)\n",
    "    phrase = re.sub(r\"\\'t\", \" not\", phrase)\n",
    "    phrase = re.sub(r\"\\'ve\", \" have\", phrase)\n",
    "    phrase = re.sub(r\"\\'m\", \" am\", phrase)\n",
    "    #phrase = re.sub(r\"[^A-Za-z0-9 ]+\", \"\", phrase)\n",
    "    return phrase.lower()"
   ]
  },
  {
   "cell_type": "code",
   "execution_count": null,
   "metadata": {
    "execution": {
     "iopub.execute_input": "2021-11-09T05:44:41.089548Z",
     "iopub.status.busy": "2021-11-09T05:44:41.089243Z",
     "iopub.status.idle": "2021-11-09T05:44:41.825815Z",
     "shell.execute_reply": "2021-11-09T05:44:41.824869Z",
     "shell.execute_reply.started": "2021-11-09T05:44:41.089514Z"
    },
    "id": "v1Jsb2ct9O9p"
   },
   "outputs": [],
   "source": [
    "train[\"headline\"] = train[\"headline\"].apply(decontracted)\n",
    "test[\"headline\"] = test[\"headline\"].apply(decontracted)"
   ]
  },
  {
   "cell_type": "code",
   "execution_count": null,
   "metadata": {
    "execution": {
     "iopub.execute_input": "2021-11-09T05:44:46.013644Z",
     "iopub.status.busy": "2021-11-09T05:44:46.012992Z",
     "iopub.status.idle": "2021-11-09T05:44:46.022474Z",
     "shell.execute_reply": "2021-11-09T05:44:46.021596Z",
     "shell.execute_reply.started": "2021-11-09T05:44:46.013592Z"
    },
    "id": "iOEo_BcQ-P6_"
   },
   "outputs": [],
   "source": [
    "# Reference: # https://www.geeksforgeeks.org/generating-word-cloud-python/\n",
    "\n",
    "def wordcloud_plot(df):\n",
    "  comment_words = \"\"\n",
    "  stopwords = set(STOPWORDS)\n",
    "\n",
    "  # iterate through the csv file\n",
    "  for val in df.headline:\n",
    "    \n",
    "    # typecaste each val to string\n",
    "    val = str(val)\n",
    "\n",
    "    # split the value\n",
    "    tokens = val.split()\n",
    "    \n",
    "    # Converts each token into lowercase\n",
    "    for i in range(len(tokens)):\n",
    "      tokens[i] = tokens[i].lower()\n",
    "    \n",
    "    comment_words += \" \".join(tokens)+\" \"\n",
    "\n",
    "  wordcloud = WordCloud(width = 800, height = 800,\n",
    "          background_color = \"white\",\n",
    "          stopwords = stopwords,\n",
    "          min_font_size = 10).generate(comment_words)\n",
    "\n",
    "  # plot the WordCloud image\t\t\t\t\t\n",
    "  plt.figure(figsize = (8, 8), facecolor = None)\n",
    "  plt.imshow(wordcloud)\n",
    "  plt.axis(\"off\")\n",
    "  plt.tight_layout(pad = 0)\n",
    "  plt.show()"
   ]
  },
  {
   "cell_type": "code",
   "execution_count": null,
   "metadata": {
    "execution": {
     "iopub.execute_input": "2021-11-09T05:44:52.144694Z",
     "iopub.status.busy": "2021-11-09T05:44:52.143812Z",
     "iopub.status.idle": "2021-11-09T05:44:56.239713Z",
     "shell.execute_reply": "2021-11-09T05:44:56.238805Z",
     "shell.execute_reply.started": "2021-11-09T05:44:52.144646Z"
    },
    "id": "SapW85F1-Jq9",
    "outputId": "561e63f5-b37d-4b14-cf53-b06720bc6447"
   },
   "outputs": [],
   "source": [
    "wordcloud_plot(train)"
   ]
  },
  {
   "cell_type": "code",
   "execution_count": null,
   "metadata": {
    "execution": {
     "iopub.execute_input": "2021-11-09T05:44:56.241368Z",
     "iopub.status.busy": "2021-11-09T05:44:56.241022Z",
     "iopub.status.idle": "2021-11-09T05:45:00.046811Z",
     "shell.execute_reply": "2021-11-09T05:45:00.046026Z",
     "shell.execute_reply.started": "2021-11-09T05:44:56.241315Z"
    },
    "id": "R0Gf_GHR-LVq",
    "outputId": "16277fa8-aba2-4916-810f-b3230de180eb"
   },
   "outputs": [],
   "source": [
    "wordcloud_plot(test)"
   ]
  },
  {
   "cell_type": "markdown",
   "metadata": {
    "id": "GIL7Wmukpgqd"
   },
   "source": [
    "# Deep learning"
   ]
  },
  {
   "cell_type": "code",
   "execution_count": null,
   "metadata": {},
   "outputs": [],
   "source": [
    "y_train = train[\"is_sarcastic\"]\n",
    "y_test = test[\"is_sarcastic\"]"
   ]
  },
  {
   "cell_type": "code",
   "execution_count": null,
   "metadata": {
    "execution": {
     "iopub.execute_input": "2021-11-09T08:16:56.243705Z",
     "iopub.status.busy": "2021-11-09T08:16:56.242967Z",
     "iopub.status.idle": "2021-11-09T08:17:00.134395Z",
     "shell.execute_reply": "2021-11-09T08:17:00.133587Z",
     "shell.execute_reply.started": "2021-11-09T08:16:56.243648Z"
    }
   },
   "outputs": [],
   "source": [
    "!wget https://github.com/nagi1995/sarcastic-comment-detection/raw/main/glove_vectors"
   ]
  },
  {
   "cell_type": "code",
   "execution_count": null,
   "metadata": {
    "execution": {
     "iopub.execute_input": "2021-11-09T08:17:59.274408Z",
     "iopub.status.busy": "2021-11-09T08:17:59.274036Z",
     "iopub.status.idle": "2021-11-09T08:17:59.720513Z",
     "shell.execute_reply": "2021-11-09T08:17:59.719384Z",
     "shell.execute_reply.started": "2021-11-09T08:17:59.274361Z"
    },
    "id": "KIdSR6lFUwdG"
   },
   "outputs": [],
   "source": [
    "with open(\"./glove_vectors\", \"rb\") as fi:\n",
    "  glove_model = pickle.load(fi)\n",
    "  glove_words = set(glove_model.keys())"
   ]
  },
  {
   "cell_type": "code",
   "execution_count": null,
   "metadata": {
    "execution": {
     "iopub.execute_input": "2021-11-09T08:18:05.027737Z",
     "iopub.status.busy": "2021-11-09T08:18:05.027411Z",
     "iopub.status.idle": "2021-11-09T08:18:06.970556Z",
     "shell.execute_reply": "2021-11-09T08:18:06.969621Z",
     "shell.execute_reply.started": "2021-11-09T08:18:05.027697Z"
    },
    "id": "mrv5kdx7psU-",
    "outputId": "93cc3171-9466-40cc-c21e-bf66703f8d65"
   },
   "outputs": [],
   "source": [
    "t = Tokenizer()\n",
    "t.fit_on_texts(train[\"headline\"])\n",
    "\n",
    "encoded_train = t.texts_to_sequences(train[\"headline\"])\n",
    "encoded_test = t.texts_to_sequences(test[\"headline\"])\n",
    "\n",
    "max_length = 25\n",
    "\n",
    "padded_train = pad_sequences(encoded_train, \n",
    "                             maxlen = max_length, \n",
    "                             padding = \"post\", \n",
    "                             truncating = \"post\")\n",
    "\n",
    "padded_test = pad_sequences(encoded_test, \n",
    "                            maxlen = max_length, \n",
    "                            padding = \"post\", \n",
    "                            truncating = \"post\")\n",
    "\n",
    "print(padded_train.shape, padded_test.shape, type(padded_train))\n",
    "\n",
    "vocab_size = len(t.word_index) + 1\n",
    "vocab_size"
   ]
  },
  {
   "cell_type": "code",
   "execution_count": null,
   "metadata": {
    "execution": {
     "iopub.execute_input": "2021-11-09T08:18:11.618213Z",
     "iopub.status.busy": "2021-11-09T08:18:11.617937Z",
     "iopub.status.idle": "2021-11-09T08:18:11.726957Z",
     "shell.execute_reply": "2021-11-09T08:18:11.726205Z",
     "shell.execute_reply.started": "2021-11-09T08:18:11.618184Z"
    },
    "id": "Vd-h8YseqfGn",
    "outputId": "00cfceed-0bc0-45bf-fd2b-3e580e1d317b"
   },
   "outputs": [],
   "source": [
    "embedding_matrix = np.zeros((vocab_size, 300)) # vector len of each word is 300\n",
    "\n",
    "for word, i in t.word_index.items():\n",
    "  if word in glove_words:\n",
    "    vec = glove_model[word]\n",
    "    embedding_matrix[i] = vec\n",
    "\n",
    "embedding_matrix.shape"
   ]
  },
  {
   "cell_type": "markdown",
   "metadata": {
    "id": "sv9xyxWftIG3"
   },
   "source": [
    "### callbacks"
   ]
  },
  {
   "cell_type": "code",
   "execution_count": null,
   "metadata": {
    "execution": {
     "iopub.execute_input": "2021-11-09T08:18:55.562026Z",
     "iopub.status.busy": "2021-11-09T08:18:55.561677Z",
     "iopub.status.idle": "2021-11-09T08:18:55.582819Z",
     "shell.execute_reply": "2021-11-09T08:18:55.581768Z",
     "shell.execute_reply.started": "2021-11-09T08:18:55.561992Z"
    },
    "id": "z9LRb_5HqwFV"
   },
   "outputs": [],
   "source": [
    "%load_ext tensorboard"
   ]
  },
  {
   "cell_type": "code",
   "execution_count": null,
   "metadata": {
    "execution": {
     "iopub.execute_input": "2021-11-09T08:19:02.086751Z",
     "iopub.status.busy": "2021-11-09T08:19:02.086128Z",
     "iopub.status.idle": "2021-11-09T08:19:02.095413Z",
     "shell.execute_reply": "2021-11-09T08:19:02.094297Z",
     "shell.execute_reply.started": "2021-11-09T08:19:02.086712Z"
    },
    "id": "254kdLv1tNPF"
   },
   "outputs": [],
   "source": [
    "def checkpoint_path():\n",
    "  return \"./model/weights.{epoch:02d}-{val_accuracy:.4f}.hdf5\"\n",
    "\n",
    "def log_dir():\n",
    "  return \"./logs/fit/\" + datetime.now().strftime(\"%Y-%m-%d-%H:%M:%S\")\n",
    "\n",
    "earlystop = EarlyStopping(monitor = \"val_accuracy\", \n",
    "                          patience = 7, \n",
    "                          verbose = 1,  \n",
    "                          restore_best_weights = True, \n",
    "                          mode = 'max')\n",
    "\n",
    "reduce_lr = ReduceLROnPlateau(monitor = \"val_accuracy\", \n",
    "                              factor = .4642,\n",
    "                              patience = 3,\n",
    "                              verbose = 1, \n",
    "                              min_delta = 0.001,\n",
    "                              mode = 'max')\n"
   ]
  },
  {
   "cell_type": "markdown",
   "metadata": {
    "id": "jQpEZFKbJENe"
   },
   "source": [
    "### model building"
   ]
  },
  {
   "cell_type": "code",
   "execution_count": null,
   "metadata": {
    "execution": {
     "iopub.execute_input": "2021-11-09T08:19:06.821433Z",
     "iopub.status.busy": "2021-11-09T08:19:06.821107Z",
     "iopub.status.idle": "2021-11-09T08:19:08.63973Z",
     "shell.execute_reply": "2021-11-09T08:19:08.637137Z",
     "shell.execute_reply.started": "2021-11-09T08:19:06.821384Z"
    },
    "id": "OtYSbBGRu2yr",
    "outputId": "3d30d712-4455-48a2-da30-4885d2df843c"
   },
   "outputs": [],
   "source": [
    "tf.keras.backend.clear_session()\n",
    "input = Input(shape = (max_length, ), name = \"input\")\n",
    "\n",
    "embedding = Embedding(input_dim = vocab_size, \n",
    "                      output_dim = 300, # glove vector size\n",
    "                      weights = [embedding_matrix], \n",
    "                      trainable = False)(input)\n",
    "\n",
    "lstm = LSTM(32)(embedding)\n",
    "flatten = Flatten()(lstm)\n",
    "\n",
    "dense = Dense(16, activation = None, \n",
    "              kernel_initializer = \"he_uniform\")(flatten)\n",
    "\n",
    "dropout = Dropout(.25)(dense)\n",
    "activation = Activation(\"relu\")(dropout)\n",
    "output = Dense(2, activation = \"softmax\", name = \"output\")(activation)\n",
    "model = Model(inputs = input, outputs = output)\n",
    "\n",
    "model.compile(optimizer = \"adam\", loss = \"sparse_categorical_crossentropy\", metrics = [\"accuracy\"])\n",
    "\n",
    "plot_model(model, to_file = \"./model.png\", show_shapes = True)\n",
    "\n",
    "model.summary()"
   ]
  },
  {
   "cell_type": "code",
   "execution_count": null,
   "metadata": {
    "execution": {
     "iopub.execute_input": "2021-11-09T08:19:59.982812Z",
     "iopub.status.busy": "2021-11-09T08:19:59.982492Z",
     "iopub.status.idle": "2021-11-09T08:20:00.354156Z",
     "shell.execute_reply": "2021-11-09T08:20:00.353107Z",
     "shell.execute_reply.started": "2021-11-09T08:19:59.982774Z"
    },
    "id": "6riLwRO1x7kI",
    "outputId": "52e8ec83-ed0b-4809-d03d-165368c4f10b"
   },
   "outputs": [],
   "source": [
    "plt.figure(figsize = (10, 20))\n",
    "image = cv2.imread(\"./model.png\")\n",
    "image = cv2.cvtColor(image, cv2.COLOR_BGR2RGB)\n",
    "plt.imshow(image, cmap = \"gray\")\n",
    "plt.show()"
   ]
  },
  {
   "cell_type": "markdown",
   "metadata": {
    "id": "BydqCUW0JASA"
   },
   "source": [
    "### training model"
   ]
  },
  {
   "cell_type": "code",
   "execution_count": null,
   "metadata": {
    "execution": {
     "iopub.execute_input": "2021-11-09T08:20:30.376735Z",
     "iopub.status.busy": "2021-11-09T08:20:30.376384Z",
     "iopub.status.idle": "2021-11-09T08:33:55.558869Z",
     "shell.execute_reply": "2021-11-09T08:33:55.55799Z",
     "shell.execute_reply.started": "2021-11-09T08:20:30.376693Z"
    },
    "id": "lgWaO8SQzaJn",
    "outputId": "d8342fec-3e91-40b7-fb34-96dc33d2555d"
   },
   "outputs": [],
   "source": [
    "tensorboard_callback = TensorBoard(log_dir = log_dir(), \n",
    "                                   histogram_freq = 1, \n",
    "                                   write_images = True)\n",
    "\n",
    "checkpoint = ModelCheckpoint(filepath = checkpoint_path(), \n",
    "                             monitor='val_accuracy', \n",
    "                             verbose = 1, \n",
    "                             save_best_only = True, \n",
    "                             mode = \"max\")\n",
    "\n",
    "callbacks_list = [checkpoint, earlystop, reduce_lr]\n",
    "\n",
    "history = model.fit(padded_train, y_train, \n",
    "                    validation_data = (padded_test, y_test), \n",
    "                    epochs = 30, \n",
    "                    batch_size = 32, \n",
    "                    callbacks = callbacks_list)"
   ]
  },
  {
   "cell_type": "code",
   "execution_count": null,
   "metadata": {
    "execution": {
     "iopub.execute_input": "2021-11-09T08:34:03.667805Z",
     "iopub.status.busy": "2021-11-09T08:34:03.667045Z",
     "iopub.status.idle": "2021-11-09T08:34:03.932755Z",
     "shell.execute_reply": "2021-11-09T08:34:03.932165Z",
     "shell.execute_reply.started": "2021-11-09T08:34:03.667767Z"
    },
    "id": "LAuOxl_cGTij",
    "outputId": "d1383210-8c58-4849-bb8d-ec0e4e8fccc5"
   },
   "outputs": [],
   "source": [
    "plt.figure()\n",
    "L = len(history.history[\"loss\"]) + 1\n",
    "plt.plot(range(1, L), history.history[\"loss\"], \"bo-\", label = \"loss\")\n",
    "plt.plot(range(1, L), history.history[\"accuracy\"], \"g*-\", label = \"accuracy\")\n",
    "plt.plot(range(1, L), history.history[\"val_loss\"], \"y^-\", label = \"val_loss\")\n",
    "plt.plot(range(1, L), history.history[\"val_accuracy\"], \"ro-\", label = \"val_accuracy\")\n",
    "plt.legend()\n",
    "plt.xlabel(\"epoch\")\n",
    "plt.grid()\n",
    "plt.show()"
   ]
  },
  {
   "cell_type": "markdown",
   "metadata": {
    "id": "RvVgQEGIJwP_"
   },
   "source": [
    "### testing model"
   ]
  },
  {
   "cell_type": "code",
   "execution_count": null,
   "metadata": {
    "execution": {
     "iopub.execute_input": "2021-11-09T08:34:03.934951Z",
     "iopub.status.busy": "2021-11-09T08:34:03.934228Z",
     "iopub.status.idle": "2021-11-09T08:34:11.140992Z",
     "shell.execute_reply": "2021-11-09T08:34:11.140114Z",
     "shell.execute_reply.started": "2021-11-09T08:34:03.934911Z"
    },
    "id": "MYceUACJ2fV5",
    "outputId": "4ce890c6-b4b7-42f4-ef99-b8cdc8cf5b76"
   },
   "outputs": [],
   "source": [
    "y_pred_softmax = model.predict(padded_test)\n",
    "y_pred = []\n",
    "for i in range(len(y_pred_softmax)):\n",
    "  if  y_pred_softmax[i][0] >= 0.5:\n",
    "    y_pred.append(0)\n",
    "  else:\n",
    "    y_pred.append(1)\n",
    "\n",
    "\n",
    "print(\"Accuracy:\", 100*accuracy_score(y_test, y_pred))\n",
    "cm = confusion_matrix(y_test, y_pred)\n",
    "sns.heatmap(cm, annot = True, fmt = \"d\")\n",
    "plt.xlabel(\"predicted label\")\n",
    "plt.ylabel(\"actual label\")\n",
    "plt.title(\"test confusion matrix\")\n",
    "plt.show()"
   ]
  },
  {
   "cell_type": "code",
   "execution_count": null,
   "metadata": {
    "id": "B4dvQCeBAbvw"
   },
   "outputs": [],
   "source": []
  }
 ],
 "metadata": {
  "kernelspec": {
   "display_name": "Python 3",
   "language": "python",
   "name": "python3"
  },
  "language_info": {
   "codemirror_mode": {
    "name": "ipython",
    "version": 3
   },
   "file_extension": ".py",
   "mimetype": "text/x-python",
   "name": "python",
   "nbconvert_exporter": "python",
   "pygments_lexer": "ipython3",
   "version": "3.8.8"
  }
 },
 "nbformat": 4,
 "nbformat_minor": 4
}
