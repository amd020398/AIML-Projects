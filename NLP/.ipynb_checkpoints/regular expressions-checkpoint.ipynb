{
 "cells": [
  {
   "cell_type": "markdown",
   "metadata": {},
   "source": [
    "# Regular Expressions\n",
    "\n",
    "Regular expressions is a concept used to search for patterns in string text.\n",
    "\n",
    "This is a univerisal concept for any programming language or text editing program. \n",
    "\n",
    "We're going to learn the concepts while we learn the syntax for python.\n",
    "\n",
    "The goal of regular expressions is to be able to search for a specific type of text inside of a string.  If we have a form on our webpage where we ask for email addresses, can we check whether the inputted string actually follows the form of an email?  some letters or numbers or special characters, then an @ sign then some more letters numbers or special characters then a . then a few more letters"
   ]
  },
  {
   "cell_type": "code",
   "execution_count": 1,
   "metadata": {},
   "outputs": [],
   "source": [
    "import re\n",
    "\n",
    "text_to_search = '''\n",
    "abcdefghijklmnopqurtuvwxyz\n",
    "ABCDEFGHIJKLMNOPQRSTUVWXYZ\n",
    "1234567890\n",
    "123abc\n",
    "\n",
    "Hello HelloHello\n",
    "\n",
    "MetaCharacters (Need to be escaped):\n",
    ". ^ $ * + ? { } [ ] \\ | ( )\n",
    "\n",
    "utexas.edu\n",
    "\n",
    "321-555-4321\n",
    "123.555.1234\n",
    "\n",
    "daniel-mitchell@utexas.edu\n",
    "\n",
    "Mr. Johnson\n",
    "Mr Smith\n",
    "Ms Davis\n",
    "Mrs. Robinson\n",
    "Mr. T\n",
    "'''\n",
    "\n",
    "\n"
   ]
  },
  {
   "cell_type": "markdown",
   "metadata": {},
   "source": [
    "## Searching literals"
   ]
  },
  {
   "cell_type": "code",
   "execution_count": 2,
   "metadata": {},
   "outputs": [],
   "source": [
    "pattern = re.compile(r'abc')"
   ]
  },
  {
   "cell_type": "code",
   "execution_count": 3,
   "metadata": {},
   "outputs": [],
   "source": [
    "matches = pattern.finditer(text_to_search)"
   ]
  },
  {
   "cell_type": "code",
   "execution_count": 4,
   "metadata": {},
   "outputs": [
    {
     "name": "stdout",
     "output_type": "stream",
     "text": [
      "<re.Match object; span=(1, 4), match='abc'>\n",
      "<re.Match object; span=(69, 72), match='abc'>\n"
     ]
    }
   ],
   "source": [
    "for mat in matches:\n",
    "    print(mat)"
   ]
  },
  {
   "cell_type": "code",
   "execution_count": 5,
   "metadata": {},
   "outputs": [
    {
     "name": "stdout",
     "output_type": "stream",
     "text": [
      "abc\n"
     ]
    }
   ],
   "source": [
    "print(text_to_search[69:72])"
   ]
  },
  {
   "cell_type": "code",
   "execution_count": 7,
   "metadata": {},
   "outputs": [],
   "source": [
    "pattern = re.compile(r'cba')\n",
    "matches = pattern.finditer(text_to_search)\n",
    "for mat in matches:\n",
    "    print(mat)"
   ]
  },
  {
   "cell_type": "markdown",
   "metadata": {},
   "source": [
    "## Searching special characters"
   ]
  },
  {
   "cell_type": "code",
   "execution_count": 8,
   "metadata": {},
   "outputs": [
    {
     "name": "stdout",
     "output_type": "stream",
     "text": [
      "<re.Match object; span=(1, 2), match='a'>\n",
      "<re.Match object; span=(2, 3), match='b'>\n",
      "<re.Match object; span=(3, 4), match='c'>\n",
      "<re.Match object; span=(4, 5), match='d'>\n",
      "<re.Match object; span=(5, 6), match='e'>\n",
      "<re.Match object; span=(6, 7), match='f'>\n",
      "<re.Match object; span=(7, 8), match='g'>\n",
      "<re.Match object; span=(8, 9), match='h'>\n",
      "<re.Match object; span=(9, 10), match='i'>\n",
      "<re.Match object; span=(10, 11), match='j'>\n",
      "<re.Match object; span=(11, 12), match='k'>\n",
      "<re.Match object; span=(12, 13), match='l'>\n",
      "<re.Match object; span=(13, 14), match='m'>\n",
      "<re.Match object; span=(14, 15), match='n'>\n",
      "<re.Match object; span=(15, 16), match='o'>\n",
      "<re.Match object; span=(16, 17), match='p'>\n",
      "<re.Match object; span=(17, 18), match='q'>\n",
      "<re.Match object; span=(18, 19), match='u'>\n",
      "<re.Match object; span=(19, 20), match='r'>\n",
      "<re.Match object; span=(20, 21), match='t'>\n",
      "<re.Match object; span=(21, 22), match='u'>\n",
      "<re.Match object; span=(22, 23), match='v'>\n",
      "<re.Match object; span=(23, 24), match='w'>\n",
      "<re.Match object; span=(24, 25), match='x'>\n",
      "<re.Match object; span=(25, 26), match='y'>\n",
      "<re.Match object; span=(26, 27), match='z'>\n",
      "<re.Match object; span=(28, 29), match='A'>\n",
      "<re.Match object; span=(29, 30), match='B'>\n",
      "<re.Match object; span=(30, 31), match='C'>\n",
      "<re.Match object; span=(31, 32), match='D'>\n",
      "<re.Match object; span=(32, 33), match='E'>\n",
      "<re.Match object; span=(33, 34), match='F'>\n",
      "<re.Match object; span=(34, 35), match='G'>\n",
      "<re.Match object; span=(35, 36), match='H'>\n",
      "<re.Match object; span=(36, 37), match='I'>\n",
      "<re.Match object; span=(37, 38), match='J'>\n",
      "<re.Match object; span=(38, 39), match='K'>\n",
      "<re.Match object; span=(39, 40), match='L'>\n",
      "<re.Match object; span=(40, 41), match='M'>\n",
      "<re.Match object; span=(41, 42), match='N'>\n",
      "<re.Match object; span=(42, 43), match='O'>\n",
      "<re.Match object; span=(43, 44), match='P'>\n",
      "<re.Match object; span=(44, 45), match='Q'>\n",
      "<re.Match object; span=(45, 46), match='R'>\n",
      "<re.Match object; span=(46, 47), match='S'>\n",
      "<re.Match object; span=(47, 48), match='T'>\n",
      "<re.Match object; span=(48, 49), match='U'>\n",
      "<re.Match object; span=(49, 50), match='V'>\n",
      "<re.Match object; span=(50, 51), match='W'>\n",
      "<re.Match object; span=(51, 52), match='X'>\n",
      "<re.Match object; span=(52, 53), match='Y'>\n",
      "<re.Match object; span=(53, 54), match='Z'>\n",
      "<re.Match object; span=(55, 56), match='1'>\n",
      "<re.Match object; span=(56, 57), match='2'>\n",
      "<re.Match object; span=(57, 58), match='3'>\n",
      "<re.Match object; span=(58, 59), match='4'>\n",
      "<re.Match object; span=(59, 60), match='5'>\n",
      "<re.Match object; span=(60, 61), match='6'>\n",
      "<re.Match object; span=(61, 62), match='7'>\n",
      "<re.Match object; span=(62, 63), match='8'>\n",
      "<re.Match object; span=(63, 64), match='9'>\n",
      "<re.Match object; span=(64, 65), match='0'>\n",
      "<re.Match object; span=(66, 67), match='1'>\n",
      "<re.Match object; span=(67, 68), match='2'>\n",
      "<re.Match object; span=(68, 69), match='3'>\n",
      "<re.Match object; span=(69, 70), match='a'>\n",
      "<re.Match object; span=(70, 71), match='b'>\n",
      "<re.Match object; span=(71, 72), match='c'>\n",
      "<re.Match object; span=(74, 75), match='H'>\n",
      "<re.Match object; span=(75, 76), match='e'>\n",
      "<re.Match object; span=(76, 77), match='l'>\n",
      "<re.Match object; span=(77, 78), match='l'>\n",
      "<re.Match object; span=(78, 79), match='o'>\n",
      "<re.Match object; span=(79, 80), match=' '>\n",
      "<re.Match object; span=(80, 81), match='H'>\n",
      "<re.Match object; span=(81, 82), match='e'>\n",
      "<re.Match object; span=(82, 83), match='l'>\n",
      "<re.Match object; span=(83, 84), match='l'>\n",
      "<re.Match object; span=(84, 85), match='o'>\n",
      "<re.Match object; span=(85, 86), match='H'>\n",
      "<re.Match object; span=(86, 87), match='e'>\n",
      "<re.Match object; span=(87, 88), match='l'>\n",
      "<re.Match object; span=(88, 89), match='l'>\n",
      "<re.Match object; span=(89, 90), match='o'>\n",
      "<re.Match object; span=(92, 93), match='M'>\n",
      "<re.Match object; span=(93, 94), match='e'>\n",
      "<re.Match object; span=(94, 95), match='t'>\n",
      "<re.Match object; span=(95, 96), match='a'>\n",
      "<re.Match object; span=(96, 97), match='C'>\n",
      "<re.Match object; span=(97, 98), match='h'>\n",
      "<re.Match object; span=(98, 99), match='a'>\n",
      "<re.Match object; span=(99, 100), match='r'>\n",
      "<re.Match object; span=(100, 101), match='a'>\n",
      "<re.Match object; span=(101, 102), match='c'>\n",
      "<re.Match object; span=(102, 103), match='t'>\n",
      "<re.Match object; span=(103, 104), match='e'>\n",
      "<re.Match object; span=(104, 105), match='r'>\n",
      "<re.Match object; span=(105, 106), match='s'>\n",
      "<re.Match object; span=(106, 107), match=' '>\n",
      "<re.Match object; span=(107, 108), match='('>\n",
      "<re.Match object; span=(108, 109), match='N'>\n",
      "<re.Match object; span=(109, 110), match='e'>\n",
      "<re.Match object; span=(110, 111), match='e'>\n",
      "<re.Match object; span=(111, 112), match='d'>\n",
      "<re.Match object; span=(112, 113), match=' '>\n",
      "<re.Match object; span=(113, 114), match='t'>\n",
      "<re.Match object; span=(114, 115), match='o'>\n",
      "<re.Match object; span=(115, 116), match=' '>\n",
      "<re.Match object; span=(116, 117), match='b'>\n",
      "<re.Match object; span=(117, 118), match='e'>\n",
      "<re.Match object; span=(118, 119), match=' '>\n",
      "<re.Match object; span=(119, 120), match='e'>\n",
      "<re.Match object; span=(120, 121), match='s'>\n",
      "<re.Match object; span=(121, 122), match='c'>\n",
      "<re.Match object; span=(122, 123), match='a'>\n",
      "<re.Match object; span=(123, 124), match='p'>\n",
      "<re.Match object; span=(124, 125), match='e'>\n",
      "<re.Match object; span=(125, 126), match='d'>\n",
      "<re.Match object; span=(126, 127), match=')'>\n",
      "<re.Match object; span=(127, 128), match=':'>\n",
      "<re.Match object; span=(129, 130), match='.'>\n",
      "<re.Match object; span=(130, 131), match=' '>\n",
      "<re.Match object; span=(131, 132), match='^'>\n",
      "<re.Match object; span=(132, 133), match=' '>\n",
      "<re.Match object; span=(133, 134), match='$'>\n",
      "<re.Match object; span=(134, 135), match=' '>\n",
      "<re.Match object; span=(135, 136), match='*'>\n",
      "<re.Match object; span=(136, 137), match=' '>\n",
      "<re.Match object; span=(137, 138), match='+'>\n",
      "<re.Match object; span=(138, 139), match=' '>\n",
      "<re.Match object; span=(139, 140), match='?'>\n",
      "<re.Match object; span=(140, 141), match=' '>\n",
      "<re.Match object; span=(141, 142), match='{'>\n",
      "<re.Match object; span=(142, 143), match=' '>\n",
      "<re.Match object; span=(143, 144), match='}'>\n",
      "<re.Match object; span=(144, 145), match=' '>\n",
      "<re.Match object; span=(145, 146), match='['>\n",
      "<re.Match object; span=(146, 147), match=' '>\n",
      "<re.Match object; span=(147, 148), match=']'>\n",
      "<re.Match object; span=(148, 149), match=' '>\n",
      "<re.Match object; span=(149, 150), match='\\\\'>\n",
      "<re.Match object; span=(150, 151), match=' '>\n",
      "<re.Match object; span=(151, 152), match='|'>\n",
      "<re.Match object; span=(152, 153), match=' '>\n",
      "<re.Match object; span=(153, 154), match='('>\n",
      "<re.Match object; span=(154, 155), match=' '>\n",
      "<re.Match object; span=(155, 156), match=')'>\n",
      "<re.Match object; span=(158, 159), match='u'>\n",
      "<re.Match object; span=(159, 160), match='t'>\n",
      "<re.Match object; span=(160, 161), match='e'>\n",
      "<re.Match object; span=(161, 162), match='x'>\n",
      "<re.Match object; span=(162, 163), match='a'>\n",
      "<re.Match object; span=(163, 164), match='s'>\n",
      "<re.Match object; span=(164, 165), match='.'>\n",
      "<re.Match object; span=(165, 166), match='e'>\n",
      "<re.Match object; span=(166, 167), match='d'>\n",
      "<re.Match object; span=(167, 168), match='u'>\n",
      "<re.Match object; span=(170, 171), match='3'>\n",
      "<re.Match object; span=(171, 172), match='2'>\n",
      "<re.Match object; span=(172, 173), match='1'>\n",
      "<re.Match object; span=(173, 174), match='-'>\n",
      "<re.Match object; span=(174, 175), match='5'>\n",
      "<re.Match object; span=(175, 176), match='5'>\n",
      "<re.Match object; span=(176, 177), match='5'>\n",
      "<re.Match object; span=(177, 178), match='-'>\n",
      "<re.Match object; span=(178, 179), match='4'>\n",
      "<re.Match object; span=(179, 180), match='3'>\n",
      "<re.Match object; span=(180, 181), match='2'>\n",
      "<re.Match object; span=(181, 182), match='1'>\n",
      "<re.Match object; span=(183, 184), match='1'>\n",
      "<re.Match object; span=(184, 185), match='2'>\n",
      "<re.Match object; span=(185, 186), match='3'>\n",
      "<re.Match object; span=(186, 187), match='.'>\n",
      "<re.Match object; span=(187, 188), match='5'>\n",
      "<re.Match object; span=(188, 189), match='5'>\n",
      "<re.Match object; span=(189, 190), match='5'>\n",
      "<re.Match object; span=(190, 191), match='.'>\n",
      "<re.Match object; span=(191, 192), match='1'>\n",
      "<re.Match object; span=(192, 193), match='2'>\n",
      "<re.Match object; span=(193, 194), match='3'>\n",
      "<re.Match object; span=(194, 195), match='4'>\n",
      "<re.Match object; span=(197, 198), match='d'>\n",
      "<re.Match object; span=(198, 199), match='a'>\n",
      "<re.Match object; span=(199, 200), match='n'>\n",
      "<re.Match object; span=(200, 201), match='i'>\n",
      "<re.Match object; span=(201, 202), match='e'>\n",
      "<re.Match object; span=(202, 203), match='l'>\n",
      "<re.Match object; span=(203, 204), match='-'>\n",
      "<re.Match object; span=(204, 205), match='m'>\n",
      "<re.Match object; span=(205, 206), match='i'>\n",
      "<re.Match object; span=(206, 207), match='t'>\n",
      "<re.Match object; span=(207, 208), match='c'>\n",
      "<re.Match object; span=(208, 209), match='h'>\n",
      "<re.Match object; span=(209, 210), match='e'>\n",
      "<re.Match object; span=(210, 211), match='l'>\n",
      "<re.Match object; span=(211, 212), match='l'>\n",
      "<re.Match object; span=(212, 213), match='@'>\n",
      "<re.Match object; span=(213, 214), match='u'>\n",
      "<re.Match object; span=(214, 215), match='t'>\n",
      "<re.Match object; span=(215, 216), match='e'>\n",
      "<re.Match object; span=(216, 217), match='x'>\n",
      "<re.Match object; span=(217, 218), match='a'>\n",
      "<re.Match object; span=(218, 219), match='s'>\n",
      "<re.Match object; span=(219, 220), match='.'>\n",
      "<re.Match object; span=(220, 221), match='e'>\n",
      "<re.Match object; span=(221, 222), match='d'>\n",
      "<re.Match object; span=(222, 223), match='u'>\n",
      "<re.Match object; span=(225, 226), match='M'>\n",
      "<re.Match object; span=(226, 227), match='r'>\n",
      "<re.Match object; span=(227, 228), match='.'>\n",
      "<re.Match object; span=(228, 229), match=' '>\n",
      "<re.Match object; span=(229, 230), match='J'>\n",
      "<re.Match object; span=(230, 231), match='o'>\n",
      "<re.Match object; span=(231, 232), match='h'>\n",
      "<re.Match object; span=(232, 233), match='n'>\n",
      "<re.Match object; span=(233, 234), match='s'>\n",
      "<re.Match object; span=(234, 235), match='o'>\n",
      "<re.Match object; span=(235, 236), match='n'>\n",
      "<re.Match object; span=(237, 238), match='M'>\n",
      "<re.Match object; span=(238, 239), match='r'>\n",
      "<re.Match object; span=(239, 240), match=' '>\n",
      "<re.Match object; span=(240, 241), match='S'>\n",
      "<re.Match object; span=(241, 242), match='m'>\n",
      "<re.Match object; span=(242, 243), match='i'>\n",
      "<re.Match object; span=(243, 244), match='t'>\n",
      "<re.Match object; span=(244, 245), match='h'>\n",
      "<re.Match object; span=(246, 247), match='M'>\n",
      "<re.Match object; span=(247, 248), match='s'>\n",
      "<re.Match object; span=(248, 249), match=' '>\n",
      "<re.Match object; span=(249, 250), match='D'>\n",
      "<re.Match object; span=(250, 251), match='a'>\n",
      "<re.Match object; span=(251, 252), match='v'>\n",
      "<re.Match object; span=(252, 253), match='i'>\n",
      "<re.Match object; span=(253, 254), match='s'>\n",
      "<re.Match object; span=(255, 256), match='M'>\n",
      "<re.Match object; span=(256, 257), match='r'>\n",
      "<re.Match object; span=(257, 258), match='s'>\n",
      "<re.Match object; span=(258, 259), match='.'>\n",
      "<re.Match object; span=(259, 260), match=' '>\n",
      "<re.Match object; span=(260, 261), match='R'>\n",
      "<re.Match object; span=(261, 262), match='o'>\n",
      "<re.Match object; span=(262, 263), match='b'>\n",
      "<re.Match object; span=(263, 264), match='i'>\n",
      "<re.Match object; span=(264, 265), match='n'>\n",
      "<re.Match object; span=(265, 266), match='s'>\n",
      "<re.Match object; span=(266, 267), match='o'>\n",
      "<re.Match object; span=(267, 268), match='n'>\n",
      "<re.Match object; span=(269, 270), match='M'>\n",
      "<re.Match object; span=(270, 271), match='r'>\n",
      "<re.Match object; span=(271, 272), match='.'>\n",
      "<re.Match object; span=(272, 273), match=' '>\n",
      "<re.Match object; span=(273, 274), match='T'>\n"
     ]
    }
   ],
   "source": [
    "pattern = re.compile(r'.')\n",
    "matches = pattern.finditer(text_to_search)\n",
    "for mat in matches:\n",
    "    print(mat)"
   ]
  },
  {
   "cell_type": "code",
   "execution_count": 9,
   "metadata": {},
   "outputs": [
    {
     "name": "stdout",
     "output_type": "stream",
     "text": [
      "<re.Match object; span=(129, 130), match='.'>\n",
      "<re.Match object; span=(164, 165), match='.'>\n",
      "<re.Match object; span=(186, 187), match='.'>\n",
      "<re.Match object; span=(190, 191), match='.'>\n",
      "<re.Match object; span=(219, 220), match='.'>\n",
      "<re.Match object; span=(227, 228), match='.'>\n",
      "<re.Match object; span=(258, 259), match='.'>\n",
      "<re.Match object; span=(271, 272), match='.'>\n"
     ]
    }
   ],
   "source": [
    "pattern = re.compile(r'\\.')\n",
    "matches = pattern.finditer(text_to_search)\n",
    "for mat in matches:\n",
    "    print(mat)"
   ]
  },
  {
   "cell_type": "code",
   "execution_count": 10,
   "metadata": {},
   "outputs": [
    {
     "name": "stdout",
     "output_type": "stream",
     "text": [
      "<re.Match object; span=(55, 56), match='1'>\n",
      "<re.Match object; span=(56, 57), match='2'>\n",
      "<re.Match object; span=(57, 58), match='3'>\n",
      "<re.Match object; span=(58, 59), match='4'>\n",
      "<re.Match object; span=(59, 60), match='5'>\n",
      "<re.Match object; span=(60, 61), match='6'>\n",
      "<re.Match object; span=(61, 62), match='7'>\n",
      "<re.Match object; span=(62, 63), match='8'>\n",
      "<re.Match object; span=(63, 64), match='9'>\n",
      "<re.Match object; span=(64, 65), match='0'>\n",
      "<re.Match object; span=(66, 67), match='1'>\n",
      "<re.Match object; span=(67, 68), match='2'>\n",
      "<re.Match object; span=(68, 69), match='3'>\n",
      "<re.Match object; span=(170, 171), match='3'>\n",
      "<re.Match object; span=(171, 172), match='2'>\n",
      "<re.Match object; span=(172, 173), match='1'>\n",
      "<re.Match object; span=(174, 175), match='5'>\n",
      "<re.Match object; span=(175, 176), match='5'>\n",
      "<re.Match object; span=(176, 177), match='5'>\n",
      "<re.Match object; span=(178, 179), match='4'>\n",
      "<re.Match object; span=(179, 180), match='3'>\n",
      "<re.Match object; span=(180, 181), match='2'>\n",
      "<re.Match object; span=(181, 182), match='1'>\n",
      "<re.Match object; span=(183, 184), match='1'>\n",
      "<re.Match object; span=(184, 185), match='2'>\n",
      "<re.Match object; span=(185, 186), match='3'>\n",
      "<re.Match object; span=(187, 188), match='5'>\n",
      "<re.Match object; span=(188, 189), match='5'>\n",
      "<re.Match object; span=(189, 190), match='5'>\n",
      "<re.Match object; span=(191, 192), match='1'>\n",
      "<re.Match object; span=(192, 193), match='2'>\n",
      "<re.Match object; span=(193, 194), match='3'>\n",
      "<re.Match object; span=(194, 195), match='4'>\n"
     ]
    }
   ],
   "source": [
    "pattern = re.compile(r'\\d')\n",
    "matches = pattern.finditer(text_to_search)\n",
    "for mat in matches:\n",
    "    print(mat)"
   ]
  },
  {
   "cell_type": "code",
   "execution_count": 11,
   "metadata": {},
   "outputs": [
    {
     "name": "stdout",
     "output_type": "stream",
     "text": [
      "<re.Match object; span=(0, 1), match='\\n'>\n",
      "<re.Match object; span=(1, 2), match='a'>\n",
      "<re.Match object; span=(2, 3), match='b'>\n",
      "<re.Match object; span=(3, 4), match='c'>\n",
      "<re.Match object; span=(4, 5), match='d'>\n",
      "<re.Match object; span=(5, 6), match='e'>\n",
      "<re.Match object; span=(6, 7), match='f'>\n",
      "<re.Match object; span=(7, 8), match='g'>\n",
      "<re.Match object; span=(8, 9), match='h'>\n",
      "<re.Match object; span=(9, 10), match='i'>\n",
      "<re.Match object; span=(10, 11), match='j'>\n",
      "<re.Match object; span=(11, 12), match='k'>\n",
      "<re.Match object; span=(12, 13), match='l'>\n",
      "<re.Match object; span=(13, 14), match='m'>\n",
      "<re.Match object; span=(14, 15), match='n'>\n",
      "<re.Match object; span=(15, 16), match='o'>\n",
      "<re.Match object; span=(16, 17), match='p'>\n",
      "<re.Match object; span=(17, 18), match='q'>\n",
      "<re.Match object; span=(18, 19), match='u'>\n",
      "<re.Match object; span=(19, 20), match='r'>\n",
      "<re.Match object; span=(20, 21), match='t'>\n",
      "<re.Match object; span=(21, 22), match='u'>\n",
      "<re.Match object; span=(22, 23), match='v'>\n",
      "<re.Match object; span=(23, 24), match='w'>\n",
      "<re.Match object; span=(24, 25), match='x'>\n",
      "<re.Match object; span=(25, 26), match='y'>\n",
      "<re.Match object; span=(26, 27), match='z'>\n",
      "<re.Match object; span=(27, 28), match='\\n'>\n",
      "<re.Match object; span=(28, 29), match='A'>\n",
      "<re.Match object; span=(29, 30), match='B'>\n",
      "<re.Match object; span=(30, 31), match='C'>\n",
      "<re.Match object; span=(31, 32), match='D'>\n",
      "<re.Match object; span=(32, 33), match='E'>\n",
      "<re.Match object; span=(33, 34), match='F'>\n",
      "<re.Match object; span=(34, 35), match='G'>\n",
      "<re.Match object; span=(35, 36), match='H'>\n",
      "<re.Match object; span=(36, 37), match='I'>\n",
      "<re.Match object; span=(37, 38), match='J'>\n",
      "<re.Match object; span=(38, 39), match='K'>\n",
      "<re.Match object; span=(39, 40), match='L'>\n",
      "<re.Match object; span=(40, 41), match='M'>\n",
      "<re.Match object; span=(41, 42), match='N'>\n",
      "<re.Match object; span=(42, 43), match='O'>\n",
      "<re.Match object; span=(43, 44), match='P'>\n",
      "<re.Match object; span=(44, 45), match='Q'>\n",
      "<re.Match object; span=(45, 46), match='R'>\n",
      "<re.Match object; span=(46, 47), match='S'>\n",
      "<re.Match object; span=(47, 48), match='T'>\n",
      "<re.Match object; span=(48, 49), match='U'>\n",
      "<re.Match object; span=(49, 50), match='V'>\n",
      "<re.Match object; span=(50, 51), match='W'>\n",
      "<re.Match object; span=(51, 52), match='X'>\n",
      "<re.Match object; span=(52, 53), match='Y'>\n",
      "<re.Match object; span=(53, 54), match='Z'>\n",
      "<re.Match object; span=(54, 55), match='\\n'>\n",
      "<re.Match object; span=(65, 66), match='\\n'>\n",
      "<re.Match object; span=(69, 70), match='a'>\n",
      "<re.Match object; span=(70, 71), match='b'>\n",
      "<re.Match object; span=(71, 72), match='c'>\n",
      "<re.Match object; span=(72, 73), match='\\n'>\n",
      "<re.Match object; span=(73, 74), match='\\n'>\n",
      "<re.Match object; span=(74, 75), match='H'>\n",
      "<re.Match object; span=(75, 76), match='e'>\n",
      "<re.Match object; span=(76, 77), match='l'>\n",
      "<re.Match object; span=(77, 78), match='l'>\n",
      "<re.Match object; span=(78, 79), match='o'>\n",
      "<re.Match object; span=(79, 80), match=' '>\n",
      "<re.Match object; span=(80, 81), match='H'>\n",
      "<re.Match object; span=(81, 82), match='e'>\n",
      "<re.Match object; span=(82, 83), match='l'>\n",
      "<re.Match object; span=(83, 84), match='l'>\n",
      "<re.Match object; span=(84, 85), match='o'>\n",
      "<re.Match object; span=(85, 86), match='H'>\n",
      "<re.Match object; span=(86, 87), match='e'>\n",
      "<re.Match object; span=(87, 88), match='l'>\n",
      "<re.Match object; span=(88, 89), match='l'>\n",
      "<re.Match object; span=(89, 90), match='o'>\n",
      "<re.Match object; span=(90, 91), match='\\n'>\n",
      "<re.Match object; span=(91, 92), match='\\n'>\n",
      "<re.Match object; span=(92, 93), match='M'>\n",
      "<re.Match object; span=(93, 94), match='e'>\n",
      "<re.Match object; span=(94, 95), match='t'>\n",
      "<re.Match object; span=(95, 96), match='a'>\n",
      "<re.Match object; span=(96, 97), match='C'>\n",
      "<re.Match object; span=(97, 98), match='h'>\n",
      "<re.Match object; span=(98, 99), match='a'>\n",
      "<re.Match object; span=(99, 100), match='r'>\n",
      "<re.Match object; span=(100, 101), match='a'>\n",
      "<re.Match object; span=(101, 102), match='c'>\n",
      "<re.Match object; span=(102, 103), match='t'>\n",
      "<re.Match object; span=(103, 104), match='e'>\n",
      "<re.Match object; span=(104, 105), match='r'>\n",
      "<re.Match object; span=(105, 106), match='s'>\n",
      "<re.Match object; span=(106, 107), match=' '>\n",
      "<re.Match object; span=(107, 108), match='('>\n",
      "<re.Match object; span=(108, 109), match='N'>\n",
      "<re.Match object; span=(109, 110), match='e'>\n",
      "<re.Match object; span=(110, 111), match='e'>\n",
      "<re.Match object; span=(111, 112), match='d'>\n",
      "<re.Match object; span=(112, 113), match=' '>\n",
      "<re.Match object; span=(113, 114), match='t'>\n",
      "<re.Match object; span=(114, 115), match='o'>\n",
      "<re.Match object; span=(115, 116), match=' '>\n",
      "<re.Match object; span=(116, 117), match='b'>\n",
      "<re.Match object; span=(117, 118), match='e'>\n",
      "<re.Match object; span=(118, 119), match=' '>\n",
      "<re.Match object; span=(119, 120), match='e'>\n",
      "<re.Match object; span=(120, 121), match='s'>\n",
      "<re.Match object; span=(121, 122), match='c'>\n",
      "<re.Match object; span=(122, 123), match='a'>\n",
      "<re.Match object; span=(123, 124), match='p'>\n",
      "<re.Match object; span=(124, 125), match='e'>\n",
      "<re.Match object; span=(125, 126), match='d'>\n",
      "<re.Match object; span=(126, 127), match=')'>\n",
      "<re.Match object; span=(127, 128), match=':'>\n",
      "<re.Match object; span=(128, 129), match='\\n'>\n",
      "<re.Match object; span=(129, 130), match='.'>\n",
      "<re.Match object; span=(130, 131), match=' '>\n",
      "<re.Match object; span=(131, 132), match='^'>\n",
      "<re.Match object; span=(132, 133), match=' '>\n",
      "<re.Match object; span=(133, 134), match='$'>\n",
      "<re.Match object; span=(134, 135), match=' '>\n",
      "<re.Match object; span=(135, 136), match='*'>\n",
      "<re.Match object; span=(136, 137), match=' '>\n",
      "<re.Match object; span=(137, 138), match='+'>\n",
      "<re.Match object; span=(138, 139), match=' '>\n",
      "<re.Match object; span=(139, 140), match='?'>\n",
      "<re.Match object; span=(140, 141), match=' '>\n",
      "<re.Match object; span=(141, 142), match='{'>\n",
      "<re.Match object; span=(142, 143), match=' '>\n",
      "<re.Match object; span=(143, 144), match='}'>\n",
      "<re.Match object; span=(144, 145), match=' '>\n",
      "<re.Match object; span=(145, 146), match='['>\n",
      "<re.Match object; span=(146, 147), match=' '>\n",
      "<re.Match object; span=(147, 148), match=']'>\n",
      "<re.Match object; span=(148, 149), match=' '>\n",
      "<re.Match object; span=(149, 150), match='\\\\'>\n",
      "<re.Match object; span=(150, 151), match=' '>\n",
      "<re.Match object; span=(151, 152), match='|'>\n",
      "<re.Match object; span=(152, 153), match=' '>\n",
      "<re.Match object; span=(153, 154), match='('>\n",
      "<re.Match object; span=(154, 155), match=' '>\n",
      "<re.Match object; span=(155, 156), match=')'>\n",
      "<re.Match object; span=(156, 157), match='\\n'>\n",
      "<re.Match object; span=(157, 158), match='\\n'>\n",
      "<re.Match object; span=(158, 159), match='u'>\n",
      "<re.Match object; span=(159, 160), match='t'>\n",
      "<re.Match object; span=(160, 161), match='e'>\n",
      "<re.Match object; span=(161, 162), match='x'>\n",
      "<re.Match object; span=(162, 163), match='a'>\n",
      "<re.Match object; span=(163, 164), match='s'>\n",
      "<re.Match object; span=(164, 165), match='.'>\n",
      "<re.Match object; span=(165, 166), match='e'>\n",
      "<re.Match object; span=(166, 167), match='d'>\n",
      "<re.Match object; span=(167, 168), match='u'>\n",
      "<re.Match object; span=(168, 169), match='\\n'>\n",
      "<re.Match object; span=(169, 170), match='\\n'>\n",
      "<re.Match object; span=(173, 174), match='-'>\n",
      "<re.Match object; span=(177, 178), match='-'>\n",
      "<re.Match object; span=(182, 183), match='\\n'>\n",
      "<re.Match object; span=(186, 187), match='.'>\n",
      "<re.Match object; span=(190, 191), match='.'>\n",
      "<re.Match object; span=(195, 196), match='\\n'>\n",
      "<re.Match object; span=(196, 197), match='\\n'>\n",
      "<re.Match object; span=(197, 198), match='d'>\n",
      "<re.Match object; span=(198, 199), match='a'>\n",
      "<re.Match object; span=(199, 200), match='n'>\n",
      "<re.Match object; span=(200, 201), match='i'>\n",
      "<re.Match object; span=(201, 202), match='e'>\n",
      "<re.Match object; span=(202, 203), match='l'>\n",
      "<re.Match object; span=(203, 204), match='-'>\n",
      "<re.Match object; span=(204, 205), match='m'>\n",
      "<re.Match object; span=(205, 206), match='i'>\n",
      "<re.Match object; span=(206, 207), match='t'>\n",
      "<re.Match object; span=(207, 208), match='c'>\n",
      "<re.Match object; span=(208, 209), match='h'>\n",
      "<re.Match object; span=(209, 210), match='e'>\n",
      "<re.Match object; span=(210, 211), match='l'>\n",
      "<re.Match object; span=(211, 212), match='l'>\n",
      "<re.Match object; span=(212, 213), match='@'>\n",
      "<re.Match object; span=(213, 214), match='u'>\n",
      "<re.Match object; span=(214, 215), match='t'>\n",
      "<re.Match object; span=(215, 216), match='e'>\n",
      "<re.Match object; span=(216, 217), match='x'>\n",
      "<re.Match object; span=(217, 218), match='a'>\n",
      "<re.Match object; span=(218, 219), match='s'>\n",
      "<re.Match object; span=(219, 220), match='.'>\n",
      "<re.Match object; span=(220, 221), match='e'>\n",
      "<re.Match object; span=(221, 222), match='d'>\n",
      "<re.Match object; span=(222, 223), match='u'>\n",
      "<re.Match object; span=(223, 224), match='\\n'>\n",
      "<re.Match object; span=(224, 225), match='\\n'>\n",
      "<re.Match object; span=(225, 226), match='M'>\n",
      "<re.Match object; span=(226, 227), match='r'>\n",
      "<re.Match object; span=(227, 228), match='.'>\n",
      "<re.Match object; span=(228, 229), match=' '>\n",
      "<re.Match object; span=(229, 230), match='J'>\n",
      "<re.Match object; span=(230, 231), match='o'>\n",
      "<re.Match object; span=(231, 232), match='h'>\n",
      "<re.Match object; span=(232, 233), match='n'>\n",
      "<re.Match object; span=(233, 234), match='s'>\n",
      "<re.Match object; span=(234, 235), match='o'>\n",
      "<re.Match object; span=(235, 236), match='n'>\n",
      "<re.Match object; span=(236, 237), match='\\n'>\n",
      "<re.Match object; span=(237, 238), match='M'>\n",
      "<re.Match object; span=(238, 239), match='r'>\n",
      "<re.Match object; span=(239, 240), match=' '>\n",
      "<re.Match object; span=(240, 241), match='S'>\n",
      "<re.Match object; span=(241, 242), match='m'>\n",
      "<re.Match object; span=(242, 243), match='i'>\n",
      "<re.Match object; span=(243, 244), match='t'>\n",
      "<re.Match object; span=(244, 245), match='h'>\n",
      "<re.Match object; span=(245, 246), match='\\n'>\n",
      "<re.Match object; span=(246, 247), match='M'>\n",
      "<re.Match object; span=(247, 248), match='s'>\n",
      "<re.Match object; span=(248, 249), match=' '>\n",
      "<re.Match object; span=(249, 250), match='D'>\n",
      "<re.Match object; span=(250, 251), match='a'>\n",
      "<re.Match object; span=(251, 252), match='v'>\n",
      "<re.Match object; span=(252, 253), match='i'>\n",
      "<re.Match object; span=(253, 254), match='s'>\n",
      "<re.Match object; span=(254, 255), match='\\n'>\n",
      "<re.Match object; span=(255, 256), match='M'>\n",
      "<re.Match object; span=(256, 257), match='r'>\n",
      "<re.Match object; span=(257, 258), match='s'>\n",
      "<re.Match object; span=(258, 259), match='.'>\n",
      "<re.Match object; span=(259, 260), match=' '>\n",
      "<re.Match object; span=(260, 261), match='R'>\n",
      "<re.Match object; span=(261, 262), match='o'>\n",
      "<re.Match object; span=(262, 263), match='b'>\n",
      "<re.Match object; span=(263, 264), match='i'>\n",
      "<re.Match object; span=(264, 265), match='n'>\n",
      "<re.Match object; span=(265, 266), match='s'>\n",
      "<re.Match object; span=(266, 267), match='o'>\n",
      "<re.Match object; span=(267, 268), match='n'>\n",
      "<re.Match object; span=(268, 269), match='\\n'>\n",
      "<re.Match object; span=(269, 270), match='M'>\n",
      "<re.Match object; span=(270, 271), match='r'>\n",
      "<re.Match object; span=(271, 272), match='.'>\n",
      "<re.Match object; span=(272, 273), match=' '>\n",
      "<re.Match object; span=(273, 274), match='T'>\n",
      "<re.Match object; span=(274, 275), match='\\n'>\n"
     ]
    }
   ],
   "source": [
    "pattern = re.compile(r'\\D')\n",
    "matches = pattern.finditer(text_to_search)\n",
    "for mat in matches:\n",
    "    print(mat)"
   ]
  },
  {
   "cell_type": "code",
   "execution_count": null,
   "metadata": {},
   "outputs": [],
   "source": [
    "pattern = re.compile(r'\\d\\w')\n",
    "matches = pattern.finditer(text_to_search)\n",
    "for mat in matches:\n",
    "    print(mat)"
   ]
  },
  {
   "cell_type": "code",
   "execution_count": null,
   "metadata": {},
   "outputs": [],
   "source": [
    "pattern = re.compile(r'\\d\\s')\n",
    "matches = pattern.finditer(text_to_search)\n",
    "for mat in matches:\n",
    "    print(mat)"
   ]
  },
  {
   "cell_type": "markdown",
   "metadata": {},
   "source": [
    "## Word boundary"
   ]
  },
  {
   "cell_type": "code",
   "execution_count": null,
   "metadata": {},
   "outputs": [],
   "source": [
    "# Hello HelloHello\n",
    "pattern = re.compile(r'Hello')\n",
    "matches = pattern.finditer(text_to_search)\n",
    "for mat in matches:\n",
    "    print(mat)"
   ]
  },
  {
   "cell_type": "code",
   "execution_count": null,
   "metadata": {},
   "outputs": [],
   "source": [
    "pattern = re.compile(r'Hello\\b')\n",
    "matches = pattern.finditer(text_to_search)\n",
    "for mat in matches:\n",
    "    print(mat)"
   ]
  },
  {
   "cell_type": "code",
   "execution_count": null,
   "metadata": {},
   "outputs": [],
   "source": [
    "pattern = re.compile(r'\\bHello\\b')\n",
    "matches = pattern.finditer(text_to_search)\n",
    "for mat in matches:\n",
    "    print(mat)"
   ]
  },
  {
   "cell_type": "code",
   "execution_count": null,
   "metadata": {},
   "outputs": [],
   "source": [
    "pattern = re.compile(r'\\BHello\\b')\n",
    "matches = pattern.finditer(text_to_search)\n",
    "for mat in matches:\n",
    "    print(mat)"
   ]
  },
  {
   "cell_type": "code",
   "execution_count": null,
   "metadata": {
    "scrolled": true
   },
   "outputs": [],
   "source": [
    "pattern = re.compile(r'\\b\\d')\n",
    "matches = pattern.finditer(text_to_search)\n",
    "for mat in matches:\n",
    "    print(mat)"
   ]
  },
  {
   "cell_type": "code",
   "execution_count": null,
   "metadata": {},
   "outputs": [],
   "source": [
    "pattern = re.compile(r'^\\s')\n",
    "matches = pattern.finditer(text_to_search)\n",
    "for mat in matches:\n",
    "    print(mat)"
   ]
  },
  {
   "cell_type": "markdown",
   "metadata": {},
   "source": [
    "## Character sets"
   ]
  },
  {
   "cell_type": "code",
   "execution_count": null,
   "metadata": {},
   "outputs": [],
   "source": [
    "pattern = re.compile(r'[123]\\w')\n",
    "matches = pattern.finditer(text_to_search)\n",
    "for mat in matches:\n",
    "    print(mat)"
   ]
  },
  {
   "cell_type": "code",
   "execution_count": null,
   "metadata": {},
   "outputs": [],
   "source": [
    "pattern = re.compile(r'[a-z][a-z]')\n",
    "matches = pattern.finditer(text_to_search)\n",
    "for mat in matches:\n",
    "    print(mat)"
   ]
  },
  {
   "cell_type": "code",
   "execution_count": null,
   "metadata": {},
   "outputs": [],
   "source": [
    "pattern = re.compile(r'[a-zA-Z0-9][a-zA-Z-]')\n",
    "matches = pattern.finditer(text_to_search)\n",
    "for mat in matches:\n",
    "    print(mat)"
   ]
  },
  {
   "cell_type": "code",
   "execution_count": null,
   "metadata": {},
   "outputs": [],
   "source": [
    "pattern = re.compile(r'[a-zA-Z][^a-zA-Z]')\n",
    "matches = pattern.finditer(text_to_search)\n",
    "for mat in matches:\n",
    "    print(mat)"
   ]
  },
  {
   "cell_type": "markdown",
   "metadata": {},
   "source": [
    "## Character groups"
   ]
  },
  {
   "cell_type": "code",
   "execution_count": null,
   "metadata": {},
   "outputs": [],
   "source": [
    "pattern = re.compile(r'(abc|edu|texas)\\b')\n",
    "matches = pattern.finditer(text_to_search)\n",
    "for mat in matches:\n",
    "    print(mat)"
   ]
  },
  {
   "cell_type": "code",
   "execution_count": null,
   "metadata": {},
   "outputs": [],
   "source": [
    "pattern = re.compile(r'([A-Z]|llo)[a-zA-Z]')\n",
    "matches = pattern.finditer(text_to_search)\n",
    "for mat in matches:\n",
    "    print(mat)"
   ]
  },
  {
   "cell_type": "markdown",
   "metadata": {},
   "source": [
    "## Quantifiers"
   ]
  },
  {
   "cell_type": "code",
   "execution_count": null,
   "metadata": {},
   "outputs": [],
   "source": [
    "pattern = re.compile(r'Mr\\.?\\s[A-Z]')\n",
    "matches = pattern.finditer(text_to_search)\n",
    "for mat in matches:\n",
    "    print(mat)"
   ]
  },
  {
   "cell_type": "code",
   "execution_count": null,
   "metadata": {},
   "outputs": [],
   "source": [
    "pattern = re.compile(r'Mr\\.?\\s[A-Z][a-z]*')\n",
    "matches = pattern.finditer(text_to_search)\n",
    "for mat in matches:\n",
    "    print(mat)"
   ]
  },
  {
   "cell_type": "code",
   "execution_count": null,
   "metadata": {},
   "outputs": [],
   "source": [
    "pattern = re.compile(r'M(s|rs)\\.?\\s[A-Z][a-z]*')\n",
    "matches = pattern.finditer(text_to_search)\n",
    "for mat in matches:\n",
    "    print(mat)"
   ]
  },
  {
   "cell_type": "code",
   "execution_count": null,
   "metadata": {},
   "outputs": [],
   "source": [
    "pattern = re.compile(r'\\d{3}[.-]\\d{3}[.-]\\d{4}')\n",
    "matches = pattern.finditer(text_to_search)\n",
    "for mat in matches:\n",
    "    print(mat)"
   ]
  },
  {
   "cell_type": "code",
   "execution_count": null,
   "metadata": {},
   "outputs": [],
   "source": [
    "pattern = re.compile(r'[a-zA-Z0-9_]+\\.[a-z]{3}')\n",
    "matches = pattern.finditer(text_to_search)\n",
    "for mat in matches:\n",
    "    print(mat)"
   ]
  },
  {
   "cell_type": "code",
   "execution_count": null,
   "metadata": {},
   "outputs": [],
   "source": [
    "pattern = re.compile(r'[a-zA-Z0-9_.+-]+@[a-zA-Z0-9-]+\\.[a-zA-Z0-9-.]+')\n",
    "matches = pattern.finditer(text_to_search)\n",
    "for mat in matches:\n",
    "    print(mat)"
   ]
  },
  {
   "cell_type": "markdown",
   "metadata": {},
   "source": [
    "## Accessing information in the Match object"
   ]
  },
  {
   "cell_type": "code",
   "execution_count": null,
   "metadata": {},
   "outputs": [],
   "source": [
    "\n",
    "pattern = re.compile(r'[a-zA-Z0-9_.+-]+@[a-zA-Z0-9-]+\\.[a-zA-Z0-9-.]{2,4}')\n",
    "matches = pattern.finditer(text_to_search)\n",
    "for mat in matches:\n",
    "    print(mat.span(0))\n",
    "    print(mat.group(0))\n",
    "    print(text_to_search[mat.span(0)[0]:mat.span(0)[1]])\n",
    "    \n",
    "    \n"
   ]
  },
  {
   "cell_type": "code",
   "execution_count": null,
   "metadata": {},
   "outputs": [],
   "source": [
    "urls = r'''\n",
    "https://www.google.com\n",
    "http://yahoo.com\n",
    "https://www.whitehouse.gov\n",
    "https://craigslist.org\n",
    "'''"
   ]
  },
  {
   "cell_type": "code",
   "execution_count": null,
   "metadata": {},
   "outputs": [],
   "source": [
    "pattern = re.compile(r'https?://(www\\.)?\\w+\\.\\w+')\n",
    "matches = pattern.finditer(urls)\n",
    "for mat in matches:\n",
    "    print(mat)"
   ]
  },
  {
   "cell_type": "code",
   "execution_count": null,
   "metadata": {},
   "outputs": [],
   "source": [
    "pattern = re.compile(r'https?://(www\\.)?(\\w+)(\\.\\w+)')\n",
    "matches = pattern.finditer(urls)\n",
    "for mat in matches:\n",
    "    print(mat.group(2)+mat.group(3))"
   ]
  },
  {
   "cell_type": "code",
   "execution_count": null,
   "metadata": {},
   "outputs": [],
   "source": [
    "pattern = re.compile(r'https?://(www\\.)?(\\w+)(\\.\\w+)')\n",
    "matches = pattern.finditer(urls)\n",
    "for mat in matches:\n",
    "    print(mat.group(0))\n",
    "    print(urls[mat.span(2)[0]:mat.span(2)[1]]+urls[mat.span(3)[0]:mat.span(3)[1]])"
   ]
  },
  {
   "cell_type": "code",
   "execution_count": null,
   "metadata": {},
   "outputs": [],
   "source": []
  }
 ],
 "metadata": {
  "kernelspec": {
   "display_name": "Python 3",
   "language": "python",
   "name": "python3"
  },
  "language_info": {
   "codemirror_mode": {
    "name": "ipython",
    "version": 3
   },
   "file_extension": ".py",
   "mimetype": "text/x-python",
   "name": "python",
   "nbconvert_exporter": "python",
   "pygments_lexer": "ipython3",
   "version": "3.8.8"
  }
 },
 "nbformat": 4,
 "nbformat_minor": 2
}
