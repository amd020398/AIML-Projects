{
 "cells": [
  {
   "cell_type": "markdown",
   "metadata": {},
   "source": [
    "Proprietary content. ©Great Learning. All Rights Reserved. Unauthorized use or distribution prohibited"
   ]
  },
  {
   "cell_type": "code",
   "execution_count": 0,
   "metadata": {
    "colab": {},
    "colab_type": "code",
    "id": "Y0BuWAMfbeb2"
   },
   "outputs": [],
   "source": [
    "# Source: https://github.com/akshaysharma096/Siamese-Networks\n",
    "# License: MIT License"
   ]
  },
  {
   "cell_type": "markdown",
   "metadata": {
    "colab_type": "text",
    "id": "bA1XMN2df42k"
   },
   "source": [
    "# Few Shot Learning\n",
    "\n",
    "---\n",
    "\n"
   ]
  },
  {
   "cell_type": "markdown",
   "metadata": {
    "colab_type": "text",
    "id": "tRLFL09MRb8H"
   },
   "source": [
    "# Omniglot data set for one-shot learning"
   ]
  },
  {
   "cell_type": "markdown",
   "metadata": {
    "colab_type": "text",
    "id": "U4dwjHmSSEKu"
   },
   "source": [
    "The Omniglot data set is designed for developing more human-like learning algorithms. It contains 1623 different handwritten characters from 50 different alphabets. Each of the 1623 characters was drawn online via Amazon's Mechanical Turk by 20 different people. Each image is paired with stroke data, a sequences of [x,y,t] coordinates with time (t) in milliseconds.\n",
    "\n",
    "### Contents\n",
    "The Omniglot data set contains 50 alphabets. We split these into a background set of 30 alphabets and an evaluation set of 20 alphabets. To compare with the results with the paper, only the background set should be used to learn general knowledge about characters (e.g., feature learning, meta-learning, or hyperparameter inference). One-shot learning results are reported using alphabets from the evaluation set.\n",
    "\n",
    "Two more challenging \"minimal\" splits contain only five background alphabets, denoted as \"background small 1\" and \"background small 2\". This is a closer approximation to the experience that a human adult might have for characters in general. For the goal of building human-level AI systems with minimal training, given a rough estimate of what \"minimal\" means for people, there is a need to explore settings with fewer training examples per class and fewer background classes for learning to learn.\n",
    "\n",
    "- Link to paper: https://science.sciencemag.org/content/350/6266/1332\n",
    "- Link to dataset: https://github.com/brendenlake/omniglot"
   ]
  },
  {
   "cell_type": "markdown",
   "metadata": {
    "colab_type": "text",
    "id": "ZOk8Eu4_t70R"
   },
   "source": [
    "Firstly, let's select TensorFlow version 2.x in colab"
   ]
  },
  {
   "cell_type": "code",
   "execution_count": 30,
   "metadata": {
    "colab": {
     "base_uri": "https://localhost:8080/",
     "height": 34
    },
    "colab_type": "code",
    "executionInfo": {
     "elapsed": 859,
     "status": "ok",
     "timestamp": 1581592978403,
     "user": {
      "displayName": "Suryansh Sharma",
      "photoUrl": "https://lh3.googleusercontent.com/a-/AAuE7mBy1CGO0PDyRG1nsJ6rDaUXBg-h18OkEJ86htszrw=s64",
      "userId": "03232072030227591914"
     },
     "user_tz": -330
    },
    "id": "H6RZUm0p4wYJ",
    "outputId": "37756901-b017-4894-94f7-f5eb60212a8c"
   },
   "outputs": [
    {
     "data": {
      "text/plain": [
       "'2.1.0'"
      ]
     },
     "execution_count": 30,
     "metadata": {
      "tags": []
     },
     "output_type": "execute_result"
    }
   ],
   "source": [
    "%tensorflow_version 2.x\n",
    "import tensorflow\n",
    "tensorflow.__version__"
   ]
  },
  {
   "cell_type": "code",
   "execution_count": 0,
   "metadata": {
    "colab": {},
    "colab_type": "code",
    "id": "TWi96z-8SyX0"
   },
   "outputs": [],
   "source": [
    "# Initialize the random number generator\n",
    "import random\n",
    "random.seed(0)\n",
    "\n",
    "# Ignore the warnings\n",
    "import warnings\n",
    "warnings.filterwarnings(\"ignore\")"
   ]
  },
  {
   "cell_type": "markdown",
   "metadata": {
    "colab_type": "text",
    "id": "OKVkkLaLdPGU"
   },
   "source": [
    "### Load the dataset"
   ]
  },
  {
   "cell_type": "markdown",
   "metadata": {
    "colab_type": "text",
    "id": "JK0ZRJoxhrFe"
   },
   "source": [
    "As we are using google colab, we need to mount the google drive to load the data file"
   ]
  },
  {
   "cell_type": "code",
   "execution_count": 32,
   "metadata": {
    "colab": {
     "base_uri": "https://localhost:8080/",
     "height": 34
    },
    "colab_type": "code",
    "executionInfo": {
     "elapsed": 870,
     "status": "ok",
     "timestamp": 1581592991169,
     "user": {
      "displayName": "Suryansh Sharma",
      "photoUrl": "https://lh3.googleusercontent.com/a-/AAuE7mBy1CGO0PDyRG1nsJ6rDaUXBg-h18OkEJ86htszrw=s64",
      "userId": "03232072030227591914"
     },
     "user_tz": -330
    },
    "id": "dv6RCAcGLd4w",
    "outputId": "70eed3c1-dd77-45c9-c164-a8a256596ba5"
   },
   "outputs": [
    {
     "name": "stdout",
     "output_type": "stream",
     "text": [
      "Drive already mounted at /content/drive/; to attempt to forcibly remount, call drive.mount(\"/content/drive/\", force_remount=True).\n"
     ]
    }
   ],
   "source": [
    "from google.colab import drive\n",
    "drive.mount('/content/drive/')"
   ]
  },
  {
   "cell_type": "markdown",
   "metadata": {
    "colab_type": "text",
    "id": "3gqIEcuK-gqQ"
   },
   "source": [
    "Add path to the folder where your dataset files are"
   ]
  },
  {
   "cell_type": "code",
   "execution_count": 0,
   "metadata": {
    "colab": {},
    "colab_type": "code",
    "id": "fzXrTG6fLqw4"
   },
   "outputs": [],
   "source": [
    "project_path = '/content/drive/My Drive/CV/AIML 2.0 Class/CV/Week6/'"
   ]
  },
  {
   "cell_type": "markdown",
   "metadata": {
    "colab_type": "text",
    "id": "1FOfBTnoBjYi"
   },
   "source": [
    "Let's load the dataset now"
   ]
  },
  {
   "cell_type": "code",
   "execution_count": 0,
   "metadata": {
    "colab": {},
    "colab_type": "code",
    "id": "PrXGB_RORiXN"
   },
   "outputs": [],
   "source": [
    "training_zip_path = project_path + 'images_background.zip'\n",
    "validation_zip_path = project_path + 'images_evaluation.zip'"
   ]
  },
  {
   "cell_type": "markdown",
   "metadata": {
    "colab_type": "text",
    "id": "2uX9VNVfR2p3"
   },
   "source": [
    "Extract the content of the zip files"
   ]
  },
  {
   "cell_type": "code",
   "execution_count": 35,
   "metadata": {
    "colab": {
     "base_uri": "https://localhost:8080/",
     "height": 52
    },
    "colab_type": "code",
    "executionInfo": {
     "elapsed": 4033,
     "status": "ok",
     "timestamp": 1581593006300,
     "user": {
      "displayName": "Suryansh Sharma",
      "photoUrl": "https://lh3.googleusercontent.com/a-/AAuE7mBy1CGO0PDyRG1nsJ6rDaUXBg-h18OkEJ86htszrw=s64",
      "userId": "03232072030227591914"
     },
     "user_tz": -330
    },
    "id": "qFiZc7Rbw7mm",
    "outputId": "4c91fd1f-d21e-47f8-d243-ecbbe6401624"
   },
   "outputs": [
    {
     "name": "stdout",
     "output_type": "stream",
     "text": [
      "Training zip extraction done!\n",
      "Validation zip extraction done!\n"
     ]
    }
   ],
   "source": [
    "from zipfile import ZipFile\n",
    "\n",
    "with ZipFile(training_zip_path, 'r') as z:\n",
    "  z.extractall()\n",
    "print(\"Training zip extraction done!\")\n",
    "\n",
    "with ZipFile(validation_zip_path, 'r') as z:\n",
    "  z.extractall()\n",
    "print(\"Validation zip extraction done!\")"
   ]
  },
  {
   "cell_type": "code",
   "execution_count": 36,
   "metadata": {
    "colab": {
     "base_uri": "https://localhost:8080/",
     "height": 321
    },
    "colab_type": "code",
    "executionInfo": {
     "elapsed": 924,
     "status": "ok",
     "timestamp": 1581593008538,
     "user": {
      "displayName": "Suryansh Sharma",
      "photoUrl": "https://lh3.googleusercontent.com/a-/AAuE7mBy1CGO0PDyRG1nsJ6rDaUXBg-h18OkEJ86htszrw=s64",
      "userId": "03232072030227591914"
     },
     "user_tz": -330
    },
    "id": "X6uE4alZbecJ",
    "outputId": "6f4bcd2f-c4cd-40a1-ed11-088a897a212a"
   },
   "outputs": [
    {
     "name": "stdout",
     "output_type": "stream",
     "text": [
      "Each image in the data set has a same of (105, 105, 3)\n",
      "The number of features in any image from the data set are: 33075\n"
     ]
    },
    {
     "data": {
      "text/plain": [
       "<matplotlib.image.AxesImage at 0x7f57266e62b0>"
      ]
     },
     "execution_count": 36,
     "metadata": {
      "tags": []
     },
     "output_type": "execute_result"
    },
    {
     "data": {
      "image/png": "[encoded data removed]",
      "text/plain": [
       "<Figure size 432x288 with 1 Axes>"
      ]
     },
     "metadata": {
      "tags": []
     },
     "output_type": "display_data"
    }
   ],
   "source": [
    "import cv2\n",
    "import matplotlib.pyplot as plt\n",
    "\n",
    "\n",
    "img = cv2.imread('images_background/Sanskrit/character11/0861_05.png')\n",
    "print(\"Each image in the data set has a same of {0}\".format(img.shape))\n",
    "flattened_img = img.flatten()\n",
    "print(\"The number of features in any image from the data set are: {0}\".format(flattened_img.shape[0]))\n",
    "plt.imshow(img)"
   ]
  },
  {
   "cell_type": "code",
   "execution_count": 37,
   "metadata": {
    "colab": {
     "base_uri": "https://localhost:8080/",
     "height": 321
    },
    "colab_type": "code",
    "executionInfo": {
     "elapsed": 3544,
     "status": "ok",
     "timestamp": 1581593018541,
     "user": {
      "displayName": "Suryansh Sharma",
      "photoUrl": "https://lh3.googleusercontent.com/a-/AAuE7mBy1CGO0PDyRG1nsJ6rDaUXBg-h18OkEJ86htszrw=s64",
      "userId": "03232072030227591914"
     },
     "user_tz": -330
    },
    "id": "iP2J9zEyfS8e",
    "outputId": "aef8b3ac-1a8a-40c2-accd-29f00a8093de"
   },
   "outputs": [
    {
     "name": "stdout",
     "output_type": "stream",
     "text": [
      "Each image in the data set has a same of (105, 105, 3)\n",
      "The number of features in any image from the data set are: 33075\n"
     ]
    },
    {
     "data": {
      "text/plain": [
       "<matplotlib.image.AxesImage at 0x7f572671e898>"
      ]
     },
     "execution_count": 37,
     "metadata": {
      "tags": []
     },
     "output_type": "execute_result"
    },
    {
     "data": {
      "image/png": "[encoded data removed]",
      "text/plain": [
       "<Figure size 432x288 with 1 Axes>"
      ]
     },
     "metadata": {
      "tags": []
     },
     "output_type": "display_data"
    }
   ],
   "source": [
    "img = cv2.imread('images_evaluation/Kannada/character11/1215_05.png')\n",
    "print(\"Each image in the data set has a same of {0}\".format(img.shape))\n",
    "flattened_img = img.flatten()\n",
    "print(\"The number of features in any image from the data set are: {0}\".format(flattened_img.shape[0]))\n",
    "plt.imshow(img)"
   ]
  },
  {
   "cell_type": "code",
   "execution_count": 0,
   "metadata": {
    "colab": {},
    "colab_type": "code",
    "id": "aWmlgm76becL"
   },
   "outputs": [],
   "source": [
    "base_class_name = 'character'\n",
    "\n",
    "def gen_class_names(base_class_name):\n",
    "    classes = []\n",
    "    for i in range(1,21):\n",
    "        if i < 10:\n",
    "            classes.append(\"{0}0{1}\".format(base_class_name, i))\n",
    "        else:\n",
    "            classes.append(\"{0}{1}\".format(base_class_name, i))\n",
    "    return classes"
   ]
  },
  {
   "cell_type": "code",
   "execution_count": 39,
   "metadata": {
    "colab": {
     "base_uri": "https://localhost:8080/",
     "height": 54
    },
    "colab_type": "code",
    "executionInfo": {
     "elapsed": 800,
     "status": "ok",
     "timestamp": 1581593040721,
     "user": {
      "displayName": "Suryansh Sharma",
      "photoUrl": "https://lh3.googleusercontent.com/a-/AAuE7mBy1CGO0PDyRG1nsJ6rDaUXBg-h18OkEJ86htszrw=s64",
      "userId": "03232072030227591914"
     },
     "user_tz": -330
    },
    "id": "lW--qMTZbecN",
    "outputId": "984b3537-3bda-442c-c382-af18b89c53fa"
   },
   "outputs": [
    {
     "name": "stdout",
     "output_type": "stream",
     "text": [
      "['character01', 'character02', 'character03', 'character04', 'character05', 'character06', 'character07', 'character08', 'character09', 'character10', 'character11', 'character12', 'character13', 'character14', 'character15', 'character16', 'character17', 'character18', 'character19', 'character20']\n"
     ]
    }
   ],
   "source": [
    "classes = gen_class_names(base_class_name)\n",
    "print(classes)"
   ]
  },
  {
   "cell_type": "code",
   "execution_count": 0,
   "metadata": {
    "colab": {},
    "colab_type": "code",
    "id": "Egn9OIADbecP"
   },
   "outputs": [],
   "source": [
    "from sklearn.preprocessing import LabelBinarizer\n",
    "\n",
    "def generate_one_hot_encoding(classes):\n",
    "    encoder = LabelBinarizer()\n",
    "    transfomed_labels = encoder.fit_transform(classes)\n",
    "    return transfomed_labels"
   ]
  },
  {
   "cell_type": "code",
   "execution_count": 42,
   "metadata": {
    "colab": {
     "base_uri": "https://localhost:8080/",
     "height": 386
    },
    "colab_type": "code",
    "executionInfo": {
     "elapsed": 872,
     "status": "ok",
     "timestamp": 1581593101742,
     "user": {
      "displayName": "Suryansh Sharma",
      "photoUrl": "https://lh3.googleusercontent.com/a-/AAuE7mBy1CGO0PDyRG1nsJ6rDaUXBg-h18OkEJ86htszrw=s64",
      "userId": "03232072030227591914"
     },
     "user_tz": -330
    },
    "id": "4OGiK8uKbecR",
    "outputId": "625c70f8-57be-4818-8d2f-df895d4403b1"
   },
   "outputs": [
    {
     "name": "stdout",
     "output_type": "stream",
     "text": [
      "[[1 0 0 0 0 0 0 0 0 0 0 0 0 0 0 0 0 0 0 0]\n",
      " [0 1 0 0 0 0 0 0 0 0 0 0 0 0 0 0 0 0 0 0]\n",
      " [0 0 1 0 0 0 0 0 0 0 0 0 0 0 0 0 0 0 0 0]\n",
      " [0 0 0 1 0 0 0 0 0 0 0 0 0 0 0 0 0 0 0 0]\n",
      " [0 0 0 0 1 0 0 0 0 0 0 0 0 0 0 0 0 0 0 0]\n",
      " [0 0 0 0 0 1 0 0 0 0 0 0 0 0 0 0 0 0 0 0]\n",
      " [0 0 0 0 0 0 1 0 0 0 0 0 0 0 0 0 0 0 0 0]\n",
      " [0 0 0 0 0 0 0 1 0 0 0 0 0 0 0 0 0 0 0 0]\n",
      " [0 0 0 0 0 0 0 0 1 0 0 0 0 0 0 0 0 0 0 0]\n",
      " [0 0 0 0 0 0 0 0 0 1 0 0 0 0 0 0 0 0 0 0]\n",
      " [0 0 0 0 0 0 0 0 0 0 1 0 0 0 0 0 0 0 0 0]\n",
      " [0 0 0 0 0 0 0 0 0 0 0 1 0 0 0 0 0 0 0 0]\n",
      " [0 0 0 0 0 0 0 0 0 0 0 0 1 0 0 0 0 0 0 0]\n",
      " [0 0 0 0 0 0 0 0 0 0 0 0 0 1 0 0 0 0 0 0]\n",
      " [0 0 0 0 0 0 0 0 0 0 0 0 0 0 1 0 0 0 0 0]\n",
      " [0 0 0 0 0 0 0 0 0 0 0 0 0 0 0 1 0 0 0 0]\n",
      " [0 0 0 0 0 0 0 0 0 0 0 0 0 0 0 0 1 0 0 0]\n",
      " [0 0 0 0 0 0 0 0 0 0 0 0 0 0 0 0 0 1 0 0]\n",
      " [0 0 0 0 0 0 0 0 0 0 0 0 0 0 0 0 0 0 1 0]\n",
      " [0 0 0 0 0 0 0 0 0 0 0 0 0 0 0 0 0 0 0 1]]\n"
     ]
    },
    {
     "data": {
      "text/plain": [
       "20"
      ]
     },
     "execution_count": 42,
     "metadata": {
      "tags": []
     },
     "output_type": "execute_result"
    }
   ],
   "source": [
    "labels = generate_one_hot_encoding(classes)\n",
    "print(labels)\n",
    "len(labels)"
   ]
  },
  {
   "cell_type": "markdown",
   "metadata": {
    "colab_type": "text",
    "id": "1lQgkL9xF-oy"
   },
   "source": [
    "### Let's define our model now"
   ]
  },
  {
   "cell_type": "code",
   "execution_count": 0,
   "metadata": {
    "colab": {},
    "colab_type": "code",
    "id": "RWNSn9Ipbecd"
   },
   "outputs": [],
   "source": [
    "from tensorflow.keras.models import Sequential, Model\n",
    "from tensorflow.keras.layers import Input, Conv2D, MaxPooling2D, Flatten, Dense, Lambda\n",
    "from tensorflow.keras import backend as K\n",
    "\n",
    "K.set_image_data_format('channels_last')\n",
    "\n",
    "def get_siamese_model(input_shape):\n",
    "    \"\"\"\n",
    "        Model architecture based on the one provided in: http://www.cs.utoronto.ca/~gkoch/files/msc-thesis.pdf\n",
    "    \"\"\"\n",
    "    left_input = Input(input_shape)\n",
    "    right_input = Input(input_shape)\n",
    "    model = Sequential()\n",
    "    model.add(Conv2D(64, (10,10), activation='relu', input_shape=input_shape))\n",
    "    model.add(MaxPooling2D())\n",
    "    model.add(Conv2D(128, (7,7), activation='relu'))\n",
    "    model.add(MaxPooling2D())\n",
    "    model.add(Conv2D(128, (4,4), activation='relu'))\n",
    "    model.add(MaxPooling2D())\n",
    "    model.add(Conv2D(256, (4,4), activation='relu'))\n",
    "    model.add(Flatten())\n",
    "    model.add(Dense(4096, activation='sigmoid'))\n",
    "    encoded_l = model(left_input)\n",
    "    encoded_r = model(right_input)\n",
    "    L1_layer = Lambda(lambda tensors:K.abs(tensors[0] - tensors[1]))\n",
    "    L1_distance = L1_layer([encoded_l, encoded_r])\n",
    "    prediction = Dense(1,activation='sigmoid')(L1_distance)\n",
    "    siamese_net = Model(inputs=[left_input,right_input],outputs=prediction)\n",
    "\n",
    "    return siamese_net"
   ]
  },
  {
   "cell_type": "markdown",
   "metadata": {
    "colab_type": "text",
    "id": "jRNNv1MIGQzs"
   },
   "source": [
    "### Create the model and print summary"
   ]
  },
  {
   "cell_type": "code",
   "execution_count": 44,
   "metadata": {
    "colab": {
     "base_uri": "https://localhost:8080/",
     "height": 369
    },
    "colab_type": "code",
    "executionInfo": {
     "elapsed": 911,
     "status": "ok",
     "timestamp": 1581593443514,
     "user": {
      "displayName": "Suryansh Sharma",
      "photoUrl": "https://lh3.googleusercontent.com/a-/AAuE7mBy1CGO0PDyRG1nsJ6rDaUXBg-h18OkEJ86htszrw=s64",
      "userId": "03232072030227591914"
     },
     "user_tz": -330
    },
    "id": "ioLXDgqHbecg",
    "outputId": "493f63a2-6a68-4b9d-8095-21760bb8c681"
   },
   "outputs": [
    {
     "name": "stdout",
     "output_type": "stream",
     "text": [
      "Model: \"model_1\"\n",
      "__________________________________________________________________________________________________\n",
      "Layer (type)                    Output Shape         Param #     Connected to                     \n",
      "==================================================================================================\n",
      "input_3 (InputLayer)            [(None, 105, 105, 1) 0                                            \n",
      "__________________________________________________________________________________________________\n",
      "input_4 (InputLayer)            [(None, 105, 105, 1) 0                                            \n",
      "__________________________________________________________________________________________________\n",
      "sequential_1 (Sequential)       (None, 4096)         38947648    input_3[0][0]                    \n",
      "                                                                 input_4[0][0]                    \n",
      "__________________________________________________________________________________________________\n",
      "lambda_1 (Lambda)               (None, 4096)         0           sequential_1[1][0]               \n",
      "                                                                 sequential_1[2][0]               \n",
      "__________________________________________________________________________________________________\n",
      "dense_3 (Dense)                 (None, 1)            4097        lambda_1[0][0]                   \n",
      "==================================================================================================\n",
      "Total params: 38,951,745\n",
      "Trainable params: 38,951,745\n",
      "Non-trainable params: 0\n",
      "__________________________________________________________________________________________________\n"
     ]
    }
   ],
   "source": [
    "model = get_siamese_model((105, 105, 1))\n",
    "model.summary()"
   ]
  },
  {
   "cell_type": "markdown",
   "metadata": {
    "colab_type": "text",
    "id": "0aeyqhjeGd_s"
   },
   "source": [
    "### Compile the model\n",
    "- Define optimizer\n",
    "- Define loss"
   ]
  },
  {
   "cell_type": "code",
   "execution_count": 0,
   "metadata": {
    "colab": {},
    "colab_type": "code",
    "id": "AYLKoskFbeci"
   },
   "outputs": [],
   "source": [
    "from tensorflow.keras.optimizers import Adam\n",
    "\n",
    "optimizer = Adam(lr = 0.00006)\n",
    "model.compile(loss=\"binary_crossentropy\",optimizer=optimizer)"
   ]
  },
  {
   "cell_type": "markdown",
   "metadata": {
    "colab_type": "text",
    "id": "JrQQFJl9AmME"
   },
   "source": [
    "#### Plot all 20 samples of a particular character of a language"
   ]
  },
  {
   "cell_type": "code",
   "execution_count": 0,
   "metadata": {
    "colab": {},
    "colab_type": "code",
    "id": "ET1bZQsGbecm"
   },
   "outputs": [],
   "source": [
    "import matplotlib.pyplot as plt\n",
    "import os\n",
    "\n",
    "def plot_images(path):\n",
    "    \"\"\"\n",
    "        Plot all 20 samples of a particular character of a language\n",
    "    \"\"\"\n",
    "    f, axarr = plt.subplots(5,4, figsize=(10,10))\n",
    "    images_list = []\n",
    "    for image in os.listdir(path):\n",
    "        image_path = os.path.join(path, image)\n",
    "        img = cv2.imread(image_path)\n",
    "        images_list.append(img)\n",
    "    for i in range(5):\n",
    "        for j in range(4):\n",
    "            axarr[i,j].imshow(images_list.pop())"
   ]
  },
  {
   "cell_type": "code",
   "execution_count": 48,
   "metadata": {
    "colab": {
     "base_uri": "https://localhost:8080/",
     "height": 613
    },
    "colab_type": "code",
    "executionInfo": {
     "elapsed": 2810,
     "status": "ok",
     "timestamp": 1581593571568,
     "user": {
      "displayName": "Suryansh Sharma",
      "photoUrl": "https://lh3.googleusercontent.com/a-/AAuE7mBy1CGO0PDyRG1nsJ6rDaUXBg-h18OkEJ86htszrw=s64",
      "userId": "03232072030227591914"
     },
     "user_tz": -330
    },
    "id": "dJKVKZspbeco",
    "outputId": "8838ba32-0a0e-4df0-e2d8-f322f63d6670"
   },
   "outputs": [
    {
     "name": "stdout",
     "output_type": "stream",
     "text": [
      "Sanskrit language, 20 samples of the third character.\n"
     ]
    },
    {
     "data": {
      "image/png": "[encoded data removed]",
      "text/plain": [
       "<Figure size 720x720 with 20 Axes>"
      ]
     },
     "metadata": {
      "tags": []
     },
     "output_type": "display_data"
    }
   ],
   "source": [
    "plot_images('images_background/Sanskrit/character02/')\n",
    "print(\"Sanskrit language, 20 samples of the third character.\")"
   ]
  },
  {
   "cell_type": "markdown",
   "metadata": {
    "colab_type": "text",
    "id": "cEQ8oJmWAp5Q"
   },
   "source": [
    "Let's take one other language"
   ]
  },
  {
   "cell_type": "code",
   "execution_count": 51,
   "metadata": {
    "colab": {
     "base_uri": "https://localhost:8080/",
     "height": 613
    },
    "colab_type": "code",
    "executionInfo": {
     "elapsed": 2934,
     "status": "ok",
     "timestamp": 1581593608348,
     "user": {
      "displayName": "Suryansh Sharma",
      "photoUrl": "https://lh3.googleusercontent.com/a-/AAuE7mBy1CGO0PDyRG1nsJ6rDaUXBg-h18OkEJ86htszrw=s64",
      "userId": "03232072030227591914"
     },
     "user_tz": -330
    },
    "id": "_Msr3Q_cbecq",
    "outputId": "4813fce0-d5d1-4f56-b6b8-b34f006d7fe4"
   },
   "outputs": [
    {
     "name": "stdout",
     "output_type": "stream",
     "text": [
      "Bengali language, 20 samples of the seventh character.\n"
     ]
    },
    {
     "data": {
      "image/png": "[encoded data removed]",
      "text/plain": [
       "<Figure size 720x720 with 20 Axes>"
      ]
     },
     "metadata": {
      "tags": []
     },
     "output_type": "display_data"
    }
   ],
   "source": [
    "plot_images('images_background/Bengali/character03/')\n",
    "print(\"Bengali language, 20 samples of the seventh character.\")"
   ]
  },
  {
   "cell_type": "markdown",
   "metadata": {
    "colab_type": "text",
    "id": "aKAQ7bEoA52a"
   },
   "source": [
    "### Load the training and validation pickles"
   ]
  },
  {
   "cell_type": "code",
   "execution_count": 54,
   "metadata": {
    "colab": {
     "base_uri": "https://localhost:8080/",
     "height": 160
    },
    "colab_type": "code",
    "executionInfo": {
     "elapsed": 1325,
     "status": "ok",
     "timestamp": 1581593699313,
     "user": {
      "displayName": "Suryansh Sharma",
      "photoUrl": "https://lh3.googleusercontent.com/a-/AAuE7mBy1CGO0PDyRG1nsJ6rDaUXBg-h18OkEJ86htszrw=s64",
      "userId": "03232072030227591914"
     },
     "user_tz": -330
    },
    "id": "URFz4aLebecw",
    "outputId": "7569e04b-5ee3-49ae-cc89-3ca1a56352fe"
   },
   "outputs": [
    {
     "name": "stdout",
     "output_type": "stream",
     "text": [
      "Training alphabets: \n",
      "\n",
      "30\n",
      "Validation alphabets:\n",
      "\n",
      "['Angelic', 'Atemayar_Qelisayer', 'Atlantean', 'Aurek-Besh', 'Avesta', 'Ge_ez', 'Glagolitic', 'Gurmukhi', 'Kannada', 'Keble', 'Malayalam', 'Manipuri', 'Mongolian', 'Old_Church_Slavonic_(Cyrillic)', 'Oriya', 'Sylheti', 'Syriac_(Serto)', 'Tengwar', 'Tibetan', 'ULOG']\n",
      "(659, 20, 105, 105)\n"
     ]
    }
   ],
   "source": [
    "import pickle\n",
    "\n",
    "with open(os.path.join(project_path, \"train.pickle\"), \"rb\") as f:\n",
    "    (X, classes) = pickle.load(f)\n",
    "\n",
    "with open(os.path.join(project_path, \"val.pickle\"), \"rb\") as f:\n",
    "    (Xval, val_classes) = pickle.load(f)\n",
    "    \n",
    "print(\"Training alphabets: \\n\")\n",
    "print(len(list(classes.keys())))\n",
    "print(\"Validation alphabets:\", end=\"\\n\\n\")\n",
    "print(list(val_classes.keys()))\n",
    "print(Xval.shape)"
   ]
  },
  {
   "cell_type": "code",
   "execution_count": 55,
   "metadata": {
    "colab": {
     "base_uri": "https://localhost:8080/",
     "height": 52
    },
    "colab_type": "code",
    "executionInfo": {
     "elapsed": 1315,
     "status": "ok",
     "timestamp": 1581593972135,
     "user": {
      "displayName": "Suryansh Sharma",
      "photoUrl": "https://lh3.googleusercontent.com/a-/AAuE7mBy1CGO0PDyRG1nsJ6rDaUXBg-h18OkEJ86htszrw=s64",
      "userId": "03232072030227591914"
     },
     "user_tz": -330
    },
    "id": "W_S439qQbecy",
    "outputId": "d7b73b4b-3824-4de3-954c-9ca779b8d797"
   },
   "outputs": [
    {
     "name": "stdout",
     "output_type": "stream",
     "text": [
      "loading data from /content/drive/My Drive/CV/AIML 2.0 Class/CV/Week6/train.pickle\n",
      "loading data from /content/drive/My Drive/CV/AIML 2.0 Class/CV/Week6/val.pickle\n"
     ]
    }
   ],
   "source": [
    "import numpy.random as rng\n",
    "import numpy as np\n",
    "from sklearn.utils import shuffle\n",
    "\n",
    "class Siamese_Loader:\n",
    "    \"\"\"For loading batches and testing tasks to a siamese net\"\"\"\n",
    "    def __init__(self, path, data_subsets = [\"train\", \"val\"]):\n",
    "        self.data = {}\n",
    "        self.categories = {}\n",
    "        self.info = {}\n",
    "        \n",
    "        for name in data_subsets:\n",
    "            file_path = os.path.join(path, name + \".pickle\")\n",
    "            print(\"loading data from {}\".format(file_path))\n",
    "            with open(file_path,\"rb\") as f:\n",
    "                (X,c) = pickle.load(f)\n",
    "                self.data[name] = X\n",
    "                self.categories[name] = c\n",
    "\n",
    "    def get_batch(self,batch_size,s=\"train\"):\n",
    "        \"\"\"Create batch of n pairs, half same class, half different class\"\"\"\n",
    "        X=self.data[s]\n",
    "        n_classes, n_examples, w, h = X.shape\n",
    "\n",
    "        #randomly sample several classes to use in the batch\n",
    "        categories = rng.choice(n_classes,size=(batch_size,),replace=False)\n",
    "        #initialize 2 empty arrays for the input image batch\n",
    "        pairs=[np.zeros((batch_size, h, w,1)) for i in range(2)]\n",
    "        #initialize vector for the targets, and make one half of it '1's, so 2nd half of batch has same class\n",
    "        targets=np.zeros((batch_size,))\n",
    "        targets[batch_size//2:] = 1\n",
    "        for i in range(batch_size):\n",
    "            category = categories[i]\n",
    "            idx_1 = rng.randint(0, n_examples)\n",
    "            pairs[0][i,:,:,:] = X[category, idx_1].reshape(w, h, 1)\n",
    "            idx_2 = rng.randint(0, n_examples)\n",
    "            #pick images of same class for 1st half, different for 2nd\n",
    "            if i >= batch_size // 2:\n",
    "                category_2 = category  \n",
    "            else: \n",
    "                #add a random number to the category modulo n classes to ensure 2nd image has\n",
    "                # ..different category\n",
    "                category_2 = (category + rng.randint(1,n_classes)) % n_classes\n",
    "            pairs[1][i,:,:,:] = X[category_2,idx_2].reshape(w, h,1)\n",
    "        return pairs, targets\n",
    "    \n",
    "    def generate(self, batch_size, s=\"train\"):\n",
    "        \"\"\"a generator for batches, so model.fit_generator can be used. \"\"\"\n",
    "        while True:\n",
    "            pairs, targets = self.get_batch(batch_size,s)\n",
    "            yield (pairs, targets)    \n",
    "\n",
    "    def make_oneshot_task(self,N,s=\"val\",language=None):\n",
    "        \"\"\"Create pairs of test image, support set for testing N way one-shot learning. \"\"\"\n",
    "        X=self.data[s]\n",
    "        n_classes, n_examples, w, h = X.shape\n",
    "        indices = rng.randint(0,n_examples,size=(N,))\n",
    "        if language is not None:\n",
    "            low, high = self.categories[s][language]\n",
    "            if N > high - low:\n",
    "                raise ValueError(\"This language ({}) has less than {} letters\".format(language, N))\n",
    "            categories = rng.choice(range(low,high),size=(N,),replace=False)\n",
    "            \n",
    "        else:#if no language specified just pick a bunch of random letters\n",
    "            categories = rng.choice(range(n_classes),size=(N,),replace=False)            \n",
    "        true_category = categories[0]\n",
    "        ex1, ex2 = rng.choice(n_examples,replace=False,size=(2,))\n",
    "        test_image = np.asarray([X[true_category,ex1,:,:]]*N).reshape(N, w, h,1)\n",
    "        support_set = X[categories,indices,:,:]\n",
    "        support_set[0,:,:] = X[true_category,ex2]\n",
    "        support_set = support_set.reshape(N, w, h,1)\n",
    "        targets = np.zeros((N,))\n",
    "        targets[0] = 1\n",
    "        targets, test_image, support_set = shuffle(targets, test_image, support_set)\n",
    "        pairs = [test_image,support_set]\n",
    "\n",
    "        return pairs, targets\n",
    "    \n",
    "    def test_oneshot(self,model,N,k,s=\"val\",verbose=0):\n",
    "        \"\"\"Test average N way oneshot learning accuracy of a siamese neural net over k one-shot tasks\"\"\"\n",
    "        n_correct = 0\n",
    "        if verbose:\n",
    "            print(\"Evaluating model on {} random {} way one-shot learning tasks ... \\n\".format(k,N))\n",
    "        for i in range(k):\n",
    "            inputs, targets = self.make_oneshot_task(N,s)\n",
    "            probs = model.predict(inputs)\n",
    "            if np.argmax(probs) == np.argmax(targets):\n",
    "                n_correct+=1\n",
    "        percent_correct = (100.0*n_correct / k)\n",
    "        if verbose:\n",
    "            print(\"Got an average of {}% {} way one-shot learning accuracy \\n\".format(percent_correct,N))\n",
    "        return percent_correct\n",
    "    \n",
    "    def train(self, model, epochs, verbosity):\n",
    "        model.fit_generator(self.generate(batch_size))\n",
    "    \n",
    "\n",
    "loader = Siamese_Loader(project_path)"
   ]
  },
  {
   "cell_type": "markdown",
   "metadata": {
    "colab_type": "text",
    "id": "4YMUFwK6BGg9"
   },
   "source": [
    "### Concatenate a bunch of images into a big matrix for plotting purposes"
   ]
  },
  {
   "cell_type": "code",
   "execution_count": 56,
   "metadata": {
    "colab": {
     "base_uri": "https://localhost:8080/",
     "height": 255
    },
    "colab_type": "code",
    "executionInfo": {
     "elapsed": 895,
     "status": "ok",
     "timestamp": 1581594012270,
     "user": {
      "displayName": "Suryansh Sharma",
      "photoUrl": "https://lh3.googleusercontent.com/a-/AAuE7mBy1CGO0PDyRG1nsJ6rDaUXBg-h18OkEJ86htszrw=s64",
      "userId": "03232072030227591914"
     },
     "user_tz": -330
    },
    "id": "WBwmTWbrbec0",
    "outputId": "fb1de20a-883b-4051-a722-36dfe8d33914"
   },
   "outputs": [
    {
     "data": {
      "image/png": "[encoded data removed]",
      "text/plain": [
       "<Figure size 432x288 with 2 Axes>"
      ]
     },
     "metadata": {
      "tags": []
     },
     "output_type": "display_data"
    }
   ],
   "source": [
    "def concat_images(X):\n",
    "    \"\"\"Concatenates a bunch of images into a big matrix for plotting purposes.\"\"\"\n",
    "    nc, h , w, _ = X.shape\n",
    "    X = X.reshape(nc, h, w)\n",
    "    n = np.ceil(np.sqrt(nc)).astype(\"int8\")\n",
    "    img = np.zeros((n*w,n*h))\n",
    "    x = 0\n",
    "    y = 0\n",
    "    for example in range(nc):\n",
    "        img[x*w:(x+1)*w,y*h:(y+1)*h] = X[example]\n",
    "        y += 1\n",
    "        if y >= n:\n",
    "            y = 0\n",
    "            x += 1\n",
    "    return img\n",
    "\n",
    "\n",
    "def plot_oneshot_task(pairs):\n",
    "    fig,(ax1,ax2) = plt.subplots(2)\n",
    "    ax1.matshow(pairs[0][0].reshape(105,105), cmap='gray')\n",
    "    img = concat_images(pairs[1])\n",
    "    ax1.get_yaxis().set_visible(False)\n",
    "    ax1.get_xaxis().set_visible(False)\n",
    "    ax2.matshow(img,cmap='gray')\n",
    "    plt.xticks([])\n",
    "    plt.yticks([])\n",
    "    plt.show()\n",
    "\n",
    "pairs, targets = loader.make_oneshot_task(20,\"train\",\"Japanese_(katakana)\")\n",
    "plot_oneshot_task(pairs)"
   ]
  },
  {
   "cell_type": "code",
   "execution_count": 58,
   "metadata": {
    "colab": {
     "base_uri": "https://localhost:8080/",
     "height": 1000
    },
    "colab_type": "code",
    "executionInfo": {
     "elapsed": 115815,
     "status": "ok",
     "timestamp": 1581594250622,
     "user": {
      "displayName": "Suryansh Sharma",
      "photoUrl": "https://lh3.googleusercontent.com/a-/AAuE7mBy1CGO0PDyRG1nsJ6rDaUXBg-h18OkEJ86htszrw=s64",
      "userId": "03232072030227591914"
     },
     "user_tz": -330
    },
    "id": "1Hsj4xBJbec1",
    "outputId": "edb6721d-e02c-4f7e-d8f0-9bae2ff24b71"
   },
   "outputs": [
    {
     "name": "stdout",
     "output_type": "stream",
     "text": [
      "Starting training process!\n",
      "-------------------------------------\n",
      "\n",
      " ------------- \n",
      "\n",
      "Loss: 0.6851933002471924\n",
      "\n",
      " ------------- \n",
      "\n",
      "Loss: 0.6839944124221802\n",
      "\n",
      " ------------- \n",
      "\n",
      "Loss: 0.6852198839187622\n",
      "\n",
      " ------------- \n",
      "\n",
      "Loss: 0.6827656030654907\n",
      "\n",
      " ------------- \n",
      "\n",
      "Loss: 0.6767784357070923\n",
      "\n",
      " ------------- \n",
      "\n",
      "Loss: 0.6823321580886841\n",
      "\n",
      " ------------- \n",
      "\n",
      "Loss: 0.6874481439590454\n",
      "\n",
      " ------------- \n",
      "\n",
      "Loss: 0.6901965737342834\n",
      "\n",
      " ------------- \n",
      "\n",
      "Loss: 0.6916159391403198\n",
      "\n",
      " ------------- \n",
      "\n",
      "Loss: 0.6885910034179688\n",
      "Time for 10 iterations: 0.38956713676452637\n",
      "Evaluating model on 250 random 20 way one-shot learning tasks ... \n",
      "\n",
      "Got an average of 12.0% 20 way one-shot learning accuracy \n",
      "\n",
      "Current best: 12.0, previous best: -1\n",
      "Saving weights to: /content/drive/My Drive/CV/AIML 2.0 Class/CV/Week6/ \n",
      "\n",
      "\n",
      " ------------- \n",
      "\n",
      "Loss: 0.6895138025283813\n",
      "\n",
      " ------------- \n",
      "\n",
      "Loss: 0.6893078088760376\n",
      "\n",
      " ------------- \n",
      "\n",
      "Loss: 0.6859133243560791\n",
      "\n",
      " ------------- \n",
      "\n",
      "Loss: 0.6909670829772949\n",
      "\n",
      " ------------- \n",
      "\n",
      "Loss: 0.6871576309204102\n",
      "\n",
      " ------------- \n",
      "\n",
      "Loss: 0.6918615698814392\n",
      "\n",
      " ------------- \n",
      "\n",
      "Loss: 0.6823868155479431\n",
      "\n",
      " ------------- \n",
      "\n",
      "Loss: 0.6923521757125854\n",
      "\n",
      " ------------- \n",
      "\n",
      "Loss: 0.6865854263305664\n",
      "\n",
      " ------------- \n",
      "\n",
      "Loss: 0.6819676160812378\n",
      "Time for 20 iterations: 9.652289628982544\n",
      "Evaluating model on 250 random 20 way one-shot learning tasks ... \n",
      "\n",
      "Got an average of 22.8% 20 way one-shot learning accuracy \n",
      "\n",
      "Current best: 22.8, previous best: 12.0\n",
      "Saving weights to: /content/drive/My Drive/CV/AIML 2.0 Class/CV/Week6/ \n",
      "\n",
      "iteration 20, training loss: 0.68,\n",
      "\n",
      " ------------- \n",
      "\n",
      "Loss: 0.6785938739776611\n",
      "\n",
      " ------------- \n",
      "\n",
      "Loss: 0.6841281056404114\n",
      "\n",
      " ------------- \n",
      "\n",
      "Loss: 0.6874828338623047\n",
      "\n",
      " ------------- \n",
      "\n",
      "Loss: 0.6871992945671082\n",
      "\n",
      " ------------- \n",
      "\n",
      "Loss: 0.6863878965377808\n",
      "\n",
      " ------------- \n",
      "\n",
      "Loss: 0.6894913911819458\n",
      "\n",
      " ------------- \n",
      "\n",
      "Loss: 0.6901094913482666\n",
      "\n",
      " ------------- \n",
      "\n",
      "Loss: 0.6876974105834961\n",
      "\n",
      " ------------- \n",
      "\n",
      "Loss: 0.6924455165863037\n",
      "\n",
      " ------------- \n",
      "\n",
      "Loss: 0.6844635009765625\n",
      "Time for 30 iterations: 19.728727102279663\n",
      "Evaluating model on 250 random 20 way one-shot learning tasks ... \n",
      "\n",
      "Got an average of 12.8% 20 way one-shot learning accuracy \n",
      "\n",
      "\n",
      " ------------- \n",
      "\n",
      "Loss: 0.6903383731842041\n",
      "\n",
      " ------------- \n",
      "\n",
      "Loss: 0.6923935413360596\n",
      "\n",
      " ------------- \n",
      "\n",
      "Loss: 0.6831531524658203\n",
      "\n",
      " ------------- \n",
      "\n",
      "Loss: 0.6836326122283936\n",
      "\n",
      " ------------- \n",
      "\n",
      "Loss: 0.6836274862289429\n",
      "\n",
      " ------------- \n",
      "\n",
      "Loss: 0.6823095679283142\n",
      "\n",
      " ------------- \n",
      "\n",
      "Loss: 0.6878794431686401\n",
      "\n",
      " ------------- \n",
      "\n",
      "Loss: 0.6818689107894897\n",
      "\n",
      " ------------- \n",
      "\n",
      "Loss: 0.6821025013923645\n",
      "\n",
      " ------------- \n",
      "\n",
      "Loss: 0.6845051646232605\n",
      "Time for 40 iterations: 27.27201008796692\n",
      "Evaluating model on 250 random 20 way one-shot learning tasks ... \n",
      "\n",
      "Got an average of 17.6% 20 way one-shot learning accuracy \n",
      "\n",
      "iteration 40, training loss: 0.68,\n",
      "\n",
      " ------------- \n",
      "\n",
      "Loss: 0.6885175704956055\n",
      "\n",
      " ------------- \n",
      "\n",
      "Loss: 0.6781319379806519\n",
      "\n",
      " ------------- \n",
      "\n",
      "Loss: 0.681096076965332\n",
      "\n",
      " ------------- \n",
      "\n",
      "Loss: 0.676749050617218\n",
      "\n",
      " ------------- \n",
      "\n",
      "Loss: 0.684927225112915\n",
      "\n",
      " ------------- \n",
      "\n",
      "Loss: 0.6875630617141724\n",
      "\n",
      " ------------- \n",
      "\n",
      "Loss: 0.6791748404502869\n",
      "\n",
      " ------------- \n",
      "\n",
      "Loss: 0.6834622025489807\n",
      "\n",
      " ------------- \n",
      "\n",
      "Loss: 0.6773919463157654\n",
      "\n",
      " ------------- \n",
      "\n",
      "Loss: 0.6835460662841797\n",
      "Time for 50 iterations: 35.24028444290161\n",
      "Evaluating model on 250 random 20 way one-shot learning tasks ... \n",
      "\n",
      "Got an average of 20.4% 20 way one-shot learning accuracy \n",
      "\n",
      "\n",
      " ------------- \n",
      "\n",
      "Loss: 0.6796801090240479\n",
      "\n",
      " ------------- \n",
      "\n",
      "Loss: 0.6842096447944641\n",
      "\n",
      " ------------- \n",
      "\n",
      "Loss: 0.6844992637634277\n",
      "\n",
      " ------------- \n",
      "\n",
      "Loss: 0.6879085302352905\n",
      "\n",
      " ------------- \n",
      "\n",
      "Loss: 0.6792495250701904\n",
      "\n",
      " ------------- \n",
      "\n",
      "Loss: 0.6834063529968262\n",
      "\n",
      " ------------- \n",
      "\n",
      "Loss: 0.681875467300415\n",
      "\n",
      " ------------- \n",
      "\n",
      "Loss: 0.6862130165100098\n",
      "\n",
      " ------------- \n",
      "\n",
      "Loss: 0.6800930500030518\n",
      "\n",
      " ------------- \n",
      "\n",
      "Loss: 0.6871689558029175\n",
      "Time for 60 iterations: 42.893669843673706\n",
      "Evaluating model on 250 random 20 way one-shot learning tasks ... \n",
      "\n",
      "Got an average of 21.2% 20 way one-shot learning accuracy \n",
      "\n",
      "iteration 60, training loss: 0.69,\n",
      "\n",
      " ------------- \n",
      "\n",
      "Loss: 0.6743544340133667\n",
      "\n",
      " ------------- \n",
      "\n",
      "Loss: 0.6693524122238159\n",
      "\n",
      " ------------- \n",
      "\n",
      "Loss: 0.6784293055534363\n",
      "\n",
      " ------------- \n",
      "\n",
      "Loss: 0.6709282398223877\n",
      "\n",
      " ------------- \n",
      "\n",
      "Loss: 0.680596649646759\n",
      "\n",
      " ------------- \n",
      "\n",
      "Loss: 0.6913847923278809\n",
      "\n",
      " ------------- \n",
      "\n",
      "Loss: 0.6807516813278198\n",
      "\n",
      " ------------- \n",
      "\n",
      "Loss: 0.6803301572799683\n",
      "\n",
      " ------------- \n",
      "\n",
      "Loss: 0.685916543006897\n",
      "\n",
      " ------------- \n",
      "\n",
      "Loss: 0.6844472289085388\n",
      "Time for 70 iterations: 50.519593477249146\n",
      "Evaluating model on 250 random 20 way one-shot learning tasks ... \n",
      "\n",
      "Got an average of 15.2% 20 way one-shot learning accuracy \n",
      "\n",
      "\n",
      " ------------- \n",
      "\n",
      "Loss: 0.6845623254776001\n",
      "\n",
      " ------------- \n",
      "\n",
      "Loss: 0.6747069358825684\n",
      "\n",
      " ------------- \n",
      "\n",
      "Loss: 0.6796091794967651\n",
      "\n",
      " ------------- \n",
      "\n",
      "Loss: 0.6857370734214783\n",
      "\n",
      " ------------- \n",
      "\n",
      "Loss: 0.6871634721755981\n",
      "\n",
      " ------------- \n",
      "\n",
      "Loss: 0.6814555525779724\n",
      "\n",
      " ------------- \n",
      "\n",
      "Loss: 0.6710442900657654\n",
      "\n",
      " ------------- \n",
      "\n",
      "Loss: 0.6764395236968994\n",
      "\n",
      " ------------- \n",
      "\n",
      "Loss: 0.6827245950698853\n",
      "\n",
      " ------------- \n",
      "\n",
      "Loss: 0.6811572313308716\n",
      "Time for 80 iterations: 58.311710596084595\n",
      "Evaluating model on 250 random 20 way one-shot learning tasks ... \n",
      "\n",
      "Got an average of 14.4% 20 way one-shot learning accuracy \n",
      "\n",
      "iteration 80, training loss: 0.68,\n",
      "\n",
      " ------------- \n",
      "\n",
      "Loss: 0.6808459758758545\n",
      "\n",
      " ------------- \n",
      "\n",
      "Loss: 0.6866042613983154\n",
      "\n",
      " ------------- \n",
      "\n",
      "Loss: 0.6896345615386963\n",
      "\n",
      " ------------- \n",
      "\n",
      "Loss: 0.6979329586029053\n",
      "\n",
      " ------------- \n",
      "\n",
      "Loss: 0.6838326454162598\n",
      "\n",
      " ------------- \n",
      "\n",
      "Loss: 0.6758959293365479\n",
      "\n",
      " ------------- \n",
      "\n",
      "Loss: 0.6794373989105225\n",
      "\n",
      " ------------- \n",
      "\n",
      "Loss: 0.6849308609962463\n",
      "\n",
      " ------------- \n",
      "\n",
      "Loss: 0.6752582788467407\n",
      "\n",
      " ------------- \n",
      "\n",
      "Loss: 0.6801643371582031\n",
      "Time for 90 iterations: 65.93158507347107\n",
      "Evaluating model on 250 random 20 way one-shot learning tasks ... \n",
      "\n",
      "Got an average of 13.2% 20 way one-shot learning accuracy \n",
      "\n",
      "\n",
      " ------------- \n",
      "\n",
      "Loss: 0.6827093362808228\n",
      "\n",
      " ------------- \n",
      "\n",
      "Loss: 0.6878972053527832\n",
      "\n",
      " ------------- \n",
      "\n",
      "Loss: 0.6929174661636353\n",
      "\n",
      " ------------- \n",
      "\n",
      "Loss: 0.6885613799095154\n",
      "\n",
      " ------------- \n",
      "\n",
      "Loss: 0.6851441860198975\n",
      "\n",
      " ------------- \n",
      "\n",
      "Loss: 0.6854610443115234\n",
      "\n",
      " ------------- \n",
      "\n",
      "Loss: 0.6839674711227417\n",
      "\n",
      " ------------- \n",
      "\n",
      "Loss: 0.6888454556465149\n",
      "\n",
      " ------------- \n",
      "\n",
      "Loss: 0.6811685562133789\n",
      "\n",
      " ------------- \n",
      "\n",
      "Loss: 0.6854522228240967\n",
      "Time for 100 iterations: 73.32419776916504\n",
      "Evaluating model on 250 random 20 way one-shot learning tasks ... \n",
      "\n",
      "Got an average of 14.0% 20 way one-shot learning accuracy \n",
      "\n",
      "iteration 100, training loss: 0.69,\n",
      "\n",
      " ------------- \n",
      "\n",
      "Loss: 0.6875419616699219\n",
      "\n",
      " ------------- \n",
      "\n",
      "Loss: 0.6673910617828369\n",
      "\n",
      " ------------- \n",
      "\n",
      "Loss: 0.6834143400192261\n",
      "\n",
      " ------------- \n",
      "\n",
      "Loss: 0.6733677387237549\n",
      "\n",
      " ------------- \n",
      "\n",
      "Loss: 0.6799032688140869\n",
      "\n",
      " ------------- \n",
      "\n",
      "Loss: 0.6802970170974731\n",
      "\n",
      " ------------- \n",
      "\n",
      "Loss: 0.6792594790458679\n",
      "\n",
      " ------------- \n",
      "\n",
      "Loss: 0.673521876335144\n",
      "\n",
      " ------------- \n",
      "\n",
      "Loss: 0.6881736516952515\n",
      "\n",
      " ------------- \n",
      "\n",
      "Loss: 0.6745257377624512\n",
      "Time for 110 iterations: 81.00815558433533\n",
      "Evaluating model on 250 random 20 way one-shot learning tasks ... \n",
      "\n",
      "Got an average of 23.6% 20 way one-shot learning accuracy \n",
      "\n",
      "Current best: 23.6, previous best: 22.8\n",
      "Saving weights to: /content/drive/My Drive/CV/AIML 2.0 Class/CV/Week6/ \n",
      "\n",
      "\n",
      " ------------- \n",
      "\n",
      "Loss: 0.6692907810211182\n",
      "\n",
      " ------------- \n",
      "\n",
      "Loss: 0.6746453046798706\n",
      "\n",
      " ------------- \n",
      "\n",
      "Loss: 0.6792351007461548\n",
      "\n",
      " ------------- \n",
      "\n",
      "Loss: 0.6750713586807251\n",
      "\n",
      " ------------- \n",
      "\n",
      "Loss: 0.6703671813011169\n",
      "\n",
      " ------------- \n",
      "\n",
      "Loss: 0.6698813438415527\n",
      "\n",
      " ------------- \n",
      "\n",
      "Loss: 0.6720576286315918\n",
      "\n",
      " ------------- \n",
      "\n",
      "Loss: 0.6642904281616211\n",
      "\n",
      " ------------- \n",
      "\n",
      "Loss: 0.666475236415863\n",
      "\n",
      " ------------- \n",
      "\n",
      "Loss: 0.6787546873092651\n",
      "Time for 120 iterations: 89.97283482551575\n",
      "Evaluating model on 250 random 20 way one-shot learning tasks ... \n",
      "\n",
      "Got an average of 26.4% 20 way one-shot learning accuracy \n",
      "\n",
      "Current best: 26.4, previous best: 23.6\n",
      "Saving weights to: /content/drive/My Drive/CV/AIML 2.0 Class/CV/Week6/ \n",
      "\n",
      "iteration 120, training loss: 0.68,\n",
      "\n",
      " ------------- \n",
      "\n",
      "Loss: 0.6816807389259338\n",
      "\n",
      " ------------- \n",
      "\n",
      "Loss: 0.6622639894485474\n",
      "\n",
      " ------------- \n",
      "\n",
      "Loss: 0.6745239496231079\n",
      "\n",
      " ------------- \n",
      "\n",
      "Loss: 0.6790515184402466\n",
      "\n",
      " ------------- \n",
      "\n",
      "Loss: 0.6724415421485901\n",
      "\n",
      " ------------- \n",
      "\n",
      "Loss: 0.6712529063224792\n",
      "\n",
      " ------------- \n",
      "\n",
      "Loss: 0.6734110116958618\n",
      "\n",
      " ------------- \n",
      "\n",
      "Loss: 0.6714798212051392\n",
      "\n",
      " ------------- \n",
      "\n",
      "Loss: 0.6750562191009521\n",
      "\n",
      " ------------- \n",
      "\n",
      "Loss: 0.6720663905143738\n",
      "Time for 130 iterations: 98.92592096328735\n",
      "Evaluating model on 250 random 20 way one-shot learning tasks ... \n",
      "\n",
      "Got an average of 13.2% 20 way one-shot learning accuracy \n",
      "\n",
      "\n",
      " ------------- \n",
      "\n",
      "Loss: 0.6629846096038818\n",
      "\n",
      " ------------- \n",
      "\n",
      "Loss: 0.6758604049682617\n",
      "\n",
      " ------------- \n",
      "\n",
      "Loss: 0.6886412501335144\n",
      "\n",
      " ------------- \n",
      "\n",
      "Loss: 0.6775093078613281\n",
      "\n",
      " ------------- \n",
      "\n",
      "Loss: 0.6779135465621948\n",
      "\n",
      " ------------- \n",
      "\n",
      "Loss: 0.686206579208374\n",
      "\n",
      " ------------- \n",
      "\n",
      "Loss: 0.6588586568832397\n",
      "\n",
      " ------------- \n",
      "\n",
      "Loss: 0.6621265411376953\n",
      "\n",
      " ------------- \n",
      "\n",
      "Loss: 0.6760939359664917\n",
      "\n",
      " ------------- \n",
      "\n",
      "Loss: 0.6665719747543335\n",
      "Time for 140 iterations: 106.70350646972656\n",
      "Evaluating model on 250 random 20 way one-shot learning tasks ... \n",
      "\n",
      "Got an average of 22.8% 20 way one-shot learning accuracy \n",
      "\n",
      "iteration 140, training loss: 0.67,\n",
      "\n",
      " ------------- \n",
      "\n",
      "Loss: 0.6720685362815857\n",
      "\n",
      " ------------- \n",
      "\n",
      "Loss: 0.668893575668335\n",
      "\n",
      " ------------- \n",
      "\n",
      "Loss: 0.6731427907943726\n",
      "\n",
      " ------------- \n",
      "\n",
      "Loss: 0.6760309934616089\n",
      "\n",
      " ------------- \n",
      "\n",
      "Loss: 0.661386251449585\n",
      "\n",
      " ------------- \n",
      "\n",
      "Loss: 0.6909202337265015\n",
      "\n",
      " ------------- \n",
      "\n",
      "Loss: 0.6784377098083496\n",
      "\n",
      " ------------- \n",
      "\n",
      "Loss: 0.6789785027503967\n",
      "\n",
      " ------------- \n",
      "\n",
      "Loss: 0.6677470803260803\n"
     ]
    }
   ],
   "source": [
    "import time\n",
    "\n",
    "evaluate_every = 10 # interval for evaluating on one-shot tasks\n",
    "loss_every = 20 # interval for printing loss (iterations)\n",
    "batch_size = 32\n",
    "n_iter = 150\n",
    "N_way = 20 # how many classes for testing one-shot tasks>\n",
    "n_val = 250 # how many one-shot tasks to validate on?\n",
    "best = -1\n",
    "print(\"Starting training process!\")\n",
    "print(\"-------------------------------------\")\n",
    "t_start = time.time()\n",
    "for i in range(1, n_iter):\n",
    "    (inputs,targets)=loader.get_batch(batch_size)\n",
    "    loss=model.train_on_batch(inputs,targets)\n",
    "    print(\"\\n ------------- \\n\")\n",
    "    print(\"Loss: {0}\".format(loss)) \n",
    "    if i % evaluate_every == 0:\n",
    "        print(\"Time for {0} iterations: {1}\".format(i, time.time()-t_start))\n",
    "        val_acc = loader.test_oneshot(model,N_way,n_val,verbose=True)\n",
    "        if val_acc >= best:\n",
    "            print(\"Current best: {0}, previous best: {1}\".format(val_acc, best))\n",
    "            print(\"Saving weights to: {0} \\n\".format(project_path))\n",
    "            model.save_weights(project_path)\n",
    "            best=val_acc\n",
    "    \n",
    "    if i % loss_every == 0:\n",
    "        print(\"iteration {}, training loss: {:.2f},\".format(i,loss))\n",
    "\n",
    "        \n",
    "# weights_path = os.path.join(project_path, \"model_weights.h5\")\n",
    "# model.load_weights(weights_path)"
   ]
  },
  {
   "cell_type": "code",
   "execution_count": 59,
   "metadata": {
    "colab": {
     "base_uri": "https://localhost:8080/",
     "height": 1000
    },
    "colab_type": "code",
    "executionInfo": {
     "elapsed": 260660,
     "status": "ok",
     "timestamp": 1581594532616,
     "user": {
      "displayName": "Suryansh Sharma",
      "photoUrl": "https://lh3.googleusercontent.com/a-/AAuE7mBy1CGO0PDyRG1nsJ6rDaUXBg-h18OkEJ86htszrw=s64",
      "userId": "03232072030227591914"
     },
     "user_tz": -330
    },
    "id": "CN0FksuMbec3",
    "outputId": "a8ca0072-540c-474b-dff1-a4909ebc4e0a"
   },
   "outputs": [
    {
     "name": "stdout",
     "output_type": "stream",
     "text": [
      "Evaluating model on 450 random 1 way one-shot learning tasks ... \n",
      "\n",
      "Got an average of 100.0% 1 way one-shot learning accuracy \n",
      "\n",
      "Evaluating model on 450 random 1 way one-shot learning tasks ... \n",
      "\n",
      "Got an average of 100.0% 1 way one-shot learning accuracy \n",
      "\n",
      "Evaluating nearest neighbour on 450 unique 1 way one-shot learning tasks ...\n",
      "Evaluating model on 450 random 3 way one-shot learning tasks ... \n",
      "\n",
      "Got an average of 61.333333333333336% 3 way one-shot learning accuracy \n",
      "\n",
      "Evaluating model on 450 random 3 way one-shot learning tasks ... \n",
      "\n",
      "Got an average of 62.44444444444444% 3 way one-shot learning accuracy \n",
      "\n",
      "Evaluating nearest neighbour on 450 unique 3 way one-shot learning tasks ...\n",
      "Evaluating model on 450 random 5 way one-shot learning tasks ... \n",
      "\n",
      "Got an average of 50.888888888888886% 5 way one-shot learning accuracy \n",
      "\n",
      "Evaluating model on 450 random 5 way one-shot learning tasks ... \n",
      "\n",
      "Got an average of 50.888888888888886% 5 way one-shot learning accuracy \n",
      "\n",
      "Evaluating nearest neighbour on 450 unique 5 way one-shot learning tasks ...\n",
      "Evaluating model on 450 random 7 way one-shot learning tasks ... \n",
      "\n",
      "Got an average of 37.333333333333336% 7 way one-shot learning accuracy \n",
      "\n",
      "Evaluating model on 450 random 7 way one-shot learning tasks ... \n",
      "\n",
      "Got an average of 43.55555555555556% 7 way one-shot learning accuracy \n",
      "\n",
      "Evaluating nearest neighbour on 450 unique 7 way one-shot learning tasks ...\n",
      "Evaluating model on 450 random 9 way one-shot learning tasks ... \n",
      "\n",
      "Got an average of 32.44444444444444% 9 way one-shot learning accuracy \n",
      "\n",
      "Evaluating model on 450 random 9 way one-shot learning tasks ... \n",
      "\n",
      "Got an average of 40.44444444444444% 9 way one-shot learning accuracy \n",
      "\n",
      "Evaluating nearest neighbour on 450 unique 9 way one-shot learning tasks ...\n",
      "Evaluating model on 450 random 11 way one-shot learning tasks ... \n",
      "\n",
      "Got an average of 34.888888888888886% 11 way one-shot learning accuracy \n",
      "\n",
      "Evaluating model on 450 random 11 way one-shot learning tasks ... \n",
      "\n",
      "Got an average of 34.888888888888886% 11 way one-shot learning accuracy \n",
      "\n",
      "Evaluating nearest neighbour on 450 unique 11 way one-shot learning tasks ...\n",
      "Evaluating model on 450 random 13 way one-shot learning tasks ... \n",
      "\n",
      "Got an average of 27.333333333333332% 13 way one-shot learning accuracy \n",
      "\n",
      "Evaluating model on 450 random 13 way one-shot learning tasks ... \n",
      "\n",
      "Got an average of 34.666666666666664% 13 way one-shot learning accuracy \n",
      "\n",
      "Evaluating nearest neighbour on 450 unique 13 way one-shot learning tasks ...\n",
      "Evaluating model on 450 random 15 way one-shot learning tasks ... \n",
      "\n",
      "Got an average of 20.0% 15 way one-shot learning accuracy \n",
      "\n",
      "Evaluating model on 450 random 15 way one-shot learning tasks ... \n",
      "\n",
      "Got an average of 25.77777777777778% 15 way one-shot learning accuracy \n",
      "\n",
      "Evaluating nearest neighbour on 450 unique 15 way one-shot learning tasks ...\n",
      "Evaluating model on 450 random 17 way one-shot learning tasks ... \n",
      "\n",
      "Got an average of 22.22222222222222% 17 way one-shot learning accuracy \n",
      "\n",
      "Evaluating model on 450 random 17 way one-shot learning tasks ... \n",
      "\n",
      "Got an average of 26.444444444444443% 17 way one-shot learning accuracy \n",
      "\n",
      "Evaluating nearest neighbour on 450 unique 17 way one-shot learning tasks ...\n",
      "Evaluating model on 450 random 19 way one-shot learning tasks ... \n",
      "\n",
      "Got an average of 19.11111111111111% 19 way one-shot learning accuracy \n",
      "\n",
      "Evaluating model on 450 random 19 way one-shot learning tasks ... \n",
      "\n",
      "Got an average of 27.11111111111111% 19 way one-shot learning accuracy \n",
      "\n",
      "Evaluating nearest neighbour on 450 unique 19 way one-shot learning tasks ...\n"
     ]
    },
    {
     "data": {
      "image/png": "[encoded data removed]",
      "text/plain": [
       "<Figure size 432x288 with 1 Axes>"
      ]
     },
     "metadata": {
      "tags": []
     },
     "output_type": "display_data"
    }
   ],
   "source": [
    "def nearest_neighbour_correct(pairs,targets):\n",
    "    \"\"\"returns 1 if nearest neighbour gets the correct answer for a one-shot task\n",
    "        given by (pairs, targets)\"\"\"\n",
    "    L2_distances = np.zeros_like(targets)\n",
    "    for i in range(len(targets)):\n",
    "        L2_distances[i] = np.sum(np.sqrt(pairs[0][i]**2 - pairs[1][i]**2))\n",
    "    if np.argmin(L2_distances) == np.argmax(targets):\n",
    "        return 1\n",
    "    return 0\n",
    "\n",
    "\n",
    "def test_nn_accuracy(N_ways,n_trials,loader):\n",
    "    \"\"\"Returns accuracy of one shot \"\"\"\n",
    "    print(\"Evaluating nearest neighbour on {} unique {} way one-shot learning tasks ...\".format(n_trials,N_ways))\n",
    "\n",
    "    n_right = 0\n",
    "    \n",
    "    for i in range(n_trials):\n",
    "        pairs,targets = loader.make_oneshot_task(N_ways,\"val\")\n",
    "        correct = nearest_neighbour_correct(pairs,targets)\n",
    "        n_right += correct\n",
    "    return 100.0 * n_right / n_trials\n",
    "\n",
    "\n",
    "ways = np.arange(1, 20, 2)\n",
    "resume =  False\n",
    "val_accs, train_accs,nn_accs = [], [], []\n",
    "trials = 450\n",
    "for N in ways:\n",
    "    val_accs.append(loader.test_oneshot(model, N,trials, \"val\", verbose=True))\n",
    "    train_accs.append(loader.test_oneshot(model, N,trials, \"train\", verbose=True))\n",
    "    nn_accs.append(test_nn_accuracy(N,trials, loader))\n",
    "    \n",
    "#plot the accuracy vs num categories for each\n",
    "plt.plot(ways, val_accs, \"m\")\n",
    "plt.plot(ways, train_accs, \"y\")\n",
    "plt.plot(ways, nn_accs, \"c\")\n",
    "\n",
    "plt.plot(ways,100.0/ways,\"r\")\n",
    "plt.show()"
   ]
  },
  {
   "cell_type": "code",
   "execution_count": 60,
   "metadata": {
    "colab": {
     "base_uri": "https://localhost:8080/",
     "height": 533
    },
    "colab_type": "code",
    "executionInfo": {
     "elapsed": 1226,
     "status": "ok",
     "timestamp": 1581594556132,
     "user": {
      "displayName": "Suryansh Sharma",
      "photoUrl": "https://lh3.googleusercontent.com/a-/AAuE7mBy1CGO0PDyRG1nsJ6rDaUXBg-h18OkEJ86htszrw=s64",
      "userId": "03232072030227591914"
     },
     "user_tz": -330
    },
    "id": "zDSw9a9Fbec5",
    "outputId": "1ae8a608-a050-4f60-bfa8-478affdfb2d9"
   },
   "outputs": [
    {
     "data": {
      "image/png": "[encoded data removed]",
      "text/plain": [
       "<Figure size 432x288 with 1 Axes>"
      ]
     },
     "metadata": {
      "tags": []
     },
     "output_type": "display_data"
    },
    {
     "data": {
      "image/png": "[encoded data removed]",
      "text/plain": [
       "<Figure size 432x288 with 2 Axes>"
      ]
     },
     "metadata": {
      "tags": []
     },
     "output_type": "display_data"
    }
   ],
   "source": [
    "fig,ax = plt.subplots(1)\n",
    "ax.plot(ways, val_accs, \"m\", label=\"Siamese(val set)\")\n",
    "ax.plot(ways, train_accs, \"y\", label=\"Siamese(train set)\")\n",
    "plt.plot(ways, nn_accs, label=\"Nearest neighbour\")\n",
    "\n",
    "ax.plot(ways, 100.0/ways, \"g\", label=\"Random guessing\")\n",
    "plt.xlabel(\"Number of possible classes in one-shot tasks\")\n",
    "plt.ylabel(\"% Accuracy\")\n",
    "plt.title(\"Omiglot One-Shot Learning Performance of a Siamese Network\")\n",
    "box = ax.get_position()\n",
    "ax.set_position([box.x0, box.y0, box.width * 0.8, box.height])\n",
    "ax.legend(loc='center left', bbox_to_anchor=(1, 0.5))\n",
    "inputs,targets = loader.make_oneshot_task(20, \"val\")\n",
    "plt.show()\n",
    "\n",
    "plot_oneshot_task(inputs)"
   ]
  },
  {
   "cell_type": "code",
   "execution_count": 0,
   "metadata": {
    "colab": {},
    "colab_type": "code",
    "id": "1lAroJUTcTlo"
   },
   "outputs": [],
   "source": []
  }
 ],
 "metadata": {
  "accelerator": "GPU",
  "colab": {
   "collapsed_sections": [],
   "name": "One-Shot-Learning.ipynb",
   "provenance": []
  },
  "kernelspec": {
   "display_name": "Python 3",
   "language": "python",
   "name": "python3"
  },
  "language_info": {
   "codemirror_mode": {
    "name": "ipython",
    "version": 3
   },
   "file_extension": ".py",
   "mimetype": "text/x-python",
   "name": "python",
   "nbconvert_exporter": "python",
   "pygments_lexer": "ipython3",
   "version": "3.7.4"
  }
 },
 "nbformat": 4,
 "nbformat_minor": 1
}
