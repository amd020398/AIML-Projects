{
 "cells": [
  {
   "cell_type": "code",
   "execution_count": 1,
   "metadata": {},
   "outputs": [],
   "source": [
    "import numpy as np\n",
    "import scipy.stats as stats\n",
    "import matplotlib.pyplot as plt"
   ]
  },
  {
   "cell_type": "markdown",
   "metadata": {},
   "source": [
    "# 1. Question: Please refer the table below to answer below questions:\n",
    "1.\n",
    "Planned to purchase Product A Actually placed and order for Product A - Yes Actually placed and order for Product A - No Total\n",
    "Yes 400 100 500\n",
    "No 200 1300 1500\n",
    "Total 600 1400 2000\n",
    "Refer to the above table and ind the joint probability of the people who planned to purchase and actually\n",
    "placed an order.\n",
    "2. Refer to the above table and ind the joint probability of the people who planned to purchase and actually\n",
    "placed an order, given that people planned to purchase"
   ]
  },
  {
   "cell_type": "code",
   "execution_count": 8,
   "metadata": {},
   "outputs": [
    {
     "name": "stdout",
     "output_type": "stream",
     "text": [
      "Answer1 : The joint probability of the people who planned to purchase and actually placed an order is 400/2000:  0.2\n",
      "Answer1 : the joint probability of the people who planned to purchase and actually placed an order, given that people planned to purchase is 400/500:  0.8\n"
     ]
    }
   ],
   "source": [
    "print(\"Answer1 : The joint probability of the people who planned to purchase and actually placed an order is 400/2000: \",(400/2000))\n",
    "print(\"Answer1 : the joint probability of the people who planned to purchase and actually placed an order, given that people planned to purchase is 400/500: \",(400/500))"
   ]
  },
  {
   "cell_type": "markdown",
   "metadata": {},
   "source": [
    "# 2. Question: An electrical manufacturing company conducts quality checks at specified periods on theproducts it manufactures. Historically, the failure rate for the manufactured item is 5%. Suppose a randomsample of 10 manufactured items is selected. \n",
    "Answer the following questions.\n",
    "A. Probability that none of the items are defective?\n",
    "B. Probability that exactly one of the items is defective?\n",
    "C. Probability that two or fewer of the items are defective?\n",
    "D. Probability that three or more of the items are defective ?"
   ]
  },
  {
   "cell_type": "code",
   "execution_count": 16,
   "metadata": {},
   "outputs": [
    {
     "data": {
      "text/plain": [
       "array([5.98736939e-01, 3.15124705e-01, 7.46347985e-02, 1.04750594e-02,\n",
       "       9.64808106e-04, 6.09352488e-05, 2.67259863e-06, 8.03789063e-08,\n",
       "       1.58642578e-09, 1.85546875e-11])"
      ]
     },
     "execution_count": 16,
     "metadata": {},
     "output_type": "execute_result"
    }
   ],
   "source": [
    "n = 10\n",
    "p = 0.05\n",
    "k=np.arange(0,10)\n",
    "k\n",
    "binomial = stats.binom.pmf(k,n,p)\n",
    "binomial\n",
    "\n",
    "\n"
   ]
  },
  {
   "cell_type": "code",
   "execution_count": 20,
   "metadata": {},
   "outputs": [
    {
     "name": "stdout",
     "output_type": "stream",
     "text": [
      "A - Probability that none of the items are defective is:  0.5987369392383789\n",
      "B - Probability that exactly one of the items is defective is:  0.31512470486230504\n",
      "C - Probability that two or fewer of the items are defective is:  0.9884964426207035\n",
      "D - Probability that three or more of the items are defective is:  0.0010284979378902825\n"
     ]
    }
   ],
   "source": [
    "#Answer A\n",
    "print(\"A - Probability that none of the items are defective is: \", binomial[0])\n",
    "#Answer B\n",
    "print(\"B - Probability that exactly one of the items is defective is: \", binomial[1])\n",
    "#Answer C\n",
    "print(\"C - Probability that two or fewer of the items are defective is: \", binomial[0]+binomial[1]+binomial[2])\n",
    "#Answer D\n",
    "print(\"D - Probability that three or more of the items are defective is: \", 1-(binomial[0]+binomial[1]+binomial[2]+binomial[3]))"
   ]
  },
  {
   "cell_type": "markdown",
   "metadata": {},
   "source": [
    "# 3. Question: A car salesman sells on an average 3 cars per week.\n",
    "A. Probability that in a given week he will sell some cars.\n",
    "B. Probability that in a given week he will sell 2 or more but less than 5 cars.\n",
    "C. Plot the poisson distribution function for cumulative probability of cars sold per-week vs number of cars sold per-\n",
    "week."
   ]
  },
  {
   "cell_type": "code",
   "execution_count": 21,
   "metadata": {},
   "outputs": [
    {
     "data": {
      "text/plain": [
       "array([0.04978707, 0.14936121, 0.22404181, 0.22404181, 0.16803136,\n",
       "       0.10081881, 0.05040941, 0.02160403, 0.00810151, 0.0027005 ])"
      ]
     },
     "execution_count": 21,
     "metadata": {},
     "output_type": "execute_result"
    }
   ],
   "source": [
    "avg = 3\n",
    "k=np.arange(0,10)\n",
    "poisson = stats.poisson.pmf(k,avg)\n",
    "poisson"
   ]
  },
  {
   "cell_type": "code",
   "execution_count": 24,
   "metadata": {},
   "outputs": [
    {
     "name": "stdout",
     "output_type": "stream",
     "text": [
      "Probability that in a given week he will sell some cars is:  0.950212931632136\n",
      "Probability that in a given week he will sell 2 or more but less than 5 cars is:  0.6161149710523164\n"
     ]
    }
   ],
   "source": [
    "#Answer 1\n",
    "print(\"Probability that in a given week he will sell some cars is: \", 1-poisson[0])\n",
    "#Answer 2\n",
    "print(\"Probability that in a given week he will sell 2 or more but less than 5 cars is: \", poisson[2]+poisson[3]+poisson[4])"
   ]
  },
  {
   "cell_type": "code",
   "execution_count": 25,
   "metadata": {},
   "outputs": [
    {
     "data": {
      "image/png": "[encoded data removed]",
      "text/plain": [
       "<Figure size 432x288 with 1 Axes>"
      ]
     },
     "metadata": {
      "needs_background": "light"
     },
     "output_type": "display_data"
    }
   ],
   "source": [
    "#Answer 3\n",
    "plt.plot(k,poisson,'o-')\n",
    "plt.title('Poisson: $\\lambda$ = %i ' % avg)\n",
    "plt.xlabel('Number of cars sold per week')\n",
    "plt.ylabel('Probability of cars sold per week')\n",
    "plt.show()"
   ]
  },
  {
   "cell_type": "markdown",
   "metadata": {},
   "source": [
    "# 4. Question: Accuracy in understanding orders for a speech based bot at a restaurant is important for theCompany X which has designed, marketed and launched the product for a contactless delivery due to theCOVID-19 pandemic. Recognition accuracy that measures the percentage of orders that are taken correctly is 86.8%. Suppose that you place order with the bot and two friends of yours independently place orders with the same bot. Answer the following questions.\n",
    "A. What is the probability that all three orders will be recognised correctly?\n",
    "B. What is the probability that none of the three orders will be recognised correctly?\n",
    "C. What is the probability that at least two of the three orders will be recognised correctly?"
   ]
  },
  {
   "cell_type": "code",
   "execution_count": 29,
   "metadata": {},
   "outputs": [
    {
     "data": {
      "text/plain": [
       "array([0.41979029, 0.36437797, 0.15814004, 0.04575518, 0.00992888])"
      ]
     },
     "execution_count": 29,
     "metadata": {},
     "output_type": "execute_result"
    }
   ],
   "source": [
    "accuracy = 0.868\n",
    "k = np.arange(0,5)\n",
    "poisson = stats.poisson.pmf(k,accuracy)\n",
    "poisson"
   ]
  },
  {
   "cell_type": "code",
   "execution_count": 32,
   "metadata": {},
   "outputs": [
    {
     "name": "stdout",
     "output_type": "stream",
     "text": [
      "The probability that all three orders will be recognised correctly is:  0.9423083032604638\n",
      "The probability that none of the three orders will be recognised correctly is:  0.057691696739536225\n",
      "The probability that at least two of the three orders will be recognised correctly:  0.8418599599690937\n"
     ]
    }
   ],
   "source": [
    "#answer 1\n",
    "print(\"The probability that all three orders will be recognised correctly is: \", poisson[0]+poisson[1]+poisson[2])\n",
    "#answer 2\n",
    "print(\"The probability that none of the three orders will be recognised correctly is: \",1-(poisson[0]+poisson[1]+poisson[2]))\n",
    "#answer3 \n",
    "print(\"The probability that at least two of the three orders will be recognised correctly: \",1-poisson[2])"
   ]
  },
  {
   "cell_type": "markdown",
   "metadata": {},
   "source": [
    "# 5. Question: A group of 300 professionals sat for a competitive exam. The results show the information of marks obtained by them have a mean of 60 and a standard deviation of 12. The pattern of marks follows a normal distribution. Answer the following questions.\n",
    "A. What is the percentage of students who score more than 80.\n",
    "B. What is the percentage of students who score less than 50.\n",
    "C. What should be the distinction mark if the highest 10% of students are to be awarded distinction?# "
   ]
  },
  {
   "cell_type": "code",
   "execution_count": 45,
   "metadata": {},
   "outputs": [
    {
     "name": "stdout",
     "output_type": "stream",
     "text": [
      "The percentage of students who score more than 80:  4.77903522728147 %\n",
      "The percentage of students who score less than 50:  20.232838096364308 %\n",
      "the distinction mark if the highest 10% of students are to be awarded distinction should be approx 75 because stats.norm.cdf(75,loc=u,scale=sd)*100 gives us :  10.564977366685536 %\n"
     ]
    }
   ],
   "source": [
    "n = 300 \n",
    "u = 60\n",
    "sd = 12\n",
    "\n",
    "print(\"The percentage of students who score more than 80: \",(1-stats.norm.cdf(80,loc=u,scale=sd))*100,\"%\")\n",
    "print(\"The percentage of students who score less than 50: \",stats.norm.cdf(50,loc=u,scale=sd)*100,\"%\")\n",
    "print(\"the distinction mark if the highest 10% of students are to be awarded distinction should be approx 75 because stats.norm.cdf(75,loc=u,scale=sd)*100 gives us : \",(1-stats.norm.cdf(75,loc=u,scale=sd))*100,\"%\")"
   ]
  },
  {
   "cell_type": "markdown",
   "metadata": {},
   "source": [
    "# 6. Question: Explain 1 real life industry scenario [other than the ones mentioned above] where you can use the concepts learnt in this module of Applied statistics to get a data driven business solution."
   ]
  },
  {
   "cell_type": "markdown",
   "metadata": {},
   "source": [
    "Hello , I would like to present a real life scenario which is relatable to me and the area which i am currently working in. I am working as a software developer on an ERP , so ERP is basically a platform that provides a total information about an enterprise's sales, purchase, invoices, products, etc. I am handling a project in which my client sells Ink cartridges. So from the concepts that i have learnt in the course, i have applied a few concepts over there just for learning purpose. I used poisson dist. to determine the sale of one week by the given data and By applying the concepts i also figured out which product of my client has the highest probability of selling. In this way i am trying to learn the concepts with the data i have. I am further planning to learn more from this course and train a model which will automatically provide me the information about my client's business which will help both of us to grow in our respective fields."
   ]
  },
  {
   "cell_type": "code",
   "execution_count": null,
   "metadata": {},
   "outputs": [],
   "source": []
  }
 ],
 "metadata": {
  "kernelspec": {
   "display_name": "Python 3",
   "language": "python",
   "name": "python3"
  },
  "language_info": {
   "codemirror_mode": {
    "name": "ipython",
    "version": 3
   },
   "file_extension": ".py",
   "mimetype": "text/x-python",
   "name": "python",
   "nbconvert_exporter": "python",
   "pygments_lexer": "ipython3",
   "version": "3.7.6"
  }
 },
 "nbformat": 4,
 "nbformat_minor": 4
}
