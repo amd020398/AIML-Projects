{
 "cells": [
  {
   "cell_type": "markdown",
   "metadata": {},
   "source": [
    "          ©Great Learning. Proprietary content. All Rights Reserved. Unauthorised use or distribution prohibited"
   ]
  },
  {
   "cell_type": "markdown",
   "metadata": {},
   "source": [
    "## AIML Module Project - Name - Project \n",
    "\n",
    "- GL | Moderator Copy"
   ]
  },
  {
   "cell_type": "markdown",
   "metadata": {},
   "source": [
    "### --> Assessment [ Total Score: 30 points ]\n",
    "\n",
    "Please refer to the problem statement for questions and descriptions"
   ]
  },
  {
   "cell_type": "markdown",
   "metadata": {},
   "source": [
    "### --> Scoring mechanism [ moderators] :\n",
    "\n",
    "    \" High quality and stritct assessment will enable our learners to achieve a score that they actually deserve and provide them a motivation to improvise for future. We are enabling the learners with high quality assessment and learnings. \"\n",
    "\n",
    "\n",
    "You will find the rubrics divided into 3 parts:\n",
    "    \n",
    "    -> Direct points [DP] : \n",
    "        1. These points tests the required bare minimum working knowledge on AIML for the learner. \n",
    "        2. The output obtained will be fixed and cannot vary much. \n",
    "        3. Please award points if the submission is perfectly/near to similar to the sample solution\n",
    "              \n",
    "    -> Generic points [GP] : \n",
    "        1. These points tests the analytical thinking capacity of the learner. \n",
    "        2. These points tests the efforts and time invested by the learner on the project.\n",
    "        3. The output obtained will vary. \n",
    "        4. Please award points only if the submissions are relevant, logical, analytical and innovative.\n",
    "        \n",
    "    -> Deduct X points from the total score if any two or more of the below pointers not followed:\n",
    "        1. ”.html” and \".ipynb\" files should be an exact match.\n",
    "        2. Pre-run codes with all outputs intact.\n",
    "        3. Error free & machine independent i.e. run on any machine without adding any extra code.\n",
    "        4. Well commented code for:\n",
    "            - clarity on code designed\n",
    "            - assumptions made\n",
    "            - approach taken\n",
    "            - insights found\n",
    "            - results obtained.\n",
    "        \n",
    "        - X = 5  --> if the total score of the assignment is 30\n",
    "        - X = 10 --> if the total score of the assignment is 60 "
   ]
  },
  {
   "cell_type": "markdown",
   "metadata": {},
   "source": [
    "#### > QUESTION 1 [ DP: 2 points ] "
   ]
  },
  {
   "cell_type": "code",
   "execution_count": 1,
   "metadata": {},
   "outputs": [],
   "source": [
    "# 400 people planned to purchase and actually placed an order: 400 out of 2000 people.\n",
    "\n",
    "PO = 400 # PO is the number of people who planned and actually placed an order\n",
    "Total  = 2000\n",
    "K = round(PO / Total,4) \n",
    "print('Joint probability of the people who planned to purchase and actually placed an order. is %1.4f' % K)"
   ]
  },
  {
   "cell_type": "markdown",
   "metadata": {},
   "source": [
    "- Answer to part 2: [ Score: 1 point]\n",
    "\n",
    "- Sample solution: \n",
    "\n",
    "    Probability of A given B is written as P(A | B).\n",
    "\n",
    "    $P(A\\mid B) = \\frac{P(A \\quad and \\quad B)}{P(B)}$\n",
    "\n",
    "    where P(A and B) = Joint probability of A and B\n",
    "    *     P(A)       = Marginal probability of A\n",
    "    *     P(B)       = Marginal probability of B"
   ]
  },
  {
   "cell_type": "code",
   "execution_count": 2,
   "metadata": {},
   "outputs": [],
   "source": [
    "# P1 = P(Actually placed an order | Planned to purchase)\n",
    "# P2 = Planned to purchase and actually placed an order\n",
    "# P3 = Planned to purchase\n",
    "P1   = (400 / 2000 )/ (500 / 2000)\n",
    "\n",
    "print('P(Actually placed an order | Planned to purchase) is %1.4f' % P1)     "
   ]
  },
  {
   "cell_type": "markdown",
   "metadata": {},
   "source": [
    "- - - - - - - - - - - - - - - - - - - - - - - - - - - - - - - - - - - - - - - - - - - - - - - - - - - - - - - - "
   ]
  },
  {
   "cell_type": "markdown",
   "metadata": {},
   "source": [
    "#### > QUESTION 2  [ DP: 3 points]"
   ]
  },
  {
   "cell_type": "markdown",
   "metadata": {},
   "source": [
    "- Binomial Distribution\n",
    "\n",
    "    It is widely used probability distribution of a discrete random variable. \n",
    "\n",
    "    Plays major role in quality control and quality assurance function. \n",
    "\n",
    "    $P(X = x\\mid n,\\pi)$ = $\\frac{n!}{x!(n - x)!}\\pi^x (1 - \\pi)^{n-x} $\n",
    "    * where P(X = x) is the probability of getting x successes in n trials\n",
    "    and $\\pi$ is the probability of an event of interest\n",
    "\n",
    "\n",
    "    Some important functions in Python for Binomial distribution:\n",
    "\n",
    "    1) Probability mass function\n",
    "    scipy.stats.binom.pmf gives the probability mass function for the binomial distribution\n",
    "    binomial = scipy.stats.binom.pmf (k,n,p), \n",
    "    where k is an array and takes values in {0, 1,..., n}\n",
    "    n and p are shape parameters for the binomial distribution\n",
    "    The output, binomial, gives probability of binomial distribution function in terms of array.\n",
    "\n",
    "    2) Cumulative Density function\n",
    "    cumbinomial = scipy.stats.binom.cdf(k,n,p) gives cumulative binomial distribution.\n",
    "    The output, cumbinomial, gives cumulative probability of binomial distribution function in terms of array.\n",
    "\n",
    "    3) Plot the binomial Density function\n",
    "    The function, matplotlib.pyplot.plot(k, binomial, ‘o-’) gives us plot of the binomial distribution function."
   ]
  },
  {
   "cell_type": "markdown",
   "metadata": {},
   "source": [
    "- Answer to Question 2:  "
   ]
  },
  {
   "cell_type": "code",
   "execution_count": 3,
   "metadata": {},
   "outputs": [
    {
     "name": "stdout",
     "output_type": "stream",
     "text": [
      "Binomial distribution\n",
      "\n",
      " [5.98736939e-01 3.15124705e-01 7.46347985e-02 1.04750594e-02\n",
      " 9.64808106e-04 6.09352488e-05 2.67259863e-06 8.03789063e-08\n",
      " 1.58642578e-09 1.85546875e-11 9.76562500e-14]\n",
      "\n",
      "\n",
      "a) Probability that none of the items are defective ? is 0.5987\n",
      "\n",
      "\n",
      "b) Probability that  exactly one of the items is defective ? is 0.3151\n",
      "\n",
      "[0.59873694 0.91386164 0.98849644 0.9989715  0.99993631 0.99999725\n",
      " 0.99999992 1.         1.         1.         1.        ]\n",
      "\n",
      "\n",
      "c) Probability that two or fewer of the items are defective ? is 0.9885\n",
      "\n",
      "\n",
      "d) Probability that three or more of the items are defective ? is 0.0115\n"
     ]
    }
   ],
   "source": [
    "import numpy as np\n",
    "import pandas as pd\n",
    "import scipy.stats as stats\n",
    "import matplotlib.pyplot as plt\n",
    "\n",
    "p = 0.05 # failure rate for items that the company manufactures is 5%\n",
    "n = 10 # sample size\n",
    "k = np.arange(0,11) # An array of quantiles\n",
    "\n",
    "binomial = stats.binom.pmf(k,n,p)\n",
    "\n",
    "print(\"Binomial distribution\\n\\n\",binomial)\n",
    "print('\\n\\na) Probability that none of the items are defective ? is %1.4f' %binomial[0])\n",
    "print('\\n\\nb) Probability that  exactly one of the items is defective ? is %1.4f\\n' %binomial[1])\n",
    "\n",
    "# To answer the question \n",
    "# c) Two or fewer of the items are defective? \n",
    "# we need to calculate cumulative probability of upto two items being defective\n",
    "cumbinomial = stats.binom.cdf(k,n,p)\n",
    "print(cumbinomial)\n",
    "print('\\n\\nc) Probability that two or fewer of the items are defective ? is %1.4f' %cumbinomial[2])\n",
    "\n",
    "P = 1- cumbinomial[2]\n",
    "print('\\n\\nd) Probability that three or more of the items are defective ? is %1.4f' % P)"
   ]
  },
  {
   "cell_type": "markdown",
   "metadata": {},
   "source": [
    "- - - - - - - - - - - - - - - - - - - - - - - - - - - - - - - - - - - - - - - - - - - - - - - - - - - - - - - - "
   ]
  },
  {
   "cell_type": "markdown",
   "metadata": {},
   "source": [
    "#### > QUESTION 3 [ DP: 3 points ]"
   ]
  },
  {
   "cell_type": "markdown",
   "metadata": {},
   "source": [
    "- Poissson Distribution\n",
    "\n",
    "    This discrete distribution which also plays a major role in quality control. \n",
    "\n",
    "    The Poisson distribution is a discrete probability distribution for the counts of events that occur randomly in a given \n",
    "    interval of time or space. In such areas of opportunity, there can be more than one occurrence. In such situations, Poisson \n",
    "    distribution can be used to compute probabilities.\n",
    "\n",
    "    Examples include number of defects per item, number of defects per transformer produced. \n",
    "    Notes: Poisson Distribution helps to predict the arrival rate in a waiting line situation where a queue is formed and people wait to be served and the service rate is generally higher than the arrival rate.\n",
    "\n",
    "\n",
    "- Properties:\n",
    "\n",
    "    Mean μ = λ\n",
    "\n",
    "    Standard deviation σ = √ μ\n",
    "\n",
    "    The Poisson distribution is the limit of binomial distribution as n approaches ∞and p approaches 0\n",
    "\n",
    "    P(X = x) = $\\frac{e^\\lambda \\lambda^x}{x!} $\n",
    "    where \n",
    "    * P(x)              = Probability of x successes given an idea of  $\\lambda$\n",
    "    * $\\lambda$ = Average number of successes\n",
    "    * e                   = 2.71828 (based on natural logarithm)\n",
    "    * x                    = successes per unit which can take values 0,1,2,3,... $\\infty$\n",
    "\n",
    "    Applications\n",
    "\n",
    "    Car Accidents\n",
    "\n",
    "    Number of deaths by horse kicking in Prussian Army (first application)\n",
    "\n",
    "    Birth defects and genetic mutation\n",
    "\n",
    "    Note\n",
    "\n",
    "    If there is a fixed number of observations, n, each of which is classified as an event of interest or not an event of interest,\n",
    "    use the binomial distribution.\n",
    "\n",
    "    If there is an area of opportunity, use the Poisson distribution."
   ]
  },
  {
   "cell_type": "markdown",
   "metadata": {},
   "source": [
    "#### > Answer to Question 3:  "
   ]
  },
  {
   "cell_type": "code",
   "execution_count": 4,
   "metadata": {},
   "outputs": [
    {
     "name": "stdout",
     "output_type": "stream",
     "text": [
      "[0.04978707 0.19914827 0.42319008 0.64723189 0.81526324 0.91608206\n",
      " 0.96649146 0.9880955  0.99619701 0.99889751 0.99970766 0.99992861\n",
      " 0.99998385 0.9999966  0.99999933 0.99999988]\n",
      " \n",
      "\n",
      "a) Probability that in a given week he will sell some cars is 0.9502\n",
      " \n",
      "\n",
      "b) Probability that in a given week he will sell 2 or more but less than 5 cars is 0.6161\n"
     ]
    },
    {
     "data": {
      "image/png": "[encoded data removed]",
      "text/plain": [
       "<Figure size 432x288 with 1 Axes>"
      ]
     },
     "metadata": {
      "needs_background": "light"
     },
     "output_type": "display_data"
    }
   ],
   "source": [
    "rate = 3 # which is the mean\n",
    "n =  np.arange(0,16)\n",
    "cumpoisson = stats.poisson.cdf(n,rate)\n",
    "print(cumpoisson)\n",
    "\n",
    "# P = probability that the agent sells some cars\n",
    "P   = 1 - cumpoisson[0]\n",
    "print(' \\n\\na) Probability that in a given week he will sell some cars is %1.4f' % P)\n",
    "\n",
    "# Let P1 be the probability that the agent sells more than 4 cars\n",
    "P1 = cumpoisson[4] # P(X >=4)\n",
    "# Let P2 be the probability that the agent sells more than 1  car\n",
    "P2 = cumpoisson[1] # P(X >=1)\n",
    "P = P1 - P2 # Prob. that the agent will sell between 2 and 5 cars\n",
    "print(' \\n\\nb) Probability that in a given week he will sell 2 or more but less than 5 cars is %1.4f' % P)\n",
    "\n",
    "# plot poissons distribution plot\n",
    "poisson = stats.poisson.pmf(n,rate)\n",
    "plt.plot(n,poisson, 'o-')\n",
    "plt.title('Poisson')\n",
    "plt.xlabel('Number of cars sold per week')\n",
    "plt.ylabel('Cumulative Prob of cars sold per week')\n",
    "plt.show()"
   ]
  },
  {
   "cell_type": "markdown",
   "metadata": {},
   "source": [
    "- - - - - - - - - - - - - - - - - - - - - - - - - - - - - - - - - - - - - - - - - - - - - - - - - - - - - - - - "
   ]
  },
  {
   "cell_type": "markdown",
   "metadata": {},
   "source": [
    "#### > QUESTION 4: [ DP: 3 points]"
   ]
  },
  {
   "cell_type": "markdown",
   "metadata": {},
   "source": [
    "    Because there are three orders and the probability of a correct order is 0.868.\n",
    "        Using Binomial distribution equation,\n",
    "\n",
    "        P(X = 3|n =3, pi given = 0.868)\n",
    "        3!/ 3!(3-3)! * (0.868)^3 * (1-0.868)^3-3 = 0.6540\n",
    "\n",
    "        Likewise, calculate X= 0, X=2\n",
    "         (X = 0) = 0.0023\n",
    "         (X = 2) = 0.2984\n",
    "\n",
    "        Hence, P(X>=2) = P(X=2)+P(X=3) = 0.9524\n",
    "\n",
    "    \n",
    "- Answer to Question 4:\n",
    "\n",
    " - The probability that all the three orders are filled correctly is 0.6540, 65.4% \n",
    " - The probability that none of the orders are filled correctly is 0.0023, 0.23% \n",
    " - The probability that atleat two of the three are filled correctly is 0.9524, 95.24%"
   ]
  },
  {
   "cell_type": "code",
   "execution_count": 5,
   "metadata": {},
   "outputs": [
    {
     "name": "stdout",
     "output_type": "stream",
     "text": [
      "The probability that all the three orders are filled correctly is 0.653972032\n",
      "The probability that none of the orders are filled correctly is 0.0022999680000000003\n",
      "The probability that atleat two of the three are filled correctly is 0.952327936\n"
     ]
    }
   ],
   "source": [
    "#python implementation for Question 4:\n",
    "\n",
    "from math import factorial as f\n",
    "\n",
    "P_X3 = f(3)/(f(3)*f(3-3)) * (0.868)**3 * (1-0.868)**(3-3)\n",
    "P_X0 = f(3)/(f(0)*f(3-0)) * (0.868)**0 * (1-0.868)**(3-0)\n",
    "P_X2 = f(3)/(f(2)*f(3-2)) * (0.868)**2 * (1-0.868)**(3-2)\n",
    "\n",
    "print(\"The probability that all the three orders are filled correctly is\",P_X3)\n",
    "print(\"The probability that none of the orders are filled correctly is\",P_X0)\n",
    "print(\"The probability that atleat two of the three are filled correctly is\", P_X2+P_X3)"
   ]
  },
  {
   "cell_type": "markdown",
   "metadata": {},
   "source": [
    "- - - - - - - - - - - - - - - - - - - - - - - - - - - - - - - - - - - - - - - - - - - - - - - - - - - - - - - - "
   ]
  },
  {
   "cell_type": "markdown",
   "metadata": {},
   "source": [
    "#### > QUESTION 5: [ Total Score: 3 points]"
   ]
  },
  {
   "cell_type": "markdown",
   "metadata": {},
   "source": [
    "#### Answer to Question 5:\n",
    "\n",
    "a) Lets use the ztable that gives the area between 0 and positive z.\n",
    "Z = (x - µ)/σ \n",
    "(80 -60)/12 =1.67 \n",
    "proportions of professionals who score more than 1.67 = 0.5 - proportion scoring between 0 and 1.67 = 0.5 - 0.4525 = 0.0475\n",
    "That is 4.75% of professionals have scored more than 80\n",
    "\n",
    "\n",
    "b) similarly (50 - 60)/12 = -0.8333. Applying the property of symmetry, the area upto -0.8333 is same as area more \n",
    "than 0.8333 in the positive side. As before, it is = 0.5 - area between 0 and 0.8333 =  0.5 - 0.2967 = 0.2033. That is\n",
    "20.33% of professionals scored below 50\n",
    "\n",
    "c) Z = (x-60)/12. Here look at the normal tabel in inverse manner. That is the value of Z, the area between 0 and\n",
    "z = 0.40. this is to be seen from teh table.\n",
    " The Z value that will make the area =  0.40 is = 1.28. But z= (x - 60)/12. Hence (x-60)/12 = 1.28 Simplifying, x= 75.36\n",
    "This is the distinction mark that will be scored by 10% of the professionals."
   ]
  },
  {
   "cell_type": "markdown",
   "metadata": {},
   "source": [
    "- - - - - - - - - - - - - - - - - - - - - - - - - - - - - - - - - - - - - - - - - - - - - - - - - - - - - - - - "
   ]
  },
  {
   "cell_type": "markdown",
   "metadata": {},
   "source": [
    "# > QUESTION 6:  [ GP: 1 points ]\n",
    "\n",
    "##### Actions:\n",
    "- Explain 1 real life industry scenario [other than the ones mentioned above] where you can use the concepts learnt in this module of Applied statistics to get a data driven business solution.\n",
    "\n",
    "- Answer: Example:\n",
    " 1. Manufacturing industry: Probability of finding out faulty product out of a production batch\n",
    " 2. Customer service industry: Probability of finding out number of customers to attend in a busy hour\n",
    " 3. Human Resource: Nomalise employee ratings in an organisation\n",
    " 4. Telecom Industry: Probablity of a phone call dropping in busy hours of the day"
   ]
  },
  {
   "cell_type": "markdown",
   "metadata": {},
   "source": [
    "- - - - - - - - - - - - - - - - - - - - - - - - - - - - - - - - - - - - - - - - - - - - - - - - - - - - - - - - "
   ]
  },
  {
   "cell_type": "markdown",
   "metadata": {},
   "source": [
    "- - - - - - - - - - - - - - - - - - - - - - - - - - - - - - - - - - - - - - - - - - - - - - - - - - - - - - - - "
   ]
  },
  {
   "cell_type": "markdown",
   "metadata": {},
   "source": [
    "                                            END OF PART I"
   ]
  },
  {
   "cell_type": "markdown",
   "metadata": {},
   "source": [
    "- - - - - - - - - - - - - - - - - - - - - - - - - - - - - - - - - - - - - - - - - - - - - - - - - - - - - - - - "
   ]
  },
  {
   "cell_type": "markdown",
   "metadata": {},
   "source": [
    "©Great Learning. Proprietary content. All Rights Reserved. Unauthorised use or distribution prohibited"
   ]
  }
 ],
 "metadata": {
  "colab": {
   "name": "Project 1 - Statistical Learning.ipynb",
   "provenance": []
  },
  "kernelspec": {
   "display_name": "Python 3",
   "language": "python",
   "name": "python3"
  },
  "language_info": {
   "codemirror_mode": {
    "name": "ipython",
    "version": 3
   },
   "file_extension": ".py",
   "mimetype": "text/x-python",
   "name": "python",
   "nbconvert_exporter": "python",
   "pygments_lexer": "ipython3",
   "version": "3.7.7"
  }
 },
 "nbformat": 4,
 "nbformat_minor": 1
}
