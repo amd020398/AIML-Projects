{
 "cells": [
  {
   "cell_type": "code",
   "execution_count": 83,
   "metadata": {},
   "outputs": [
    {
     "name": "stdout",
     "output_type": "stream",
     "text": [
      "Collecting surprise\n",
      "  Downloading surprise-0.1-py2.py3-none-any.whl (1.8 kB)\n",
      "Collecting scikit-surprise\n",
      "  Downloading scikit-surprise-1.1.1.tar.gz (11.8 MB)\n",
      "\u001b[K     |████████████████████████████████| 11.8 MB 29 kB/s  eta 0:00:01\n",
      "\u001b[?25hRequirement already satisfied: joblib>=0.11 in /home/akshat/.local/lib/python3.8/site-packages (from scikit-surprise->surprise) (1.0.1)\n",
      "Requirement already satisfied: numpy>=1.11.2 in /home/akshat/.local/lib/python3.8/site-packages (from scikit-surprise->surprise) (1.20.2)\n",
      "Requirement already satisfied: scipy>=1.0.0 in /home/akshat/.local/lib/python3.8/site-packages (from scikit-surprise->surprise) (1.6.2)\n",
      "Requirement already satisfied: six>=1.10.0 in /usr/lib/python3/dist-packages (from scikit-surprise->surprise) (1.14.0)\n",
      "Building wheels for collected packages: scikit-surprise\n",
      "  Building wheel for scikit-surprise (setup.py) ... \u001b[?25ldone\n",
      "\u001b[?25h  Created wheel for scikit-surprise: filename=scikit_surprise-1.1.1-cp38-cp38-linux_x86_64.whl size=2324405 sha256=3415b1fe013bfe53e517227b04923c07a9a289f82ee1a6f2ed3a1f35dc00f5bd\n",
      "  Stored in directory: /home/akshat/.cache/pip/wheels/20/91/57/2965d4cff1b8ac7ed1b6fa25741882af3974b54a31759e10b6\n",
      "Successfully built scikit-surprise\n",
      "Installing collected packages: scikit-surprise, surprise\n",
      "Successfully installed scikit-surprise-1.1.1 surprise-0.1\n"
     ]
    }
   ],
   "source": [
    "!pip3 install surprise"
   ]
  },
  {
   "cell_type": "code",
   "execution_count": 134,
   "metadata": {
    "ExecuteTime": {
     "start_time": "2021-01-23T11:56:01.824Z"
    }
   },
   "outputs": [],
   "source": [
    "import pandas as pd\n",
    "import numpy as np\n",
    "import matplotlib.pyplot as plt\n",
    "%matplotlib inline \n",
    "import os\n",
    "import glob\n",
    "import seaborn as sns\n",
    "from sklearn.preprocessing import LabelEncoder\n",
    "from zipfile import ZipFile\n",
    "from IPython.core.interactiveshell import InteractiveShell\n",
    "InteractiveShell.ast_node_interactivity = \"all\"\n",
    "import math\n",
    "import json\n",
    "import time\n",
    "import joblib\n",
    "from sklearn.metrics.pairwise import cosine_similarity\n",
    "from sklearn.model_selection import train_test_split\n",
    "from sklearn.neighbors import NearestNeighbors\n",
    "import scipy.sparse\n",
    "from scipy.sparse import csr_matrix\n",
    "from scipy.sparse.linalg import svds\n",
    "from sklearn.feature_extraction.text import TfidfVectorizer, CountVectorizer\n",
    "from sklearn.metrics.pairwise import linear_kernel, cosine_similarity\n",
    "\n",
    "from surprise import KNNWithMeans , Reader, Dataset, SVD\n",
    "\n",
    "from surprise import accuracy\n",
    "from surprise.model_selection import train_test_split, cross_validate\n",
    "\n",
    "# filterwarnings to ignore all unnecessary warnings and logs\n",
    "import warnings\n",
    "warnings.filterwarnings('ignore')\n"
   ]
  },
  {
   "cell_type": "code",
   "execution_count": 85,
   "metadata": {},
   "outputs": [],
   "source": [
    "# Import the dataset and give the column names\n",
    "# columns=['phone_url','date','lang','country','source','domain','score','score_max','extract','author','product']\n",
    "phone_user_review1_df=pd.read_csv('phone_user_review_file_1.csv',encoding = \"ISO-8859-1\")\n",
    "phone_user_review2_df=pd.read_csv('phone_user_review_file_2.csv',encoding = \"ISO-8859-1\")\n",
    "phone_user_review3_df=pd.read_csv('phone_user_review_file_3.csv',encoding = \"ISO-8859-1\")\n",
    "phone_user_review4_df=pd.read_csv('phone_user_review_file_4.csv',encoding = \"ISO-8859-1\")\n",
    "phone_user_review5_df=pd.read_csv('phone_user_review_file_5.csv',encoding = \"ISO-8859-1\")\n",
    "phone_user_review6_df=pd.read_csv('phone_user_review_file_6.csv',encoding = \"ISO-8859-1\")\n",
    "# Concatenating dataframes without duplicates \n",
    "combined_phone_user_review_df = pd.concat([phone_user_review1_df, phone_user_review2_df, phone_user_review3_df, \n",
    "                                           phone_user_review4_df, phone_user_review5_df,phone_user_review6_df]).drop_duplicates() "
   ]
  },
  {
   "cell_type": "code",
   "execution_count": 86,
   "metadata": {},
   "outputs": [
    {
     "data": {
      "text/html": [
       "<div>\n",
       "<style scoped>\n",
       "    .dataframe tbody tr th:only-of-type {\n",
       "        vertical-align: middle;\n",
       "    }\n",
       "\n",
       "    .dataframe tbody tr th {\n",
       "        vertical-align: top;\n",
       "    }\n",
       "\n",
       "    .dataframe thead th {\n",
       "        text-align: right;\n",
       "    }\n",
       "</style>\n",
       "<table border=\"1\" class=\"dataframe\">\n",
       "  <thead>\n",
       "    <tr style=\"text-align: right;\">\n",
       "      <th></th>\n",
       "      <th>phone_url</th>\n",
       "      <th>date</th>\n",
       "      <th>lang</th>\n",
       "      <th>country</th>\n",
       "      <th>source</th>\n",
       "      <th>domain</th>\n",
       "      <th>score</th>\n",
       "      <th>score_max</th>\n",
       "      <th>extract</th>\n",
       "      <th>author</th>\n",
       "      <th>product</th>\n",
       "    </tr>\n",
       "  </thead>\n",
       "  <tbody>\n",
       "    <tr>\n",
       "      <th>0</th>\n",
       "      <td>/cellphones/samsung-galaxy-s8/</td>\n",
       "      <td>5/2/2017</td>\n",
       "      <td>en</td>\n",
       "      <td>us</td>\n",
       "      <td>Verizon Wireless</td>\n",
       "      <td>verizonwireless.com</td>\n",
       "      <td>10.0</td>\n",
       "      <td>10.0</td>\n",
       "      <td>As a diehard Samsung fan who has had every Sam...</td>\n",
       "      <td>CarolAnn35</td>\n",
       "      <td>Samsung Galaxy S8</td>\n",
       "    </tr>\n",
       "    <tr>\n",
       "      <th>1</th>\n",
       "      <td>/cellphones/samsung-galaxy-s8/</td>\n",
       "      <td>4/28/2017</td>\n",
       "      <td>en</td>\n",
       "      <td>us</td>\n",
       "      <td>Phone Arena</td>\n",
       "      <td>phonearena.com</td>\n",
       "      <td>10.0</td>\n",
       "      <td>10.0</td>\n",
       "      <td>Love the phone. the phone is sleek and smooth ...</td>\n",
       "      <td>james0923</td>\n",
       "      <td>Samsung Galaxy S8</td>\n",
       "    </tr>\n",
       "    <tr>\n",
       "      <th>2</th>\n",
       "      <td>/cellphones/samsung-galaxy-s8/</td>\n",
       "      <td>5/4/2017</td>\n",
       "      <td>en</td>\n",
       "      <td>us</td>\n",
       "      <td>Amazon</td>\n",
       "      <td>amazon.com</td>\n",
       "      <td>6.0</td>\n",
       "      <td>10.0</td>\n",
       "      <td>Adequate feel. Nice heft. Processor's still sl...</td>\n",
       "      <td>R. Craig</td>\n",
       "      <td>Samsung Galaxy S8 (64GB) G950U 5.8\" 4G LTE Unl...</td>\n",
       "    </tr>\n",
       "    <tr>\n",
       "      <th>3</th>\n",
       "      <td>/cellphones/samsung-galaxy-s8/</td>\n",
       "      <td>5/2/2017</td>\n",
       "      <td>en</td>\n",
       "      <td>us</td>\n",
       "      <td>Samsung</td>\n",
       "      <td>samsung.com</td>\n",
       "      <td>9.2</td>\n",
       "      <td>10.0</td>\n",
       "      <td>Never disappointed. One of the reasons I've be...</td>\n",
       "      <td>Buster2020</td>\n",
       "      <td>Samsung Galaxy S8 64GB (AT&amp;T)</td>\n",
       "    </tr>\n",
       "    <tr>\n",
       "      <th>4</th>\n",
       "      <td>/cellphones/samsung-galaxy-s8/</td>\n",
       "      <td>5/11/2017</td>\n",
       "      <td>en</td>\n",
       "      <td>us</td>\n",
       "      <td>Verizon Wireless</td>\n",
       "      <td>verizonwireless.com</td>\n",
       "      <td>4.0</td>\n",
       "      <td>10.0</td>\n",
       "      <td>I've now found that i'm in a group of people t...</td>\n",
       "      <td>S Ate Mine</td>\n",
       "      <td>Samsung Galaxy S8</td>\n",
       "    </tr>\n",
       "  </tbody>\n",
       "</table>\n",
       "</div>"
      ],
      "text/plain": [
       "                        phone_url       date lang country            source  \\\n",
       "0  /cellphones/samsung-galaxy-s8/   5/2/2017   en      us  Verizon Wireless   \n",
       "1  /cellphones/samsung-galaxy-s8/  4/28/2017   en      us       Phone Arena   \n",
       "2  /cellphones/samsung-galaxy-s8/   5/4/2017   en      us            Amazon   \n",
       "3  /cellphones/samsung-galaxy-s8/   5/2/2017   en      us           Samsung   \n",
       "4  /cellphones/samsung-galaxy-s8/  5/11/2017   en      us  Verizon Wireless   \n",
       "\n",
       "                domain  score  score_max  \\\n",
       "0  verizonwireless.com   10.0       10.0   \n",
       "1       phonearena.com   10.0       10.0   \n",
       "2           amazon.com    6.0       10.0   \n",
       "3          samsung.com    9.2       10.0   \n",
       "4  verizonwireless.com    4.0       10.0   \n",
       "\n",
       "                                             extract       author  \\\n",
       "0  As a diehard Samsung fan who has had every Sam...   CarolAnn35   \n",
       "1  Love the phone. the phone is sleek and smooth ...    james0923   \n",
       "2  Adequate feel. Nice heft. Processor's still sl...     R. Craig   \n",
       "3  Never disappointed. One of the reasons I've be...  Buster2020    \n",
       "4  I've now found that i'm in a group of people t...   S Ate Mine   \n",
       "\n",
       "                                             product  \n",
       "0                                  Samsung Galaxy S8  \n",
       "1                                  Samsung Galaxy S8  \n",
       "2  Samsung Galaxy S8 (64GB) G950U 5.8\" 4G LTE Unl...  \n",
       "3                      Samsung Galaxy S8 64GB (AT&T)  \n",
       "4                                  Samsung Galaxy S8  "
      ]
     },
     "execution_count": 86,
     "metadata": {},
     "output_type": "execute_result"
    }
   ],
   "source": [
    "combined_phone_user_review_df.head()"
   ]
  },
  {
   "cell_type": "code",
   "execution_count": 87,
   "metadata": {},
   "outputs": [
    {
     "name": "stdout",
     "output_type": "stream",
     "text": [
      "\u001b[33mNo of rows:  \u001b[0m 1408721\n",
      "\u001b[33mNo of columns:  \u001b[0m 11\n"
     ]
    }
   ],
   "source": [
    "from colorama import Fore, Back, Style\n",
    "rows, columns = combined_phone_user_review_df.shape\n",
    "print(Fore.YELLOW + \"No of rows: \", Style.RESET_ALL,rows) \n",
    "print(Fore.YELLOW + \"No of columns: \", Style.RESET_ALL,columns) "
   ]
  },
  {
   "cell_type": "code",
   "execution_count": 88,
   "metadata": {},
   "outputs": [],
   "source": [
    "#Taking only 100000 rows\n",
    "sample_df = combined_phone_user_review_df.sample(n = 100000, random_state = 612) "
   ]
  },
  {
   "cell_type": "code",
   "execution_count": 89,
   "metadata": {},
   "outputs": [
    {
     "data": {
      "text/html": [
       "<div>\n",
       "<style scoped>\n",
       "    .dataframe tbody tr th:only-of-type {\n",
       "        vertical-align: middle;\n",
       "    }\n",
       "\n",
       "    .dataframe tbody tr th {\n",
       "        vertical-align: top;\n",
       "    }\n",
       "\n",
       "    .dataframe thead th {\n",
       "        text-align: right;\n",
       "    }\n",
       "</style>\n",
       "<table border=\"1\" class=\"dataframe\">\n",
       "  <thead>\n",
       "    <tr style=\"text-align: right;\">\n",
       "      <th></th>\n",
       "      <th>phone_url</th>\n",
       "      <th>date</th>\n",
       "      <th>lang</th>\n",
       "      <th>country</th>\n",
       "      <th>source</th>\n",
       "      <th>domain</th>\n",
       "      <th>score</th>\n",
       "      <th>score_max</th>\n",
       "      <th>extract</th>\n",
       "      <th>author</th>\n",
       "      <th>product</th>\n",
       "    </tr>\n",
       "  </thead>\n",
       "  <tbody>\n",
       "    <tr>\n",
       "      <th>347247</th>\n",
       "      <td>/cellphones/nokia-6301/</td>\n",
       "      <td>2/21/2011</td>\n",
       "      <td>en</td>\n",
       "      <td>gb</td>\n",
       "      <td>Dooyoo</td>\n",
       "      <td>dooyoo.co.uk</td>\n",
       "      <td>10.0</td>\n",
       "      <td>10.0</td>\n",
       "      <td>This phone has lasted the test of time and has...</td>\n",
       "      <td>gilay28</td>\n",
       "      <td>Nokia 6301</td>\n",
       "    </tr>\n",
       "    <tr>\n",
       "      <th>80368</th>\n",
       "      <td>/cellphones/apple-iphone-4s/</td>\n",
       "      <td>13/1/2012</td>\n",
       "      <td>en</td>\n",
       "      <td>us</td>\n",
       "      <td>Amazon</td>\n",
       "      <td>amazon.com</td>\n",
       "      <td>10.0</td>\n",
       "      <td>10.0</td>\n",
       "      <td>For years, I've been using Android phones. Fro...</td>\n",
       "      <td>Stacy G.</td>\n",
       "      <td>Apple iPhone 4S Verizon Cellphone, 16GB, White</td>\n",
       "    </tr>\n",
       "    <tr>\n",
       "      <th>46940</th>\n",
       "      <td>/cellphones/samsung-galaxy-note-3-neo-4g-n7505/</td>\n",
       "      <td>8/21/2014</td>\n",
       "      <td>de</td>\n",
       "      <td>de</td>\n",
       "      <td>Amazon</td>\n",
       "      <td>amazon.de</td>\n",
       "      <td>10.0</td>\n",
       "      <td>10.0</td>\n",
       "      <td>Habe mir das Samsung Galaxy Note 3 Neo als Nac...</td>\n",
       "      <td>BulldoZer</td>\n",
       "      <td>Samsung Galaxy Note 3 Neo Smartphone (13,94 cm...</td>\n",
       "    </tr>\n",
       "    <tr>\n",
       "      <th>283355</th>\n",
       "      <td>/cellphones/nokia-5030/</td>\n",
       "      <td>4/12/2010</td>\n",
       "      <td>en</td>\n",
       "      <td>us</td>\n",
       "      <td>HandCellPhone</td>\n",
       "      <td>handcellphone.com</td>\n",
       "      <td>6.0</td>\n",
       "      <td>10.0</td>\n",
       "      <td>nokia 5030 me game kesa dalay</td>\n",
       "      <td>vinod kumar</td>\n",
       "      <td>Nokia 5030</td>\n",
       "    </tr>\n",
       "    <tr>\n",
       "      <th>61365</th>\n",
       "      <td>/cellphones/huawei-p9-plus/</td>\n",
       "      <td>8/2/2016</td>\n",
       "      <td>it</td>\n",
       "      <td>it</td>\n",
       "      <td>Amazon</td>\n",
       "      <td>amazon.it</td>\n",
       "      <td>10.0</td>\n",
       "      <td>10.0</td>\n",
       "      <td>Beh, dopo Iphone e Lumia sono passato al mondo...</td>\n",
       "      <td>Giorgio</td>\n",
       "      <td>Huawei P9 Plus Smartphone, LTE, Display 5.5'' ...</td>\n",
       "    </tr>\n",
       "  </tbody>\n",
       "</table>\n",
       "</div>"
      ],
      "text/plain": [
       "                                              phone_url       date lang  \\\n",
       "347247                          /cellphones/nokia-6301/  2/21/2011   en   \n",
       "80368                      /cellphones/apple-iphone-4s/  13/1/2012   en   \n",
       "46940   /cellphones/samsung-galaxy-note-3-neo-4g-n7505/  8/21/2014   de   \n",
       "283355                          /cellphones/nokia-5030/  4/12/2010   en   \n",
       "61365                       /cellphones/huawei-p9-plus/   8/2/2016   it   \n",
       "\n",
       "       country         source             domain  score  score_max  \\\n",
       "347247      gb         Dooyoo       dooyoo.co.uk   10.0       10.0   \n",
       "80368       us         Amazon         amazon.com   10.0       10.0   \n",
       "46940       de         Amazon          amazon.de   10.0       10.0   \n",
       "283355      us  HandCellPhone  handcellphone.com    6.0       10.0   \n",
       "61365       it         Amazon          amazon.it   10.0       10.0   \n",
       "\n",
       "                                                  extract       author  \\\n",
       "347247  This phone has lasted the test of time and has...      gilay28   \n",
       "80368   For years, I've been using Android phones. Fro...     Stacy G.   \n",
       "46940   Habe mir das Samsung Galaxy Note 3 Neo als Nac...    BulldoZer   \n",
       "283355                      nokia 5030 me game kesa dalay  vinod kumar   \n",
       "61365   Beh, dopo Iphone e Lumia sono passato al mondo...      Giorgio   \n",
       "\n",
       "                                                  product  \n",
       "347247                                         Nokia 6301  \n",
       "80368      Apple iPhone 4S Verizon Cellphone, 16GB, White  \n",
       "46940   Samsung Galaxy Note 3 Neo Smartphone (13,94 cm...  \n",
       "283355                                         Nokia 5030  \n",
       "61365   Huawei P9 Plus Smartphone, LTE, Display 5.5'' ...  "
      ]
     },
     "execution_count": 89,
     "metadata": {},
     "output_type": "execute_result"
    }
   ],
   "source": [
    "sample_df.head()"
   ]
  },
  {
   "cell_type": "code",
   "execution_count": 90,
   "metadata": {},
   "outputs": [
    {
     "name": "stdout",
     "output_type": "stream",
     "text": [
      "\u001b[33mNo of rows:  \u001b[0m 100000\n",
      "\u001b[33mNo of columns:  \u001b[0m 11\n"
     ]
    }
   ],
   "source": [
    "rows, columns = sample_df.shape\n",
    "print(Fore.YELLOW + \"No of rows: \", Style.RESET_ALL,rows) \n",
    "print(Fore.YELLOW + \"No of columns: \", Style.RESET_ALL,columns) "
   ]
  },
  {
   "cell_type": "code",
   "execution_count": 91,
   "metadata": {},
   "outputs": [
    {
     "data": {
      "text/plain": [
       "phone_url     object\n",
       "date          object\n",
       "lang          object\n",
       "country       object\n",
       "source        object\n",
       "domain        object\n",
       "score        float64\n",
       "score_max    float64\n",
       "extract       object\n",
       "author        object\n",
       "product       object\n",
       "dtype: object"
      ]
     },
     "execution_count": 91,
     "metadata": {},
     "output_type": "execute_result"
    }
   ],
   "source": [
    "#Check Data types\n",
    "sample_df.dtypes"
   ]
  },
  {
   "cell_type": "code",
   "execution_count": 92,
   "metadata": {},
   "outputs": [],
   "source": [
    "# Datetime conversion using astype for date column:\n",
    "sample_df['date'] = sample_df['date'].astype('datetime64[ns]')"
   ]
  },
  {
   "cell_type": "code",
   "execution_count": 93,
   "metadata": {},
   "outputs": [],
   "source": [
    "# Datetime conversion using astype for date column:\n",
    "# sample_df['score'] = pd.to_numeric(sample_df['score'])\n",
    "sample_df['score'] = sample_df['score'].round().astype('Int64')"
   ]
  },
  {
   "cell_type": "code",
   "execution_count": 94,
   "metadata": {},
   "outputs": [],
   "source": [
    "# Datetime conversion using astype for date column:\n",
    "# sample_df['score_max'] = pd.to_numeric(sample_df['score_max'])\n",
    "sample_df['score_max'] = sample_df['score_max'].round().astype('Int64')"
   ]
  },
  {
   "cell_type": "code",
   "execution_count": 95,
   "metadata": {},
   "outputs": [
    {
     "data": {
      "text/plain": [
       "phone_url            object\n",
       "date         datetime64[ns]\n",
       "lang                 object\n",
       "country              object\n",
       "source               object\n",
       "domain               object\n",
       "score                 Int64\n",
       "score_max             Int64\n",
       "extract              object\n",
       "author               object\n",
       "product              object\n",
       "dtype: object"
      ]
     },
     "execution_count": 95,
     "metadata": {},
     "output_type": "execute_result"
    }
   ],
   "source": [
    "#Again check Data types\n",
    "sample_df.dtypes"
   ]
  },
  {
   "cell_type": "markdown",
   "metadata": {},
   "source": [
    "## &#9703; Categorical & Numerical Columns"
   ]
  },
  {
   "cell_type": "code",
   "execution_count": 96,
   "metadata": {},
   "outputs": [
    {
     "name": "stdout",
     "output_type": "stream",
     "text": [
      "Number of Categorical Column:  8 \n",
      " ['phone_url', 'lang', 'country', 'source', 'domain', 'extract', 'author', 'product']\n",
      "Number of Numerical Columns:  3 \n",
      " ['date', 'score', 'score_max']\n"
     ]
    }
   ],
   "source": [
    "def cols():\n",
    "    cat_cols = [col for col in sample_df.columns if sample_df[col].dtypes == \"O\"]\n",
    "    if len(cat_cols) == 0:\n",
    "        print(\"There is no Categorical Column\")\n",
    "    else:\n",
    "        print(\"Number of Categorical Column: \", len(cat_cols),\"\\n\",cat_cols)\n",
    "    \n",
    "    num_cols = [col for col in sample_df.columns if sample_df[col].dtypes != \"O\"]\n",
    "    if len(num_cols) == 0:\n",
    "        print(\"There is no Numerical Column\")\n",
    "    print(\"Number of Numerical Columns: \", len(num_cols),\"\\n\",num_cols)\n",
    "cols()"
   ]
  },
  {
   "cell_type": "code",
   "execution_count": 97,
   "metadata": {},
   "outputs": [
    {
     "data": {
      "text/plain": [
       "' dropping multiple column based on name'"
      ]
     },
     "execution_count": 97,
     "metadata": {},
     "output_type": "execute_result"
    }
   ],
   "source": [
    "# Dropping less relevent columns\n",
    "''' dropping multiple column based on name'''\n",
    "sample_df.drop(['phone_url', 'extract', 'domain', 'date','lang', 'country', 'source'], axis = 1,inplace = True)\n"
   ]
  },
  {
   "cell_type": "code",
   "execution_count": 98,
   "metadata": {},
   "outputs": [
    {
     "name": "stdout",
     "output_type": "stream",
     "text": [
      "<class 'pandas.core.frame.DataFrame'>\n",
      "Int64Index: 100000 entries, 347247 to 161884\n",
      "Data columns (total 4 columns):\n",
      " #   Column     Non-Null Count   Dtype \n",
      "---  ------     --------------   ----- \n",
      " 0   score      95474 non-null   Int64 \n",
      " 1   score_max  95474 non-null   Int64 \n",
      " 2   author     95580 non-null   object\n",
      " 3   product    100000 non-null  object\n",
      "dtypes: Int64(2), object(2)\n",
      "memory usage: 4.0+ MB\n"
     ]
    }
   ],
   "source": [
    "sample_df.info()"
   ]
  },
  {
   "cell_type": "markdown",
   "metadata": {},
   "source": [
    "## Checking missing values"
   ]
  },
  {
   "cell_type": "code",
   "execution_count": 99,
   "metadata": {},
   "outputs": [
    {
     "data": {
      "text/plain": [
       "score        4526\n",
       "score_max    4526\n",
       "author       4420\n",
       "product         0\n",
       "dtype: int64"
      ]
     },
     "execution_count": 99,
     "metadata": {},
     "output_type": "execute_result"
    }
   ],
   "source": [
    "#display in each column how many null values are there\n",
    "sample_df.apply(lambda x: sum(x.isnull()))"
   ]
  },
  {
   "cell_type": "code",
   "execution_count": 100,
   "metadata": {},
   "outputs": [],
   "source": [
    "# determine the threshold for missing values\n",
    "def assess_NA(data):\n",
    "    \"\"\"\n",
    "    Returns a pandas dataframe denoting the total number of NA values and the percentage of NA values in each column.\n",
    "    The column names are noted on the index.\n",
    "    \n",
    "    Parameters\n",
    "    ----------\n",
    "    data: dataframe\n",
    "    \"\"\"\n",
    "    # pandas series denoting features and the sum of their null values\n",
    "    null_sum = data.isnull().sum()# instantiate columns for missing data\n",
    "    total = null_sum.sort_values(ascending=False)\n",
    "    percent = ( ((null_sum / len(data.index))*100).round(2) ).sort_values(ascending=False)\n",
    "    \n",
    "    # concatenate along the columns to create the complete dataframe\n",
    "    df_NA = pd.concat([total, percent], axis=1, keys=['Number of NA', 'Percent NA'])\n",
    "    \n",
    "    # drop rows that don't have any missing data; omit if you want to keep all rows\n",
    "    df_NA = df_NA[ (df_NA.T != 0).any() ]\n",
    "    \n",
    "    return df_NA     "
   ]
  },
  {
   "cell_type": "code",
   "execution_count": 101,
   "metadata": {},
   "outputs": [
    {
     "data": {
      "text/html": [
       "<div>\n",
       "<style scoped>\n",
       "    .dataframe tbody tr th:only-of-type {\n",
       "        vertical-align: middle;\n",
       "    }\n",
       "\n",
       "    .dataframe tbody tr th {\n",
       "        vertical-align: top;\n",
       "    }\n",
       "\n",
       "    .dataframe thead th {\n",
       "        text-align: right;\n",
       "    }\n",
       "</style>\n",
       "<table border=\"1\" class=\"dataframe\">\n",
       "  <thead>\n",
       "    <tr style=\"text-align: right;\">\n",
       "      <th></th>\n",
       "      <th>Number of NA</th>\n",
       "      <th>Percent NA</th>\n",
       "    </tr>\n",
       "  </thead>\n",
       "  <tbody>\n",
       "    <tr>\n",
       "      <th>score_max</th>\n",
       "      <td>4526</td>\n",
       "      <td>4.53</td>\n",
       "    </tr>\n",
       "    <tr>\n",
       "      <th>score</th>\n",
       "      <td>4526</td>\n",
       "      <td>4.53</td>\n",
       "    </tr>\n",
       "    <tr>\n",
       "      <th>author</th>\n",
       "      <td>4420</td>\n",
       "      <td>4.42</td>\n",
       "    </tr>\n",
       "  </tbody>\n",
       "</table>\n",
       "</div>"
      ],
      "text/plain": [
       "           Number of NA  Percent NA\n",
       "score_max          4526        4.53\n",
       "score              4526        4.53\n",
       "author             4420        4.42"
      ]
     },
     "execution_count": 101,
     "metadata": {},
     "output_type": "execute_result"
    }
   ],
   "source": [
    "df_NA = assess_NA(sample_df)\n",
    "df_NA"
   ]
  },
  {
   "cell_type": "code",
   "execution_count": 102,
   "metadata": {},
   "outputs": [
    {
     "data": {
      "text/plain": [
       "<matplotlib.axes._subplots.AxesSubplot at 0x7fe6ad630e10>"
      ]
     },
     "execution_count": 102,
     "metadata": {},
     "output_type": "execute_result"
    },
    {
     "data": {
      "image/png": "[encoded data removed]",
      "text/plain": [
       "<Figure size 1008x720 with 1 Axes>"
      ]
     },
     "metadata": {
      "needs_background": "light"
     },
     "output_type": "display_data"
    }
   ],
   "source": [
    "fig , ax = plt.subplots(figsize = (14,10))\n",
    "sns.heatmap(sample_df.isnull() , cbar = False, cmap = \"YlGnBu_r\")"
   ]
  },
  {
   "cell_type": "code",
   "execution_count": 103,
   "metadata": {},
   "outputs": [
    {
     "name": "stdout",
     "output_type": "stream",
     "text": [
      "Number of Categories in: \n",
      "author = 73265\n",
      "product = 26363\n"
     ]
    }
   ],
   "source": [
    "# Code to get number of categories in missing value columns\n",
    "print(\"Number of Categories in: \")\n",
    "for ColName in sample_df[['author','product']]:\n",
    "    print(\"{} = {}\".format(ColName,       len(sample_df[ColName].unique())))"
   ]
  },
  {
   "cell_type": "markdown",
   "metadata": {},
   "source": [
    "### Impute / Replace Missing Values with Median"
   ]
  },
  {
   "cell_type": "code",
   "execution_count": 104,
   "metadata": {},
   "outputs": [],
   "source": [
    "# imputing missing data with median value can only be done with numerical data.\n",
    "sample_df.fillna(sample_df.median(), inplace=True)"
   ]
  },
  {
   "cell_type": "code",
   "execution_count": 105,
   "metadata": {},
   "outputs": [],
   "source": [
    "# #1. Function to impute null value with new category\n",
    "# def impute_nan_create_category(DataFrame,ColName):\n",
    "# #      DataFrame[ColName] = np.where(DataFrame[ColName].isnull(),\"Unknown\",DataFrame[ColName])\n",
    "#        DataFrame[ColName] = DataFrame[ColName].fillna(DataFrame[ColName].mode()[0], inplace = True)\n",
    "# ## Call function to create new category for variables\n",
    "# for Columns in ['author','product']:\n",
    "#     impute_nan_create_category(sample_df,Columns)\n",
    "# #2. Display result\n",
    "# sample_df[['author','product']].head()"
   ]
  },
  {
   "cell_type": "code",
   "execution_count": 106,
   "metadata": {},
   "outputs": [],
   "source": [
    "sample_df['author'].fillna(sample_df['author'].mode()[0], inplace = True)"
   ]
  },
  {
   "cell_type": "code",
   "execution_count": 107,
   "metadata": {},
   "outputs": [],
   "source": [
    "sample_df['product'].fillna(sample_df['product'].mode()[0], inplace = True)"
   ]
  },
  {
   "cell_type": "code",
   "execution_count": 108,
   "metadata": {},
   "outputs": [
    {
     "data": {
      "text/html": [
       "<div>\n",
       "<style scoped>\n",
       "    .dataframe tbody tr th:only-of-type {\n",
       "        vertical-align: middle;\n",
       "    }\n",
       "\n",
       "    .dataframe tbody tr th {\n",
       "        vertical-align: top;\n",
       "    }\n",
       "\n",
       "    .dataframe thead th {\n",
       "        text-align: right;\n",
       "    }\n",
       "</style>\n",
       "<table border=\"1\" class=\"dataframe\">\n",
       "  <thead>\n",
       "    <tr style=\"text-align: right;\">\n",
       "      <th></th>\n",
       "      <th>Number of NA</th>\n",
       "      <th>Percent NA</th>\n",
       "    </tr>\n",
       "  </thead>\n",
       "  <tbody>\n",
       "    <tr>\n",
       "      <th>score_max</th>\n",
       "      <td>4526</td>\n",
       "      <td>4.53</td>\n",
       "    </tr>\n",
       "    <tr>\n",
       "      <th>score</th>\n",
       "      <td>4526</td>\n",
       "      <td>4.53</td>\n",
       "    </tr>\n",
       "  </tbody>\n",
       "</table>\n",
       "</div>"
      ],
      "text/plain": [
       "           Number of NA  Percent NA\n",
       "score_max          4526        4.53\n",
       "score              4526        4.53"
      ]
     },
     "execution_count": 108,
     "metadata": {},
     "output_type": "execute_result"
    }
   ],
   "source": [
    "df_NA = assess_NA(sample_df)\n",
    "df_NA"
   ]
  },
  {
   "cell_type": "code",
   "execution_count": 109,
   "metadata": {},
   "outputs": [],
   "source": [
    "# plt.figure(figsize= (30,20))  # Set the figure size\n",
    "# pos = 1    # a variable to manage the position of the subplot in the overall plot\n",
    "# for feature in sample_df.columns:   # for-loop to iterate over every attribute whose distribution is to be visualized\n",
    "#     plt.subplot(4, 6, pos)   # plot grid\n",
    "#     if feature in ['score', 'score_max']:   # Plot histogram for all the continuous columns\n",
    "#          sns.distplot(sample_df[feature], kde= True )   \n",
    "#     else:\n",
    "#         sns.countplot(sample_df[feature], palette= 'Blues')    # Plot bar chart for all the categorical columns\n",
    "#     pos += 1  # to plot over the grid one by one"
   ]
  },
  {
   "cell_type": "markdown",
   "metadata": {},
   "source": [
    "## Univariate Analysis¶"
   ]
  },
  {
   "cell_type": "markdown",
   "metadata": {},
   "source": [
    "**As rule of thumb, skewness can be interpreted like this:**\n",
    "\n",
    "`Skewness`\n",
    "- Fairly Symmetrical\t-0.5 to 0.5\n",
    "- Moderate Skewed\t-0.5 to -1.0 and 0.5 to 1.0\n",
    "- Highly Skewed\t< -1.0 and > 1.0"
   ]
  },
  {
   "cell_type": "code",
   "execution_count": 110,
   "metadata": {},
   "outputs": [
    {
     "data": {
      "text/plain": [
       "Series([], dtype: float64)"
      ]
     },
     "execution_count": 110,
     "metadata": {},
     "output_type": "execute_result"
    }
   ],
   "source": [
    "# skewness along the index axis \n",
    "sample_df.skew(axis = 0, skipna = True) "
   ]
  },
  {
   "cell_type": "code",
   "execution_count": 111,
   "metadata": {},
   "outputs": [
    {
     "data": {
      "text/plain": [
       "Series([], dtype: float64)"
      ]
     },
     "execution_count": 111,
     "metadata": {},
     "output_type": "execute_result"
    }
   ],
   "source": [
    "# skewness along the index axis \n",
    "sample_df.kurt(axis = 0, skipna = True) "
   ]
  },
  {
   "cell_type": "code",
   "execution_count": 112,
   "metadata": {},
   "outputs": [
    {
     "name": "stdout",
     "output_type": "stream",
     "text": [
      "-1.2382814100924378\n",
      "0.3130435592507048\n"
     ]
    }
   ],
   "source": [
    "print(sample_df['score'].astype(float).skew())\n",
    "print(sample_df['score'].astype(float).kurt())"
   ]
  },
  {
   "cell_type": "code",
   "execution_count": 113,
   "metadata": {},
   "outputs": [
    {
     "name": "stdout",
     "output_type": "stream",
     "text": [
      "0\n",
      "0\n"
     ]
    }
   ],
   "source": [
    "print(sample_df['score_max'].astype(float).skew())\n",
    "print(sample_df['score_max'].astype(float).kurt())"
   ]
  },
  {
   "cell_type": "code",
   "execution_count": 114,
   "metadata": {},
   "outputs": [
    {
     "data": {
      "text/html": [
       "<div>\n",
       "<style scoped>\n",
       "    .dataframe tbody tr th:only-of-type {\n",
       "        vertical-align: middle;\n",
       "    }\n",
       "\n",
       "    .dataframe tbody tr th {\n",
       "        vertical-align: top;\n",
       "    }\n",
       "\n",
       "    .dataframe thead th {\n",
       "        text-align: right;\n",
       "    }\n",
       "</style>\n",
       "<table border=\"1\" class=\"dataframe\">\n",
       "  <thead>\n",
       "    <tr style=\"text-align: right;\">\n",
       "      <th></th>\n",
       "      <th>count</th>\n",
       "      <th>mean</th>\n",
       "      <th>std</th>\n",
       "      <th>min</th>\n",
       "      <th>10%</th>\n",
       "      <th>25%</th>\n",
       "      <th>50%</th>\n",
       "      <th>75%</th>\n",
       "      <th>90%</th>\n",
       "      <th>95%</th>\n",
       "      <th>99%</th>\n",
       "      <th>max</th>\n",
       "    </tr>\n",
       "  </thead>\n",
       "  <tbody>\n",
       "    <tr>\n",
       "      <th>score</th>\n",
       "      <td>95474.0</td>\n",
       "      <td>8.01172</td>\n",
       "      <td>2.6152</td>\n",
       "      <td>0.0</td>\n",
       "      <td>4.0</td>\n",
       "      <td>7.0</td>\n",
       "      <td>9.0</td>\n",
       "      <td>10.0</td>\n",
       "      <td>10.0</td>\n",
       "      <td>10.0</td>\n",
       "      <td>10.0</td>\n",
       "      <td>10.0</td>\n",
       "    </tr>\n",
       "    <tr>\n",
       "      <th>score_max</th>\n",
       "      <td>95474.0</td>\n",
       "      <td>10.00000</td>\n",
       "      <td>0.0000</td>\n",
       "      <td>10.0</td>\n",
       "      <td>10.0</td>\n",
       "      <td>10.0</td>\n",
       "      <td>10.0</td>\n",
       "      <td>10.0</td>\n",
       "      <td>10.0</td>\n",
       "      <td>10.0</td>\n",
       "      <td>10.0</td>\n",
       "      <td>10.0</td>\n",
       "    </tr>\n",
       "  </tbody>\n",
       "</table>\n",
       "</div>"
      ],
      "text/plain": [
       "             count      mean     std   min   10%   25%   50%   75%   90%  \\\n",
       "score      95474.0   8.01172  2.6152   0.0   4.0   7.0   9.0  10.0  10.0   \n",
       "score_max  95474.0  10.00000  0.0000  10.0  10.0  10.0  10.0  10.0  10.0   \n",
       "\n",
       "            95%   99%   max  \n",
       "score      10.0  10.0  10.0  \n",
       "score_max  10.0  10.0  10.0  "
      ]
     },
     "execution_count": 114,
     "metadata": {},
     "output_type": "execute_result"
    }
   ],
   "source": [
    "#display 5 point summary of dataframe\n",
    "sample_df.describe([0.10, 0.25, 0.50, 0.75, 0.90, 0.95, 0.99]).transpose()"
   ]
  },
  {
   "cell_type": "code",
   "execution_count": 115,
   "metadata": {},
   "outputs": [
    {
     "data": {
      "text/plain": [
       "count    95474.00000\n",
       "mean         8.01172\n",
       "std          2.61520\n",
       "min          0.00000\n",
       "10%          4.00000\n",
       "25%          7.00000\n",
       "50%          9.00000\n",
       "75%         10.00000\n",
       "90%         10.00000\n",
       "95%         10.00000\n",
       "99%         10.00000\n",
       "max         10.00000\n",
       "Name: score, dtype: float64"
      ]
     },
     "execution_count": 115,
     "metadata": {},
     "output_type": "execute_result"
    }
   ],
   "source": [
    "# Summary statistics of 'rating' variable\n",
    "sample_df['score'].describe([0.10, 0.25, 0.50, 0.75, 0.90, 0.95, 0.99]).transpose()"
   ]
  },
  {
   "cell_type": "code",
   "execution_count": 116,
   "metadata": {},
   "outputs": [
    {
     "name": "stdout",
     "output_type": "stream",
     "text": [
      "The minimum score is: 0\n",
      "The maximum score is: 10\n"
     ]
    }
   ],
   "source": [
    "# find minimum and maximum ratings\n",
    "print('The minimum score is: %d' %(sample_df['score'].min()))\n",
    "print('The maximum score is: %d' %(sample_df['score'].max()))"
   ]
  },
  {
   "cell_type": "markdown",
   "metadata": {},
   "source": [
    "<p>Score are on scale of 0-10<p>"
   ]
  },
  {
   "cell_type": "code",
   "execution_count": 117,
   "metadata": {},
   "outputs": [
    {
     "data": {
      "text/plain": [
       "<seaborn.axisgrid.FacetGrid at 0x7fe6b95c4110>"
      ]
     },
     "execution_count": 117,
     "metadata": {},
     "output_type": "execute_result"
    },
    {
     "data": {
      "image/png": "[encoded data removed]",
      "text/plain": [
       "<Figure size 720x360 with 1 Axes>"
      ]
     },
     "metadata": {},
     "output_type": "display_data"
    }
   ],
   "source": [
    "# Check the distribution of ratings \n",
    "with sns.axes_style('white'):\n",
    "    g = sns.factorplot(\"score\", data=sample_df, aspect=2.0,kind='count')\n",
    "    g.set_ylabels(\"Total number of score\") "
   ]
  },
  {
   "cell_type": "code",
   "execution_count": 118,
   "metadata": {},
   "outputs": [
    {
     "name": "stdout",
     "output_type": "stream",
     "text": [
      "Count of unique values in each column :\n",
      "score           11\n",
      "score_max        1\n",
      "author       73264\n",
      "product      26363\n",
      "dtype: int64\n"
     ]
    }
   ],
   "source": [
    "# Get a series object containing the count of unique elements\n",
    "# in each column of dataframe\n",
    "uniqueValues = sample_df.nunique()\n",
    "print('Count of unique values in each column :')\n",
    "print(uniqueValues)"
   ]
  },
  {
   "cell_type": "code",
   "execution_count": 119,
   "metadata": {},
   "outputs": [
    {
     "name": "stdout",
     "output_type": "stream",
     "text": [
      "\u001b[33mThe total phones are \u001b[0m 100000, \u001b[34mfrom those the unique types are \u001b[0m 26363.\n"
     ]
    }
   ],
   "source": [
    "print(Fore.YELLOW + \"The total phones are\",Style.RESET_ALL,f\"{sample_df['product'].count()},\", Fore.BLUE + \"from those the unique types are\", Style.RESET_ALL, f\"{sample_df['product'].value_counts().shape[0]}.\")"
   ]
  },
  {
   "cell_type": "code",
   "execution_count": 120,
   "metadata": {},
   "outputs": [
    {
     "name": "stdout",
     "output_type": "stream",
     "text": [
      "\u001b[33mThe total users are \u001b[0m 100000, \u001b[34mfrom those the unique types are \u001b[0m 73264.\n"
     ]
    }
   ],
   "source": [
    "print(Fore.YELLOW + \"The total users are\",Style.RESET_ALL,f\"{sample_df['author'].count()},\", Fore.BLUE + \"from those the unique types are\", Style.RESET_ALL, f\"{sample_df['author'].value_counts().shape[0]}.\")"
   ]
  },
  {
   "cell_type": "code",
   "execution_count": 121,
   "metadata": {},
   "outputs": [
    {
     "name": "stdout",
     "output_type": "stream",
     "text": [
      "The users who gave more than 50 reviews are: \n",
      " author\n",
      "Amazon Customer       9827\n",
      "Cliente Amazon        1375\n",
      "e-bit                  614\n",
      "Client d'Amazon        531\n",
      "Amazon Kunde           304\n",
      "Anonymous              206\n",
      "einer Kundin           190\n",
      "unknown                144\n",
      "einem Kunden           140\n",
      "Anonymous               85\n",
      "David                   80\n",
      "ÐÐ»ÐµÐºÑÐ°Ð½Ð´Ñ      70\n",
      "Marco                   66\n",
      "Chris                   63\n",
      "ÐÐ»ÐµÐºÑÐµÐ¹          61\n",
      "Andrea                  56\n",
      "ÐÐ¼Ð¸ÑÑÐ¸Ð¹          56\n",
      "Ð¡ÐµÑÐ³ÐµÐ¹            54\n",
      "ÐÐ½Ð´ÑÐµÐ¹            53\n",
      "Alessandro              50\n",
      "dtype: int64\n"
     ]
    }
   ],
   "source": [
    "# Top users Who gave more than 50 reviews\n",
    "top_users_df = sample_df.groupby('author').size().sort_values(ascending=False)[:20]\n",
    "top_50_author = top_users_df[(top_users_df)>=50]\n",
    "print(\"The users who gave more than 50 reviews are: \\n\",top_50_author)"
   ]
  },
  {
   "cell_type": "code",
   "execution_count": 132,
   "metadata": {},
   "outputs": [
    {
     "name": "stdout",
     "output_type": "stream",
     "text": [
      "The products which got more than 50 reviews are: \n",
      "                                                       0\n",
      "product                                                \n",
      "Lenovo Vibe K4 Note (White,16GB)                    332\n",
      "Lenovo Vibe K4 Note (Black, 16GB)                   323\n",
      "OnePlus 3 (Graphite, 64 GB)                         283\n",
      "OnePlus 3 (Soft Gold, 64 GB)                        249\n",
      "Samsung Galaxy Express I8730                        211\n",
      "Huawei P8lite zwart / 16 GB                         189\n",
      "Lenovo Vibe K5 (Gold, VoLTE update)                 167\n",
      "Lenovo Vibe K5 (Grey, VoLTE update)                 158\n",
      "Samsung Galaxy S6 zwart / 32 GB                     153\n",
      "Lenovo Used Lenovo Zuk Z1 (Space Grey, 64GB)        153\n",
      "Nokia 5800 XpressMusic                              151\n",
      "Nokia N95                                           136\n",
      "Samsung Galaxy S7 edge Smartphone, 13,9 cm (5,5...  136\n",
      "Huawei P9 Lite Smartphone, LTE, Display 5.2'' F...  128\n",
      "Samsung Galaxy S7 edge 32GB (T-Mobile)              127\n",
      "OnePlus 3T (Gunmetal, 6GB RAM + 64GB memory)        122\n",
      "Samsung Galaxy S6 edge zwart / 32 GB                121\n",
      "Samsung Galaxy J3 (8GB)                             121\n",
      "Samsung Galaxy S5 16GB (Verizon)                    120\n",
      "Nokia N8                                            120\n",
      "Apple iPhone 5s (Silver, 16GB)                      118\n",
      "Samsung Galaxy S7 edge 32GB (Verizon)               116\n",
      "Lenovo Motorola Moto G Smartphone, 4,5 pollici ...  112\n",
      "Samsung Galaxy S7 32GB (Verizon)                    110\n",
      "YU Yuphoria YU5010A (Black+Silver)                  110\n",
      "Nokia 5530 XpressMusic                              110\n",
      "Huawei P8 Lite Smartphone, Display 5\" IPS, Proc...  110\n",
      "Motorola Moto G Turbo (White, 16GB)                 107\n",
      "LG GX200                                            107\n",
      "Nokia 5800                                          105\n",
      "Lenovo Vibe K5 (Silver, 16GB)                       105\n",
      "OnePlus 3T (Soft Gold, 6GB RAM + 64GB memory)       102\n",
      "Nokia 5130 XpressMusic                              101\n",
      "Samsung Galaxy S7 edge 32GB (AT&T)                   99\n",
      "Nokia N97                                            99\n",
      "Samsung Star GT-S5230                                98\n",
      "Apple iPhone 5s 16GB (ÑÐµÑÐµÐ±ÑÐ¸ÑÑÑÐ¹)        97\n",
      "OnePlus X (Onyx, 16GB)                               96\n",
      "Nokia Lumia 920                                      94\n",
      "Samsung Galaxy S7 32GB (T-Mobile)                    93\n",
      "Nokia 5228                                           92\n",
      "Apple iPhone 5s GSM Unlocked Cellphone, 16 GB, ...   92\n",
      "Asus Zenfone Max ZC550KL-6A068IN (Black, 2GB, 1...   89\n",
      "OnePlus One (Sandstone Black, 64GB)                  88\n",
      "Nokia E71                                            85\n",
      "HTC Wildfire S                                       84\n",
      "Samsung Galaxy S7 Smartphone, 12,9 cm (5,1 Zoll...   82\n",
      "Huawei Honor 5X Unlocked Smartphone, 16GB Dark ...   80\n",
      "Sprint LG Volt White (Sprint Prepaid)                80\n",
      "Nokia 6700 Classic                                   79\n"
     ]
    }
   ],
   "source": [
    "# Top products products which got 50 or more ratings \n",
    "top_products_df = pd.DataFrame(sample_df.groupby('product').size().sort_values(ascending=False)[:50])\n",
    "top_50_products = pd.DataFrame(top_products_df[(top_products_df)>=50])\n",
    "print(\"The products which got more than 50 reviews are: \\n\",top_50_products)"
   ]
  },
  {
   "cell_type": "code",
   "execution_count": 148,
   "metadata": {},
   "outputs": [],
   "source": [
    "# keys = list(top_50_products.columns.values)\n",
    "# print()\n",
    "# i1 = sample_df.set_index(keys).index\n",
    "# i2 = top_50_products.set_index(keys).index\n",
    "# top = sample_df[~i1.isin(i2)]\n",
    "\n",
    "data = sample_df\n",
    "data.rename(columns={'score': 'rating'}, inplace=True)\n"
   ]
  },
  {
   "cell_type": "code",
   "execution_count": 149,
   "metadata": {},
   "outputs": [
    {
     "ename": "AttributeError",
     "evalue": "'DataFrame' object has no attribute 'raw_ratings'",
     "output_type": "error",
     "traceback": [
      "\u001b[0;31m---------------------------------------------------------------------------\u001b[0m",
      "\u001b[0;31mAttributeError\u001b[0m                            Traceback (most recent call last)",
      "\u001b[0;32m<ipython-input-149-fe9b315ac259>\u001b[0m in \u001b[0;36m<module>\u001b[0;34m\u001b[0m\n\u001b[0;32m----> 1\u001b[0;31m \u001b[0mtrainset\u001b[0m\u001b[0;34m,\u001b[0m \u001b[0mtestset\u001b[0m \u001b[0;34m=\u001b[0m \u001b[0mtrain_test_split\u001b[0m\u001b[0;34m(\u001b[0m\u001b[0msample_df\u001b[0m\u001b[0;34m,\u001b[0m \u001b[0mtest_size\u001b[0m\u001b[0;34m=\u001b[0m\u001b[0;36m.15\u001b[0m\u001b[0;34m)\u001b[0m\u001b[0;34m\u001b[0m\u001b[0;34m\u001b[0m\u001b[0m\n\u001b[0m",
      "\u001b[0;32m~/anaconda3/lib/python3.7/site-packages/surprise/model_selection/split.py\u001b[0m in \u001b[0;36mtrain_test_split\u001b[0;34m(data, test_size, train_size, random_state, shuffle)\u001b[0m\n\u001b[1;32m    332\u001b[0m     ss = ShuffleSplit(n_splits=1, test_size=test_size, train_size=train_size,\n\u001b[1;32m    333\u001b[0m                       random_state=random_state, shuffle=shuffle)\n\u001b[0;32m--> 334\u001b[0;31m     \u001b[0;32mreturn\u001b[0m \u001b[0mnext\u001b[0m\u001b[0;34m(\u001b[0m\u001b[0mss\u001b[0m\u001b[0;34m.\u001b[0m\u001b[0msplit\u001b[0m\u001b[0;34m(\u001b[0m\u001b[0mdata\u001b[0m\u001b[0;34m)\u001b[0m\u001b[0;34m)\u001b[0m\u001b[0;34m\u001b[0m\u001b[0;34m\u001b[0m\u001b[0m\n\u001b[0m\u001b[1;32m    335\u001b[0m \u001b[0;34m\u001b[0m\u001b[0m\n\u001b[1;32m    336\u001b[0m \u001b[0;34m\u001b[0m\u001b[0m\n",
      "\u001b[0;32m~/anaconda3/lib/python3.7/site-packages/surprise/model_selection/split.py\u001b[0m in \u001b[0;36msplit\u001b[0;34m(self, data)\u001b[0m\n\u001b[1;32m    274\u001b[0m \u001b[0;34m\u001b[0m\u001b[0m\n\u001b[1;32m    275\u001b[0m         test_size, train_size = self.validate_train_test_sizes(\n\u001b[0;32m--> 276\u001b[0;31m             self.test_size, self.train_size, len(data.raw_ratings))\n\u001b[0m\u001b[1;32m    277\u001b[0m         \u001b[0mrng\u001b[0m \u001b[0;34m=\u001b[0m \u001b[0mget_rng\u001b[0m\u001b[0;34m(\u001b[0m\u001b[0mself\u001b[0m\u001b[0;34m.\u001b[0m\u001b[0mrandom_state\u001b[0m\u001b[0;34m)\u001b[0m\u001b[0;34m\u001b[0m\u001b[0;34m\u001b[0m\u001b[0m\n\u001b[1;32m    278\u001b[0m \u001b[0;34m\u001b[0m\u001b[0m\n",
      "\u001b[0;32m~/anaconda3/lib/python3.7/site-packages/pandas/core/generic.py\u001b[0m in \u001b[0;36m__getattr__\u001b[0;34m(self, name)\u001b[0m\n\u001b[1;32m   5272\u001b[0m             \u001b[0;32mif\u001b[0m \u001b[0mself\u001b[0m\u001b[0;34m.\u001b[0m\u001b[0m_info_axis\u001b[0m\u001b[0;34m.\u001b[0m\u001b[0m_can_hold_identifiers_and_holds_name\u001b[0m\u001b[0;34m(\u001b[0m\u001b[0mname\u001b[0m\u001b[0;34m)\u001b[0m\u001b[0;34m:\u001b[0m\u001b[0;34m\u001b[0m\u001b[0;34m\u001b[0m\u001b[0m\n\u001b[1;32m   5273\u001b[0m                 \u001b[0;32mreturn\u001b[0m \u001b[0mself\u001b[0m\u001b[0;34m[\u001b[0m\u001b[0mname\u001b[0m\u001b[0;34m]\u001b[0m\u001b[0;34m\u001b[0m\u001b[0;34m\u001b[0m\u001b[0m\n\u001b[0;32m-> 5274\u001b[0;31m             \u001b[0;32mreturn\u001b[0m \u001b[0mobject\u001b[0m\u001b[0;34m.\u001b[0m\u001b[0m__getattribute__\u001b[0m\u001b[0;34m(\u001b[0m\u001b[0mself\u001b[0m\u001b[0;34m,\u001b[0m \u001b[0mname\u001b[0m\u001b[0;34m)\u001b[0m\u001b[0;34m\u001b[0m\u001b[0;34m\u001b[0m\u001b[0m\n\u001b[0m\u001b[1;32m   5275\u001b[0m \u001b[0;34m\u001b[0m\u001b[0m\n\u001b[1;32m   5276\u001b[0m     \u001b[0;32mdef\u001b[0m \u001b[0m__setattr__\u001b[0m\u001b[0;34m(\u001b[0m\u001b[0mself\u001b[0m\u001b[0;34m,\u001b[0m \u001b[0mname\u001b[0m\u001b[0;34m:\u001b[0m \u001b[0mstr\u001b[0m\u001b[0;34m,\u001b[0m \u001b[0mvalue\u001b[0m\u001b[0;34m)\u001b[0m \u001b[0;34m->\u001b[0m \u001b[0;32mNone\u001b[0m\u001b[0;34m:\u001b[0m\u001b[0;34m\u001b[0m\u001b[0;34m\u001b[0m\u001b[0m\n",
      "\u001b[0;31mAttributeError\u001b[0m: 'DataFrame' object has no attribute 'raw_ratings'"
     ]
    }
   ],
   "source": [
    "trainset, testset = train_test_split(sample_df, test_size=.15)"
   ]
  },
  {
   "cell_type": "code",
   "execution_count": 144,
   "metadata": {},
   "outputs": [],
   "source": []
  },
  {
   "cell_type": "code",
   "execution_count": null,
   "metadata": {},
   "outputs": [],
   "source": []
  },
  {
   "cell_type": "code",
   "execution_count": null,
   "metadata": {},
   "outputs": [],
   "source": []
  },
  {
   "cell_type": "code",
   "execution_count": null,
   "metadata": {},
   "outputs": [],
   "source": []
  },
  {
   "cell_type": "code",
   "execution_count": null,
   "metadata": {},
   "outputs": [],
   "source": []
  },
  {
   "cell_type": "markdown",
   "metadata": {},
   "source": [
    "### In what business scenario you should use popularity based Recommendation Systems ?\n",
    "\n",
    "As the name suggests Popularity based recommendation system works with the trend. It basically uses the items which are in trend right now. For example, if any product which is usually bought by every new user then there are chances that it may suggest that item to the user who just signed up. The majority business that use popularity based recommender system are companies like Netflix. They recommend the majority of their products or movies based on the popularity or higher rating."
   ]
  },
  {
   "cell_type": "markdown",
   "metadata": {},
   "source": [
    "### In what business scenario you should use CF based Recommendation Systems ?\n",
    "\n",
    "This type of recommendation system makes predictions of what might interest a person based on the taste of many other users. It assumes that if person X likes Snickers, and person Y likes Snickers and Milky Way, then person X might like Milky Way as well. Basically most of the e-commerce business use the CF based recommendation systems."
   ]
  },
  {
   "cell_type": "markdown",
   "metadata": {},
   "source": [
    "### What other possible methods can you think of which can further improve the recommendation for di erent users ?\n",
    "\n",
    "The other possible methods can be used are content based filtering based on the extract columns in this dataset . Hybrid filtering can also be used to get the best user and best product."
   ]
  },
  {
   "cell_type": "code",
   "execution_count": null,
   "metadata": {},
   "outputs": [],
   "source": []
  }
 ],
 "metadata": {
  "kernelspec": {
   "display_name": "Python 3",
   "language": "python",
   "name": "python3"
  },
  "language_info": {
   "codemirror_mode": {
    "name": "ipython",
    "version": 3
   },
   "file_extension": ".py",
   "mimetype": "text/x-python",
   "name": "python",
   "nbconvert_exporter": "python",
   "pygments_lexer": "ipython3",
   "version": "3.7.6"
  },
  "nbTranslate": {
   "displayLangs": [
    "*"
   ],
   "hotkey": "alt-t",
   "langInMainMenu": true,
   "sourceLang": "en",
   "targetLang": "fr",
   "useGoogleTranslate": true
  },
  "toc": {
   "base_numbering": 1,
   "nav_menu": {},
   "number_sections": true,
   "sideBar": true,
   "skip_h1_title": false,
   "title_cell": "Table of Contents",
   "title_sidebar": "Contents",
   "toc_cell": false,
   "toc_position": {},
   "toc_section_display": true,
   "toc_window_display": false
  },
  "varInspector": {
   "cols": {
    "lenName": 16,
    "lenType": 16,
    "lenVar": 40
   },
   "kernels_config": {
    "python": {
     "delete_cmd_postfix": "",
     "delete_cmd_prefix": "del ",
     "library": "var_list.py",
     "varRefreshCmd": "print(var_dic_list())"
    },
    "r": {
     "delete_cmd_postfix": ") ",
     "delete_cmd_prefix": "rm(",
     "library": "var_list.r",
     "varRefreshCmd": "cat(var_dic_list()) "
    }
   },
   "types_to_exclude": [
    "module",
    "function",
    "builtin_function_or_method",
    "instance",
    "_Feature"
   ],
   "window_display": false
  }
 },
 "nbformat": 4,
 "nbformat_minor": 5
}
