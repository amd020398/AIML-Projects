{
 "cells": [
  {
   "cell_type": "code",
   "execution_count": 99,
   "metadata": {},
   "outputs": [],
   "source": [
    "#loading the required packages\n",
    "import numpy as np   \n",
    "import pandas as pd  \n",
    "import matplotlib.pyplot as plt \n",
    "from sklearn.cluster import KMeans\n",
    "from scipy.stats import zscore\n",
    "from sklearn.metrics import silhouette_samples, silhouette_score\n",
    "import seaborn as sns\n",
    "%matplotlib inline \n",
    "sns.set(color_codes=True)\n",
    "%matplotlib inline\n",
    "import warnings\n",
    "warnings.filterwarnings('ignore')"
   ]
  },
  {
   "cell_type": "code",
   "execution_count": 100,
   "metadata": {},
   "outputs": [
    {
     "data": {
      "text/html": [
       "<div>\n",
       "<style scoped>\n",
       "    .dataframe tbody tr th:only-of-type {\n",
       "        vertical-align: middle;\n",
       "    }\n",
       "\n",
       "    .dataframe tbody tr th {\n",
       "        vertical-align: top;\n",
       "    }\n",
       "\n",
       "    .dataframe thead th {\n",
       "        text-align: right;\n",
       "    }\n",
       "</style>\n",
       "<table border=\"1\" class=\"dataframe\">\n",
       "  <thead>\n",
       "    <tr style=\"text-align: right;\">\n",
       "      <th></th>\n",
       "      <th>Name</th>\n",
       "      <th>Runs</th>\n",
       "      <th>Ave</th>\n",
       "      <th>SR</th>\n",
       "      <th>Fours</th>\n",
       "      <th>Sixes</th>\n",
       "      <th>HF</th>\n",
       "    </tr>\n",
       "  </thead>\n",
       "  <tbody>\n",
       "    <tr>\n",
       "      <th>0</th>\n",
       "      <td>NaN</td>\n",
       "      <td>NaN</td>\n",
       "      <td>NaN</td>\n",
       "      <td>NaN</td>\n",
       "      <td>NaN</td>\n",
       "      <td>NaN</td>\n",
       "      <td>NaN</td>\n",
       "    </tr>\n",
       "    <tr>\n",
       "      <th>1</th>\n",
       "      <td>CH Gayle</td>\n",
       "      <td>733.0</td>\n",
       "      <td>61.08</td>\n",
       "      <td>160.74</td>\n",
       "      <td>46.0</td>\n",
       "      <td>59.0</td>\n",
       "      <td>9.0</td>\n",
       "    </tr>\n",
       "    <tr>\n",
       "      <th>2</th>\n",
       "      <td>NaN</td>\n",
       "      <td>NaN</td>\n",
       "      <td>NaN</td>\n",
       "      <td>NaN</td>\n",
       "      <td>NaN</td>\n",
       "      <td>NaN</td>\n",
       "      <td>NaN</td>\n",
       "    </tr>\n",
       "    <tr>\n",
       "      <th>3</th>\n",
       "      <td>G Gambhir</td>\n",
       "      <td>590.0</td>\n",
       "      <td>36.87</td>\n",
       "      <td>143.55</td>\n",
       "      <td>64.0</td>\n",
       "      <td>17.0</td>\n",
       "      <td>6.0</td>\n",
       "    </tr>\n",
       "    <tr>\n",
       "      <th>4</th>\n",
       "      <td>NaN</td>\n",
       "      <td>NaN</td>\n",
       "      <td>NaN</td>\n",
       "      <td>NaN</td>\n",
       "      <td>NaN</td>\n",
       "      <td>NaN</td>\n",
       "      <td>NaN</td>\n",
       "    </tr>\n",
       "    <tr>\n",
       "      <th>...</th>\n",
       "      <td>...</td>\n",
       "      <td>...</td>\n",
       "      <td>...</td>\n",
       "      <td>...</td>\n",
       "      <td>...</td>\n",
       "      <td>...</td>\n",
       "      <td>...</td>\n",
       "    </tr>\n",
       "    <tr>\n",
       "      <th>175</th>\n",
       "      <td>PC Valthaty</td>\n",
       "      <td>30.0</td>\n",
       "      <td>5.00</td>\n",
       "      <td>58.82</td>\n",
       "      <td>4.0</td>\n",
       "      <td>0.0</td>\n",
       "      <td>0.0</td>\n",
       "    </tr>\n",
       "    <tr>\n",
       "      <th>176</th>\n",
       "      <td>NaN</td>\n",
       "      <td>NaN</td>\n",
       "      <td>NaN</td>\n",
       "      <td>NaN</td>\n",
       "      <td>NaN</td>\n",
       "      <td>NaN</td>\n",
       "      <td>NaN</td>\n",
       "    </tr>\n",
       "    <tr>\n",
       "      <th>177</th>\n",
       "      <td>RP Singh</td>\n",
       "      <td>6.0</td>\n",
       "      <td>3.00</td>\n",
       "      <td>50.00</td>\n",
       "      <td>0.0</td>\n",
       "      <td>0.0</td>\n",
       "      <td>0.0</td>\n",
       "    </tr>\n",
       "    <tr>\n",
       "      <th>178</th>\n",
       "      <td>NaN</td>\n",
       "      <td>NaN</td>\n",
       "      <td>NaN</td>\n",
       "      <td>NaN</td>\n",
       "      <td>NaN</td>\n",
       "      <td>NaN</td>\n",
       "      <td>NaN</td>\n",
       "    </tr>\n",
       "    <tr>\n",
       "      <th>179</th>\n",
       "      <td>R Sharma</td>\n",
       "      <td>2.0</td>\n",
       "      <td>0.50</td>\n",
       "      <td>18.18</td>\n",
       "      <td>0.0</td>\n",
       "      <td>0.0</td>\n",
       "      <td>0.0</td>\n",
       "    </tr>\n",
       "  </tbody>\n",
       "</table>\n",
       "<p>180 rows × 7 columns</p>\n",
       "</div>"
      ],
      "text/plain": [
       "            Name   Runs    Ave      SR  Fours  Sixes   HF\n",
       "0            NaN    NaN    NaN     NaN    NaN    NaN  NaN\n",
       "1       CH Gayle  733.0  61.08  160.74   46.0   59.0  9.0\n",
       "2            NaN    NaN    NaN     NaN    NaN    NaN  NaN\n",
       "3      G Gambhir  590.0  36.87  143.55   64.0   17.0  6.0\n",
       "4            NaN    NaN    NaN     NaN    NaN    NaN  NaN\n",
       "..           ...    ...    ...     ...    ...    ...  ...\n",
       "175  PC Valthaty   30.0   5.00   58.82    4.0    0.0  0.0\n",
       "176          NaN    NaN    NaN     NaN    NaN    NaN  NaN\n",
       "177     RP Singh    6.0   3.00   50.00    0.0    0.0  0.0\n",
       "178          NaN    NaN    NaN     NaN    NaN    NaN  NaN\n",
       "179     R Sharma    2.0   0.50   18.18    0.0    0.0  0.0\n",
       "\n",
       "[180 rows x 7 columns]"
      ]
     },
     "execution_count": 100,
     "metadata": {},
     "output_type": "execute_result"
    }
   ],
   "source": [
    "ipl_data = pd.read_csv('Part4 - batting_bowling_ipl_bat.csv')\n",
    "ipl_data"
   ]
  },
  {
   "cell_type": "code",
   "execution_count": 101,
   "metadata": {},
   "outputs": [
    {
     "data": {
      "text/plain": [
       "Name     90\n",
       "Runs     90\n",
       "Ave      90\n",
       "SR       90\n",
       "Fours    90\n",
       "Sixes    90\n",
       "HF       90\n",
       "dtype: int64"
      ]
     },
     "execution_count": 101,
     "metadata": {},
     "output_type": "execute_result"
    }
   ],
   "source": [
    "ipl_data.isnull().sum()"
   ]
  },
  {
   "cell_type": "code",
   "execution_count": 102,
   "metadata": {},
   "outputs": [],
   "source": [
    "ipl_data = ipl_data.dropna(axis=0)"
   ]
  },
  {
   "cell_type": "code",
   "execution_count": 103,
   "metadata": {},
   "outputs": [
    {
     "data": {
      "text/html": [
       "<div>\n",
       "<style scoped>\n",
       "    .dataframe tbody tr th:only-of-type {\n",
       "        vertical-align: middle;\n",
       "    }\n",
       "\n",
       "    .dataframe tbody tr th {\n",
       "        vertical-align: top;\n",
       "    }\n",
       "\n",
       "    .dataframe thead th {\n",
       "        text-align: right;\n",
       "    }\n",
       "</style>\n",
       "<table border=\"1\" class=\"dataframe\">\n",
       "  <thead>\n",
       "    <tr style=\"text-align: right;\">\n",
       "      <th></th>\n",
       "      <th>Name</th>\n",
       "      <th>Runs</th>\n",
       "      <th>Ave</th>\n",
       "      <th>SR</th>\n",
       "      <th>Fours</th>\n",
       "      <th>Sixes</th>\n",
       "      <th>HF</th>\n",
       "    </tr>\n",
       "  </thead>\n",
       "  <tbody>\n",
       "    <tr>\n",
       "      <th>1</th>\n",
       "      <td>CH Gayle</td>\n",
       "      <td>733.0</td>\n",
       "      <td>61.08</td>\n",
       "      <td>160.74</td>\n",
       "      <td>46.0</td>\n",
       "      <td>59.0</td>\n",
       "      <td>9.0</td>\n",
       "    </tr>\n",
       "    <tr>\n",
       "      <th>3</th>\n",
       "      <td>G Gambhir</td>\n",
       "      <td>590.0</td>\n",
       "      <td>36.87</td>\n",
       "      <td>143.55</td>\n",
       "      <td>64.0</td>\n",
       "      <td>17.0</td>\n",
       "      <td>6.0</td>\n",
       "    </tr>\n",
       "    <tr>\n",
       "      <th>5</th>\n",
       "      <td>V Sehwag</td>\n",
       "      <td>495.0</td>\n",
       "      <td>33.00</td>\n",
       "      <td>161.23</td>\n",
       "      <td>57.0</td>\n",
       "      <td>19.0</td>\n",
       "      <td>5.0</td>\n",
       "    </tr>\n",
       "    <tr>\n",
       "      <th>7</th>\n",
       "      <td>CL White</td>\n",
       "      <td>479.0</td>\n",
       "      <td>43.54</td>\n",
       "      <td>149.68</td>\n",
       "      <td>41.0</td>\n",
       "      <td>20.0</td>\n",
       "      <td>5.0</td>\n",
       "    </tr>\n",
       "    <tr>\n",
       "      <th>9</th>\n",
       "      <td>S Dhawan</td>\n",
       "      <td>569.0</td>\n",
       "      <td>40.64</td>\n",
       "      <td>129.61</td>\n",
       "      <td>58.0</td>\n",
       "      <td>18.0</td>\n",
       "      <td>5.0</td>\n",
       "    </tr>\n",
       "    <tr>\n",
       "      <th>11</th>\n",
       "      <td>AM Rahane</td>\n",
       "      <td>560.0</td>\n",
       "      <td>40.00</td>\n",
       "      <td>129.33</td>\n",
       "      <td>73.0</td>\n",
       "      <td>10.0</td>\n",
       "      <td>5.0</td>\n",
       "    </tr>\n",
       "    <tr>\n",
       "      <th>13</th>\n",
       "      <td>KP Pietersen</td>\n",
       "      <td>305.0</td>\n",
       "      <td>61.00</td>\n",
       "      <td>147.34</td>\n",
       "      <td>22.0</td>\n",
       "      <td>20.0</td>\n",
       "      <td>3.0</td>\n",
       "    </tr>\n",
       "    <tr>\n",
       "      <th>15</th>\n",
       "      <td>RG Sharma</td>\n",
       "      <td>433.0</td>\n",
       "      <td>30.92</td>\n",
       "      <td>126.60</td>\n",
       "      <td>39.0</td>\n",
       "      <td>18.0</td>\n",
       "      <td>5.0</td>\n",
       "    </tr>\n",
       "    <tr>\n",
       "      <th>17</th>\n",
       "      <td>AB de Villiers</td>\n",
       "      <td>319.0</td>\n",
       "      <td>39.87</td>\n",
       "      <td>161.11</td>\n",
       "      <td>26.0</td>\n",
       "      <td>15.0</td>\n",
       "      <td>3.0</td>\n",
       "    </tr>\n",
       "    <tr>\n",
       "      <th>19</th>\n",
       "      <td>JP Duminy</td>\n",
       "      <td>244.0</td>\n",
       "      <td>81.33</td>\n",
       "      <td>128.42</td>\n",
       "      <td>13.0</td>\n",
       "      <td>11.0</td>\n",
       "      <td>2.0</td>\n",
       "    </tr>\n",
       "    <tr>\n",
       "      <th>21</th>\n",
       "      <td>DA Warner</td>\n",
       "      <td>256.0</td>\n",
       "      <td>36.57</td>\n",
       "      <td>164.10</td>\n",
       "      <td>28.0</td>\n",
       "      <td>14.0</td>\n",
       "      <td>3.0</td>\n",
       "    </tr>\n",
       "    <tr>\n",
       "      <th>23</th>\n",
       "      <td>SR Watson</td>\n",
       "      <td>255.0</td>\n",
       "      <td>42.50</td>\n",
       "      <td>151.78</td>\n",
       "      <td>26.0</td>\n",
       "      <td>14.0</td>\n",
       "      <td>2.0</td>\n",
       "    </tr>\n",
       "    <tr>\n",
       "      <th>25</th>\n",
       "      <td>F du Plessis</td>\n",
       "      <td>398.0</td>\n",
       "      <td>33.16</td>\n",
       "      <td>130.92</td>\n",
       "      <td>29.0</td>\n",
       "      <td>17.0</td>\n",
       "      <td>3.0</td>\n",
       "    </tr>\n",
       "    <tr>\n",
       "      <th>27</th>\n",
       "      <td>OA Shah</td>\n",
       "      <td>340.0</td>\n",
       "      <td>37.77</td>\n",
       "      <td>132.81</td>\n",
       "      <td>24.0</td>\n",
       "      <td>16.0</td>\n",
       "      <td>3.0</td>\n",
       "    </tr>\n",
       "    <tr>\n",
       "      <th>29</th>\n",
       "      <td>DJ Bravo</td>\n",
       "      <td>371.0</td>\n",
       "      <td>46.37</td>\n",
       "      <td>140.53</td>\n",
       "      <td>20.0</td>\n",
       "      <td>20.0</td>\n",
       "      <td>0.0</td>\n",
       "    </tr>\n",
       "    <tr>\n",
       "      <th>31</th>\n",
       "      <td>DJ Hussey</td>\n",
       "      <td>396.0</td>\n",
       "      <td>33.00</td>\n",
       "      <td>129.83</td>\n",
       "      <td>28.0</td>\n",
       "      <td>17.0</td>\n",
       "      <td>2.0</td>\n",
       "    </tr>\n",
       "    <tr>\n",
       "      <th>33</th>\n",
       "      <td>SK Raina</td>\n",
       "      <td>441.0</td>\n",
       "      <td>25.94</td>\n",
       "      <td>135.69</td>\n",
       "      <td>36.0</td>\n",
       "      <td>19.0</td>\n",
       "      <td>1.0</td>\n",
       "    </tr>\n",
       "    <tr>\n",
       "      <th>35</th>\n",
       "      <td>AT Rayudu</td>\n",
       "      <td>333.0</td>\n",
       "      <td>37.00</td>\n",
       "      <td>132.14</td>\n",
       "      <td>21.0</td>\n",
       "      <td>14.0</td>\n",
       "      <td>2.0</td>\n",
       "    </tr>\n",
       "    <tr>\n",
       "      <th>37</th>\n",
       "      <td>Mandeep Singh</td>\n",
       "      <td>432.0</td>\n",
       "      <td>27.00</td>\n",
       "      <td>126.31</td>\n",
       "      <td>53.0</td>\n",
       "      <td>7.0</td>\n",
       "      <td>2.0</td>\n",
       "    </tr>\n",
       "    <tr>\n",
       "      <th>39</th>\n",
       "      <td>R Dravid</td>\n",
       "      <td>462.0</td>\n",
       "      <td>28.87</td>\n",
       "      <td>112.13</td>\n",
       "      <td>63.0</td>\n",
       "      <td>4.0</td>\n",
       "      <td>2.0</td>\n",
       "    </tr>\n",
       "  </tbody>\n",
       "</table>\n",
       "</div>"
      ],
      "text/plain": [
       "              Name   Runs    Ave      SR  Fours  Sixes   HF\n",
       "1         CH Gayle  733.0  61.08  160.74   46.0   59.0  9.0\n",
       "3        G Gambhir  590.0  36.87  143.55   64.0   17.0  6.0\n",
       "5         V Sehwag  495.0  33.00  161.23   57.0   19.0  5.0\n",
       "7         CL White  479.0  43.54  149.68   41.0   20.0  5.0\n",
       "9         S Dhawan  569.0  40.64  129.61   58.0   18.0  5.0\n",
       "11       AM Rahane  560.0  40.00  129.33   73.0   10.0  5.0\n",
       "13    KP Pietersen  305.0  61.00  147.34   22.0   20.0  3.0\n",
       "15       RG Sharma  433.0  30.92  126.60   39.0   18.0  5.0\n",
       "17  AB de Villiers  319.0  39.87  161.11   26.0   15.0  3.0\n",
       "19       JP Duminy  244.0  81.33  128.42   13.0   11.0  2.0\n",
       "21       DA Warner  256.0  36.57  164.10   28.0   14.0  3.0\n",
       "23       SR Watson  255.0  42.50  151.78   26.0   14.0  2.0\n",
       "25    F du Plessis  398.0  33.16  130.92   29.0   17.0  3.0\n",
       "27         OA Shah  340.0  37.77  132.81   24.0   16.0  3.0\n",
       "29        DJ Bravo  371.0  46.37  140.53   20.0   20.0  0.0\n",
       "31       DJ Hussey  396.0  33.00  129.83   28.0   17.0  2.0\n",
       "33        SK Raina  441.0  25.94  135.69   36.0   19.0  1.0\n",
       "35       AT Rayudu  333.0  37.00  132.14   21.0   14.0  2.0\n",
       "37   Mandeep Singh  432.0  27.00  126.31   53.0    7.0  2.0\n",
       "39        R Dravid  462.0  28.87  112.13   63.0    4.0  2.0"
      ]
     },
     "execution_count": 103,
     "metadata": {},
     "output_type": "execute_result"
    }
   ],
   "source": [
    "ipl_data.head(20)"
   ]
  },
  {
   "cell_type": "code",
   "execution_count": 104,
   "metadata": {},
   "outputs": [
    {
     "name": "stdout",
     "output_type": "stream",
     "text": [
      "The dataset has 90 rows and 7 columns.\n"
     ]
    }
   ],
   "source": [
    "#checking for the rows and columns of the data\n",
    "rows, column = ipl_data.shape\n",
    "print('The dataset has', rows, 'rows and', column, 'columns.')"
   ]
  },
  {
   "cell_type": "code",
   "execution_count": 105,
   "metadata": {},
   "outputs": [
    {
     "data": {
      "text/plain": [
       "Index(['Name', 'Runs', 'Ave', 'SR', 'Fours', 'Sixes', 'HF'], dtype='object')"
      ]
     },
     "execution_count": 105,
     "metadata": {},
     "output_type": "execute_result"
    }
   ],
   "source": [
    "ipl_data.columns"
   ]
  },
  {
   "cell_type": "code",
   "execution_count": 106,
   "metadata": {},
   "outputs": [
    {
     "name": "stdout",
     "output_type": "stream",
     "text": [
      "object\n",
      "float64\n",
      "float64\n",
      "float64\n",
      "float64\n",
      "float64\n",
      "float64\n"
     ]
    }
   ],
   "source": [
    "print(ipl_data['Name'].dtypes)\n",
    "print(ipl_data['Runs'].dtypes)\n",
    "print(ipl_data['Ave'].dtypes)\n",
    "print(ipl_data['SR'].dtypes)\n",
    "print(ipl_data['Fours'].dtypes)\n",
    "print(ipl_data['Sixes'].dtypes)\n",
    "print(ipl_data['HF'].dtypes)"
   ]
  },
  {
   "cell_type": "code",
   "execution_count": 107,
   "metadata": {},
   "outputs": [
    {
     "name": "stdout",
     "output_type": "stream",
     "text": [
      "The data type of each attribute: \n",
      "\n",
      "<class 'pandas.core.frame.DataFrame'>\n",
      "Int64Index: 90 entries, 1 to 179\n",
      "Data columns (total 7 columns):\n",
      " #   Column  Non-Null Count  Dtype  \n",
      "---  ------  --------------  -----  \n",
      " 0   Name    90 non-null     object \n",
      " 1   Runs    90 non-null     float64\n",
      " 2   Ave     90 non-null     float64\n",
      " 3   SR      90 non-null     float64\n",
      " 4   Fours   90 non-null     float64\n",
      " 5   Sixes   90 non-null     float64\n",
      " 6   HF      90 non-null     float64\n",
      "dtypes: float64(6), object(1)\n",
      "memory usage: 5.6+ KB\n"
     ]
    }
   ],
   "source": [
    "#checking for the data type\n",
    "print('The data type of each attribute: \\n')\n",
    "ipl_data.info()"
   ]
  },
  {
   "cell_type": "code",
   "execution_count": 108,
   "metadata": {
    "scrolled": true
   },
   "outputs": [
    {
     "data": {
      "text/html": [
       "<div>\n",
       "<style scoped>\n",
       "    .dataframe tbody tr th:only-of-type {\n",
       "        vertical-align: middle;\n",
       "    }\n",
       "\n",
       "    .dataframe tbody tr th {\n",
       "        vertical-align: top;\n",
       "    }\n",
       "\n",
       "    .dataframe thead th {\n",
       "        text-align: right;\n",
       "    }\n",
       "</style>\n",
       "<table border=\"1\" class=\"dataframe\">\n",
       "  <thead>\n",
       "    <tr style=\"text-align: right;\">\n",
       "      <th></th>\n",
       "      <th>count</th>\n",
       "      <th>mean</th>\n",
       "      <th>std</th>\n",
       "      <th>min</th>\n",
       "      <th>25%</th>\n",
       "      <th>50%</th>\n",
       "      <th>75%</th>\n",
       "      <th>max</th>\n",
       "    </tr>\n",
       "  </thead>\n",
       "  <tbody>\n",
       "    <tr>\n",
       "      <th>Runs</th>\n",
       "      <td>90.0</td>\n",
       "      <td>219.933333</td>\n",
       "      <td>156.253669</td>\n",
       "      <td>2.00</td>\n",
       "      <td>98.000</td>\n",
       "      <td>196.500</td>\n",
       "      <td>330.7500</td>\n",
       "      <td>733.00</td>\n",
       "    </tr>\n",
       "    <tr>\n",
       "      <th>Ave</th>\n",
       "      <td>90.0</td>\n",
       "      <td>24.729889</td>\n",
       "      <td>13.619215</td>\n",
       "      <td>0.50</td>\n",
       "      <td>14.665</td>\n",
       "      <td>24.440</td>\n",
       "      <td>32.1950</td>\n",
       "      <td>81.33</td>\n",
       "    </tr>\n",
       "    <tr>\n",
       "      <th>SR</th>\n",
       "      <td>90.0</td>\n",
       "      <td>119.164111</td>\n",
       "      <td>23.656547</td>\n",
       "      <td>18.18</td>\n",
       "      <td>108.745</td>\n",
       "      <td>120.135</td>\n",
       "      <td>131.9975</td>\n",
       "      <td>164.10</td>\n",
       "    </tr>\n",
       "    <tr>\n",
       "      <th>Fours</th>\n",
       "      <td>90.0</td>\n",
       "      <td>19.788889</td>\n",
       "      <td>16.399845</td>\n",
       "      <td>0.00</td>\n",
       "      <td>6.250</td>\n",
       "      <td>16.000</td>\n",
       "      <td>28.0000</td>\n",
       "      <td>73.00</td>\n",
       "    </tr>\n",
       "    <tr>\n",
       "      <th>Sixes</th>\n",
       "      <td>90.0</td>\n",
       "      <td>7.577778</td>\n",
       "      <td>8.001373</td>\n",
       "      <td>0.00</td>\n",
       "      <td>3.000</td>\n",
       "      <td>6.000</td>\n",
       "      <td>10.0000</td>\n",
       "      <td>59.00</td>\n",
       "    </tr>\n",
       "    <tr>\n",
       "      <th>HF</th>\n",
       "      <td>90.0</td>\n",
       "      <td>1.188889</td>\n",
       "      <td>1.688656</td>\n",
       "      <td>0.00</td>\n",
       "      <td>0.000</td>\n",
       "      <td>0.500</td>\n",
       "      <td>2.0000</td>\n",
       "      <td>9.00</td>\n",
       "    </tr>\n",
       "  </tbody>\n",
       "</table>\n",
       "</div>"
      ],
      "text/plain": [
       "       count        mean         std    min      25%      50%       75%  \\\n",
       "Runs    90.0  219.933333  156.253669   2.00   98.000  196.500  330.7500   \n",
       "Ave     90.0   24.729889   13.619215   0.50   14.665   24.440   32.1950   \n",
       "SR      90.0  119.164111   23.656547  18.18  108.745  120.135  131.9975   \n",
       "Fours   90.0   19.788889   16.399845   0.00    6.250   16.000   28.0000   \n",
       "Sixes   90.0    7.577778    8.001373   0.00    3.000    6.000   10.0000   \n",
       "HF      90.0    1.188889    1.688656   0.00    0.000    0.500    2.0000   \n",
       "\n",
       "          max  \n",
       "Runs   733.00  \n",
       "Ave     81.33  \n",
       "SR     164.10  \n",
       "Fours   73.00  \n",
       "Sixes   59.00  \n",
       "HF       9.00  "
      ]
     },
     "execution_count": 108,
     "metadata": {},
     "output_type": "execute_result"
    }
   ],
   "source": [
    "ipl_data.describe().T"
   ]
  },
  {
   "cell_type": "code",
   "execution_count": 109,
   "metadata": {},
   "outputs": [
    {
     "name": "stdout",
     "output_type": "stream",
     "text": [
      "Duplicated rows:  0\n"
     ]
    }
   ],
   "source": [
    "print('Duplicated rows: ', ipl_data[ipl_data.duplicated()].shape[0])"
   ]
  },
  {
   "cell_type": "code",
   "execution_count": 110,
   "metadata": {},
   "outputs": [
    {
     "data": {
      "image/png": "[encoded data removed]",
      "text/plain": [
       "<Figure size 1080x576 with 1 Axes>"
      ]
     },
     "metadata": {
      "needs_background": "light"
     },
     "output_type": "display_data"
    }
   ],
   "source": [
    "plt.figure(figsize=(15,8))\n",
    "b1=ipl_data.groupby('Name')['Runs'].sum().sort_values(ascending = False ).head(10)\n",
    "b1= b1.reset_index() \n",
    "b1.columns = ['Name' ,'Runs']\n",
    "sns.barplot(data= b1 , x= 'Name' , y ='Runs');\n",
    "plt.title(\"Top 10 Players by Runs\");"
   ]
  },
  {
   "cell_type": "code",
   "execution_count": 111,
   "metadata": {},
   "outputs": [
    {
     "data": {
      "image/png": "[encoded data removed]",
      "text/plain": [
       "<Figure size 1080x576 with 1 Axes>"
      ]
     },
     "metadata": {
      "needs_background": "light"
     },
     "output_type": "display_data"
    }
   ],
   "source": [
    "plt.figure(figsize=(15,8))\n",
    "b1=ipl_data.groupby('Name')['Ave'].sum().sort_values(ascending = False ).head(10)\n",
    "b1= b1.reset_index() \n",
    "b1.columns = ['Name' ,'Ave']\n",
    "sns.barplot(data= b1 , x= 'Name' , y ='Ave')\n",
    "plt.title(\"Top 10 players by Average\");"
   ]
  },
  {
   "cell_type": "code",
   "execution_count": 112,
   "metadata": {},
   "outputs": [
    {
     "data": {
      "image/png": "[encoded data removed]",
      "text/plain": [
       "<Figure size 1080x576 with 1 Axes>"
      ]
     },
     "metadata": {
      "needs_background": "light"
     },
     "output_type": "display_data"
    }
   ],
   "source": [
    "plt.figure(figsize=(15,8))\n",
    "b1=ipl_data.groupby('Name')['SR'].sum().sort_values(ascending = False ).head(10)\n",
    "b1= b1.reset_index() \n",
    "b1.columns = ['Name' ,'SR']\n",
    "sns.barplot(data= b1 , x= 'Name' , y ='SR')\n",
    "plt.title(\"Top 10 players by Strike Rate\");"
   ]
  },
  {
   "cell_type": "code",
   "execution_count": 113,
   "metadata": {},
   "outputs": [
    {
     "data": {
      "image/png": "[encoded data removed]",
      "text/plain": [
       "<Figure size 1080x576 with 1 Axes>"
      ]
     },
     "metadata": {
      "needs_background": "light"
     },
     "output_type": "display_data"
    }
   ],
   "source": [
    "plt.figure(figsize=(15,8))\n",
    "b1=ipl_data.groupby('Name')['Fours'].sum().sort_values(ascending = False ).head(10)\n",
    "b1= b1.reset_index() \n",
    "b1.columns = ['Name' ,'Fours']\n",
    "sns.barplot(data= b1 , x= 'Name' , y ='Fours')\n",
    "plt.title(\"Top 10 players by Fours\");"
   ]
  },
  {
   "cell_type": "code",
   "execution_count": 114,
   "metadata": {},
   "outputs": [
    {
     "data": {
      "image/png": "[encoded data removed]",
      "text/plain": [
       "<Figure size 1080x576 with 1 Axes>"
      ]
     },
     "metadata": {
      "needs_background": "light"
     },
     "output_type": "display_data"
    }
   ],
   "source": [
    "plt.figure(figsize=(15,8))\n",
    "b1=ipl_data.groupby('Name')['Sixes'].sum().sort_values(ascending = False ).head(10)\n",
    "b1= b1.reset_index() \n",
    "b1.columns = ['Name' ,'Sixes']\n",
    "sns.barplot(data= b1 , x= 'Name' , y ='Sixes')\n",
    "plt.title(\"Top 10 players by Sixes\");"
   ]
  },
  {
   "cell_type": "code",
   "execution_count": 115,
   "metadata": {},
   "outputs": [
    {
     "data": {
      "image/png": "[encoded data removed]",
      "text/plain": [
       "<Figure size 1080x576 with 1 Axes>"
      ]
     },
     "metadata": {
      "needs_background": "light"
     },
     "output_type": "display_data"
    }
   ],
   "source": [
    "plt.figure(figsize=(15,8))\n",
    "b1=ipl_data.groupby('Name')['HF'].sum().sort_values(ascending = False ).head(10)\n",
    "b1= b1.reset_index() \n",
    "b1.columns = ['Name' ,'HF']\n",
    "sns.barplot(data= b1 , x= 'Name' , y ='HF')\n",
    "plt.title(\"Top 10 players by Half Centuries\");"
   ]
  },
  {
   "cell_type": "code",
   "execution_count": 116,
   "metadata": {},
   "outputs": [
    {
     "data": {
      "image/png": "[encoded data removed]",
      "text/plain": [
       "<Figure size 1080x720 with 6 Axes>"
      ]
     },
     "metadata": {
      "needs_background": "light"
     },
     "output_type": "display_data"
    }
   ],
   "source": [
    "ipl_data.hist(bins = 20, figsize = (15, 10), color = 'blue')\n",
    "plt.show()"
   ]
  },
  {
   "cell_type": "markdown",
   "metadata": {},
   "source": [
    "# Univariate Analysis"
   ]
  },
  {
   "cell_type": "code",
   "execution_count": 117,
   "metadata": {},
   "outputs": [
    {
     "name": "stdout",
     "output_type": "stream",
     "text": [
      "Mean 219.93333333333334\n",
      "Median 196.5\n",
      "Mode 0     35.0\n",
      "1    220.0\n",
      "dtype: float64\n"
     ]
    },
    {
     "data": {
      "image/png": "[encoded data removed]",
      "text/plain": [
       "<Figure size 432x288 with 1 Axes>"
      ]
     },
     "metadata": {
      "needs_background": "light"
     },
     "output_type": "display_data"
    }
   ],
   "source": [
    "sns.distplot(ipl_data['Runs'])\n",
    "print('Mean',ipl_data['Runs'].mean())\n",
    "print('Median',ipl_data['Runs'].median())\n",
    "print('Mode',ipl_data['Runs'].mode())"
   ]
  },
  {
   "cell_type": "markdown",
   "metadata": {},
   "source": [
    "The dist plot for Runs is a bit right skewed which means Mean > Median"
   ]
  },
  {
   "cell_type": "code",
   "execution_count": 118,
   "metadata": {
    "scrolled": true
   },
   "outputs": [
    {
     "name": "stdout",
     "output_type": "stream",
     "text": [
      "Mean 24.729888888888883\n",
      "Median 24.44\n",
      "Mode 0     6.00\n",
      "1    11.66\n",
      "2    24.44\n",
      "3    27.00\n",
      "4    28.00\n",
      "5    33.00\n",
      "dtype: float64\n"
     ]
    },
    {
     "data": {
      "image/png": "[encoded data removed]",
      "text/plain": [
       "<Figure size 432x288 with 1 Axes>"
      ]
     },
     "metadata": {
      "needs_background": "light"
     },
     "output_type": "display_data"
    }
   ],
   "source": [
    "sns.distplot(ipl_data['Ave'])\n",
    "print('Mean',ipl_data['Ave'].mean())\n",
    "print('Median',ipl_data['Ave'].median())\n",
    "print('Mode',ipl_data['Ave'].mode())"
   ]
  },
  {
   "cell_type": "markdown",
   "metadata": {},
   "source": [
    "Ave is approx normally distributed with Mean ~ Median . But the mode is improper"
   ]
  },
  {
   "cell_type": "code",
   "execution_count": 119,
   "metadata": {
    "scrolled": true
   },
   "outputs": [
    {
     "data": {
      "text/plain": [
       "<matplotlib.axes._subplots.AxesSubplot at 0x7fd0c07e1ed0>"
      ]
     },
     "execution_count": 119,
     "metadata": {},
     "output_type": "execute_result"
    },
    {
     "data": {
      "image/png": "[encoded data removed]",
      "text/plain": [
       "<Figure size 432x288 with 1 Axes>"
      ]
     },
     "metadata": {
      "needs_background": "light"
     },
     "output_type": "display_data"
    }
   ],
   "source": [
    "sns.distplot(ipl_data['SR'])"
   ]
  },
  {
   "cell_type": "markdown",
   "metadata": {},
   "source": [
    "The graph shows that SR data is left skewed , i.e. Mean < Median"
   ]
  },
  {
   "cell_type": "code",
   "execution_count": 120,
   "metadata": {},
   "outputs": [
    {
     "data": {
      "text/plain": [
       "<matplotlib.axes._subplots.AxesSubplot at 0x7fd0c0762d90>"
      ]
     },
     "execution_count": 120,
     "metadata": {},
     "output_type": "execute_result"
    },
    {
     "data": {
      "image/png": "[encoded data removed]",
      "text/plain": [
       "<Figure size 432x288 with 1 Axes>"
      ]
     },
     "metadata": {
      "needs_background": "light"
     },
     "output_type": "display_data"
    }
   ],
   "source": [
    "sns.distplot(ipl_data['Fours'])"
   ]
  },
  {
   "cell_type": "code",
   "execution_count": 121,
   "metadata": {},
   "outputs": [
    {
     "data": {
      "text/plain": [
       "<matplotlib.axes._subplots.AxesSubplot at 0x7fd0c1022490>"
      ]
     },
     "execution_count": 121,
     "metadata": {},
     "output_type": "execute_result"
    },
    {
     "data": {
      "image/png": "[encoded data removed]",
      "text/plain": [
       "<Figure size 432x288 with 1 Axes>"
      ]
     },
     "metadata": {
      "needs_background": "light"
     },
     "output_type": "display_data"
    }
   ],
   "source": [
    "sns.distplot(ipl_data['Sixes'])"
   ]
  },
  {
   "cell_type": "markdown",
   "metadata": {},
   "source": [
    "The data for sixed is right skewed i.e Mean > Median"
   ]
  },
  {
   "cell_type": "markdown",
   "metadata": {},
   "source": [
    "# Multivariate Analysis"
   ]
  },
  {
   "cell_type": "code",
   "execution_count": 122,
   "metadata": {},
   "outputs": [
    {
     "data": {
      "image/png": "[encoded data removed]",
      "text/plain": [
       "<Figure size 1080x720 with 6 Axes>"
      ]
     },
     "metadata": {
      "needs_background": "light"
     },
     "output_type": "display_data"
    }
   ],
   "source": [
    "plt.figure(figsize=(15, 10))\n",
    "col = 1\n",
    "for i in ipl_data.drop(columns='Name').columns:\n",
    "    plt.subplot(2, 3, col)\n",
    "    sns.boxplot(ipl_data[i],color='red')\n",
    "    col += 1"
   ]
  },
  {
   "cell_type": "markdown",
   "metadata": {},
   "source": [
    "There are few outliers in each column but we will not be treating them since it is from genuine observation"
   ]
  },
  {
   "cell_type": "code",
   "execution_count": 123,
   "metadata": {},
   "outputs": [
    {
     "data": {
      "image/png": "[encoded data removed]",
      "text/plain": [
       "<Figure size 720x576 with 2 Axes>"
      ]
     },
     "metadata": {
      "needs_background": "light"
     },
     "output_type": "display_data"
    }
   ],
   "source": [
    "#checking for correlation\n",
    "plt.figure(figsize=(10,8))\n",
    "corr = ipl_data.drop(columns='Name').corr()\n",
    "sns.heatmap(corr,annot=True);"
   ]
  },
  {
   "cell_type": "markdown",
   "metadata": {},
   "source": [
    "The above correlation heat map draws a conclusion that :\n",
    "- Number of fours is highly correlated with the runs scored which means if a player has scored more number of runs then he has scored more number of fours \n",
    "- HF is also nicely correlated with fours and sixes. whereas number of fours and sixes are not much correlated with each other. We can say that fours and sixes are independent of each other.\n",
    "- Strike Rate is least correlated with fours which means both are independent of each other.\n",
    "- Strike Rate & Average can be an important features as these are less correlated and more independent."
   ]
  },
  {
   "cell_type": "markdown",
   "metadata": {},
   "source": [
    "## By looking at the data we can assume that the players with Good SR and Ave can be selected "
   ]
  },
  {
   "cell_type": "code",
   "execution_count": 124,
   "metadata": {},
   "outputs": [
    {
     "data": {
      "text/html": [
       "<div>\n",
       "<style scoped>\n",
       "    .dataframe tbody tr th:only-of-type {\n",
       "        vertical-align: middle;\n",
       "    }\n",
       "\n",
       "    .dataframe tbody tr th {\n",
       "        vertical-align: top;\n",
       "    }\n",
       "\n",
       "    .dataframe thead th {\n",
       "        text-align: right;\n",
       "    }\n",
       "</style>\n",
       "<table border=\"1\" class=\"dataframe\">\n",
       "  <thead>\n",
       "    <tr style=\"text-align: right;\">\n",
       "      <th></th>\n",
       "      <th>Runs</th>\n",
       "      <th>Ave</th>\n",
       "      <th>SR</th>\n",
       "      <th>Fours</th>\n",
       "      <th>Sixes</th>\n",
       "      <th>HF</th>\n",
       "    </tr>\n",
       "  </thead>\n",
       "  <tbody>\n",
       "    <tr>\n",
       "      <th>1</th>\n",
       "      <td>3.301945</td>\n",
       "      <td>2.683984</td>\n",
       "      <td>1.767325</td>\n",
       "      <td>1.607207</td>\n",
       "      <td>6.462679</td>\n",
       "      <td>4.651551</td>\n",
       "    </tr>\n",
       "    <tr>\n",
       "      <th>3</th>\n",
       "      <td>2.381639</td>\n",
       "      <td>0.896390</td>\n",
       "      <td>1.036605</td>\n",
       "      <td>2.710928</td>\n",
       "      <td>1.184173</td>\n",
       "      <td>2.865038</td>\n",
       "    </tr>\n",
       "    <tr>\n",
       "      <th>5</th>\n",
       "      <td>1.770248</td>\n",
       "      <td>0.610640</td>\n",
       "      <td>1.788154</td>\n",
       "      <td>2.281703</td>\n",
       "      <td>1.435530</td>\n",
       "      <td>2.269533</td>\n",
       "    </tr>\n",
       "    <tr>\n",
       "      <th>7</th>\n",
       "      <td>1.667276</td>\n",
       "      <td>1.388883</td>\n",
       "      <td>1.297182</td>\n",
       "      <td>1.300618</td>\n",
       "      <td>1.561209</td>\n",
       "      <td>2.269533</td>\n",
       "    </tr>\n",
       "    <tr>\n",
       "      <th>9</th>\n",
       "      <td>2.246490</td>\n",
       "      <td>1.174755</td>\n",
       "      <td>0.444038</td>\n",
       "      <td>2.343021</td>\n",
       "      <td>1.309851</td>\n",
       "      <td>2.269533</td>\n",
       "    </tr>\n",
       "  </tbody>\n",
       "</table>\n",
       "</div>"
      ],
      "text/plain": [
       "       Runs       Ave        SR     Fours     Sixes        HF\n",
       "1  3.301945  2.683984  1.767325  1.607207  6.462679  4.651551\n",
       "3  2.381639  0.896390  1.036605  2.710928  1.184173  2.865038\n",
       "5  1.770248  0.610640  1.788154  2.281703  1.435530  2.269533\n",
       "7  1.667276  1.388883  1.297182  1.300618  1.561209  2.269533\n",
       "9  2.246490  1.174755  0.444038  2.343021  1.309851  2.269533"
      ]
     },
     "execution_count": 124,
     "metadata": {},
     "output_type": "execute_result"
    }
   ],
   "source": [
    "#scaling the numeric variables\n",
    "scaled_data = ipl_data.iloc[:,1:7] \n",
    "scaled_data1 = scaled_data.apply(zscore)\n",
    "scaled_data1.head()"
   ]
  },
  {
   "cell_type": "code",
   "execution_count": 125,
   "metadata": {},
   "outputs": [
    {
     "data": {
      "image/png": "[encoded data removed]",
      "text/plain": [
       "<Figure size 432x288 with 1 Axes>"
      ]
     },
     "metadata": {
      "needs_background": "light"
     },
     "output_type": "display_data"
    }
   ],
   "source": [
    "#checking for the within sum of squares\n",
    "wss =[] \n",
    "for i in range(1,6):\n",
    "    KM = KMeans(n_clusters=i)\n",
    "    KM.fit(scaled_data1)\n",
    "    wss.append(KM.inertia_)\n",
    "\n",
    "#plotting to check for optimal clustres \n",
    "plt.plot(range(1,6), wss);\n",
    "plt.title('Elbow Method');\n",
    "plt.xlabel(\"Number of Clusters\")\n",
    "plt.ylabel(\"WSS\");"
   ]
  },
  {
   "cell_type": "code",
   "execution_count": 126,
   "metadata": {},
   "outputs": [],
   "source": [
    "#using 2 centroids\n",
    "k_means = KMeans(n_clusters = 2)\n",
    "k_means.fit(scaled_data1)\n",
    "labels = k_means.labels_"
   ]
  },
  {
   "cell_type": "code",
   "execution_count": 127,
   "metadata": {},
   "outputs": [
    {
     "data": {
      "text/plain": [
       "0.41111085574076756"
      ]
     },
     "execution_count": 127,
     "metadata": {},
     "output_type": "execute_result"
    }
   ],
   "source": [
    "# Calculating silhouette_score\n",
    "silhouette_score(scaled_data1,labels)"
   ]
  },
  {
   "cell_type": "code",
   "execution_count": 128,
   "metadata": {},
   "outputs": [],
   "source": [
    "#plotting silhouette score for different centroids\n",
    "kmeans_kwargs = {\n",
    "   \"init\": \"random\",\n",
    "   \"n_init\": 10,\n",
    "   \"max_iter\": 300,\n",
    "   \"random_state\": 42,\n",
    "}\n",
    "\n",
    "\n",
    "silhouette_coefficients = []\n",
    "\n",
    " # Notice you start at 2 clusters for silhouette coefficient\n",
    "for k in range(2, 6):\n",
    "    kmeans = KMeans(n_clusters=k, **kmeans_kwargs)\n",
    "    kmeans.fit(scaled_data1)\n",
    "    score = silhouette_score(scaled_data1,kmeans.labels_)\n",
    "    silhouette_coefficients.append(score)"
   ]
  },
  {
   "cell_type": "code",
   "execution_count": 129,
   "metadata": {},
   "outputs": [
    {
     "data": {
      "image/png": "[encoded data removed]",
      "text/plain": [
       "<Figure size 432x288 with 1 Axes>"
      ]
     },
     "metadata": {
      "needs_background": "light"
     },
     "output_type": "display_data"
    }
   ],
   "source": [
    "plt.plot(range(2,6), silhouette_coefficients)\n",
    "plt.xticks(range(2, 6))\n",
    "plt.xlabel(\"Number of Clusters\")\n",
    "plt.ylabel(\"Silhouette Coefficient\")\n",
    "plt.show()"
   ]
  },
  {
   "cell_type": "code",
   "execution_count": 130,
   "metadata": {},
   "outputs": [
    {
     "data": {
      "text/html": [
       "<div>\n",
       "<style scoped>\n",
       "    .dataframe tbody tr th:only-of-type {\n",
       "        vertical-align: middle;\n",
       "    }\n",
       "\n",
       "    .dataframe tbody tr th {\n",
       "        vertical-align: top;\n",
       "    }\n",
       "\n",
       "    .dataframe thead th {\n",
       "        text-align: right;\n",
       "    }\n",
       "</style>\n",
       "<table border=\"1\" class=\"dataframe\">\n",
       "  <thead>\n",
       "    <tr style=\"text-align: right;\">\n",
       "      <th></th>\n",
       "      <th>Name</th>\n",
       "      <th>Runs</th>\n",
       "      <th>Ave</th>\n",
       "      <th>SR</th>\n",
       "      <th>Fours</th>\n",
       "      <th>Sixes</th>\n",
       "      <th>HF</th>\n",
       "      <th>Cluster</th>\n",
       "    </tr>\n",
       "  </thead>\n",
       "  <tbody>\n",
       "    <tr>\n",
       "      <th>1</th>\n",
       "      <td>CH Gayle</td>\n",
       "      <td>733.0</td>\n",
       "      <td>61.08</td>\n",
       "      <td>160.74</td>\n",
       "      <td>46.0</td>\n",
       "      <td>59.0</td>\n",
       "      <td>9.0</td>\n",
       "      <td>1</td>\n",
       "    </tr>\n",
       "    <tr>\n",
       "      <th>3</th>\n",
       "      <td>G Gambhir</td>\n",
       "      <td>590.0</td>\n",
       "      <td>36.87</td>\n",
       "      <td>143.55</td>\n",
       "      <td>64.0</td>\n",
       "      <td>17.0</td>\n",
       "      <td>6.0</td>\n",
       "      <td>1</td>\n",
       "    </tr>\n",
       "    <tr>\n",
       "      <th>5</th>\n",
       "      <td>V Sehwag</td>\n",
       "      <td>495.0</td>\n",
       "      <td>33.00</td>\n",
       "      <td>161.23</td>\n",
       "      <td>57.0</td>\n",
       "      <td>19.0</td>\n",
       "      <td>5.0</td>\n",
       "      <td>1</td>\n",
       "    </tr>\n",
       "    <tr>\n",
       "      <th>7</th>\n",
       "      <td>CL White</td>\n",
       "      <td>479.0</td>\n",
       "      <td>43.54</td>\n",
       "      <td>149.68</td>\n",
       "      <td>41.0</td>\n",
       "      <td>20.0</td>\n",
       "      <td>5.0</td>\n",
       "      <td>1</td>\n",
       "    </tr>\n",
       "    <tr>\n",
       "      <th>9</th>\n",
       "      <td>S Dhawan</td>\n",
       "      <td>569.0</td>\n",
       "      <td>40.64</td>\n",
       "      <td>129.61</td>\n",
       "      <td>58.0</td>\n",
       "      <td>18.0</td>\n",
       "      <td>5.0</td>\n",
       "      <td>1</td>\n",
       "    </tr>\n",
       "  </tbody>\n",
       "</table>\n",
       "</div>"
      ],
      "text/plain": [
       "        Name   Runs    Ave      SR  Fours  Sixes   HF  Cluster\n",
       "1   CH Gayle  733.0  61.08  160.74   46.0   59.0  9.0        1\n",
       "3  G Gambhir  590.0  36.87  143.55   64.0   17.0  6.0        1\n",
       "5   V Sehwag  495.0  33.00  161.23   57.0   19.0  5.0        1\n",
       "7   CL White  479.0  43.54  149.68   41.0   20.0  5.0        1\n",
       "9   S Dhawan  569.0  40.64  129.61   58.0   18.0  5.0        1"
      ]
     },
     "execution_count": 130,
     "metadata": {},
     "output_type": "execute_result"
    }
   ],
   "source": [
    "#attaching the labels to the original data\n",
    "ipl_data['Cluster']=labels\n",
    "ipl_data.head()"
   ]
  },
  {
   "cell_type": "code",
   "execution_count": 131,
   "metadata": {},
   "outputs": [
    {
     "data": {
      "text/plain": [
       "0    55\n",
       "1    35\n",
       "Name: Cluster, dtype: int64"
      ]
     },
     "execution_count": 131,
     "metadata": {},
     "output_type": "execute_result"
    }
   ],
   "source": [
    "#veiwing the distribution of the clusters\n",
    "ipl_data.Cluster.value_counts().sort_index()"
   ]
  },
  {
   "cell_type": "code",
   "execution_count": 133,
   "metadata": {},
   "outputs": [
    {
     "data": {
      "text/html": [
       "<div>\n",
       "<style scoped>\n",
       "    .dataframe tbody tr th:only-of-type {\n",
       "        vertical-align: middle;\n",
       "    }\n",
       "\n",
       "    .dataframe tbody tr th {\n",
       "        vertical-align: top;\n",
       "    }\n",
       "\n",
       "    .dataframe thead th {\n",
       "        text-align: right;\n",
       "    }\n",
       "</style>\n",
       "<table border=\"1\" class=\"dataframe\">\n",
       "  <thead>\n",
       "    <tr style=\"text-align: right;\">\n",
       "      <th></th>\n",
       "      <th>Runs</th>\n",
       "      <th>Ave</th>\n",
       "      <th>SR</th>\n",
       "      <th>Fours</th>\n",
       "      <th>Sixes</th>\n",
       "      <th>HF</th>\n",
       "      <th>Freq</th>\n",
       "    </tr>\n",
       "    <tr>\n",
       "      <th>Cluster</th>\n",
       "      <th></th>\n",
       "      <th></th>\n",
       "      <th></th>\n",
       "      <th></th>\n",
       "      <th></th>\n",
       "      <th></th>\n",
       "      <th></th>\n",
       "    </tr>\n",
       "  </thead>\n",
       "  <tbody>\n",
       "    <tr>\n",
       "      <th>0</th>\n",
       "      <td>122.745455</td>\n",
       "      <td>17.582000</td>\n",
       "      <td>110.481455</td>\n",
       "      <td>10.309091</td>\n",
       "      <td>3.636364</td>\n",
       "      <td>0.218182</td>\n",
       "      <td>55</td>\n",
       "    </tr>\n",
       "    <tr>\n",
       "      <th>1</th>\n",
       "      <td>372.657143</td>\n",
       "      <td>35.962286</td>\n",
       "      <td>132.808286</td>\n",
       "      <td>34.685714</td>\n",
       "      <td>13.771429</td>\n",
       "      <td>2.714286</td>\n",
       "      <td>35</td>\n",
       "    </tr>\n",
       "  </tbody>\n",
       "</table>\n",
       "</div>"
      ],
      "text/plain": [
       "               Runs        Ave          SR      Fours      Sixes        HF  \\\n",
       "Cluster                                                                      \n",
       "0        122.745455  17.582000  110.481455  10.309091   3.636364  0.218182   \n",
       "1        372.657143  35.962286  132.808286  34.685714  13.771429  2.714286   \n",
       "\n",
       "         Freq  \n",
       "Cluster        \n",
       "0          55  \n",
       "1          35  "
      ]
     },
     "execution_count": 133,
     "metadata": {},
     "output_type": "execute_result"
    }
   ],
   "source": [
    "#aggregating the clusters with the numeric variables with their mean\n",
    "aggdata=ipl_data.iloc[:,0:9].groupby('Cluster').mean()\n",
    "aggdata['Freq']=ipl_data.Cluster.value_counts().sort_index()\n",
    "aggdata"
   ]
  },
  {
   "cell_type": "code",
   "execution_count": 135,
   "metadata": {},
   "outputs": [],
   "source": [
    "#based on the above table renaming/ranking the playes in Grade A and Grade B\n",
    "ipl_data['Cluster'] = ipl_data['Cluster'].replace({1: 'Grade A', 0: 'Grade B'})"
   ]
  },
  {
   "cell_type": "code",
   "execution_count": 136,
   "metadata": {},
   "outputs": [
    {
     "data": {
      "text/html": [
       "<div>\n",
       "<style scoped>\n",
       "    .dataframe tbody tr th:only-of-type {\n",
       "        vertical-align: middle;\n",
       "    }\n",
       "\n",
       "    .dataframe tbody tr th {\n",
       "        vertical-align: top;\n",
       "    }\n",
       "\n",
       "    .dataframe thead th {\n",
       "        text-align: right;\n",
       "    }\n",
       "</style>\n",
       "<table border=\"1\" class=\"dataframe\">\n",
       "  <thead>\n",
       "    <tr style=\"text-align: right;\">\n",
       "      <th></th>\n",
       "      <th>Name</th>\n",
       "      <th>Runs</th>\n",
       "      <th>Ave</th>\n",
       "      <th>SR</th>\n",
       "      <th>Fours</th>\n",
       "      <th>Sixes</th>\n",
       "      <th>HF</th>\n",
       "      <th>Cluster</th>\n",
       "    </tr>\n",
       "  </thead>\n",
       "  <tbody>\n",
       "    <tr>\n",
       "      <th>1</th>\n",
       "      <td>CH Gayle</td>\n",
       "      <td>733.0</td>\n",
       "      <td>61.08</td>\n",
       "      <td>160.74</td>\n",
       "      <td>46.0</td>\n",
       "      <td>59.0</td>\n",
       "      <td>9.0</td>\n",
       "      <td>Grade A</td>\n",
       "    </tr>\n",
       "    <tr>\n",
       "      <th>3</th>\n",
       "      <td>G Gambhir</td>\n",
       "      <td>590.0</td>\n",
       "      <td>36.87</td>\n",
       "      <td>143.55</td>\n",
       "      <td>64.0</td>\n",
       "      <td>17.0</td>\n",
       "      <td>6.0</td>\n",
       "      <td>Grade A</td>\n",
       "    </tr>\n",
       "    <tr>\n",
       "      <th>5</th>\n",
       "      <td>V Sehwag</td>\n",
       "      <td>495.0</td>\n",
       "      <td>33.00</td>\n",
       "      <td>161.23</td>\n",
       "      <td>57.0</td>\n",
       "      <td>19.0</td>\n",
       "      <td>5.0</td>\n",
       "      <td>Grade A</td>\n",
       "    </tr>\n",
       "    <tr>\n",
       "      <th>7</th>\n",
       "      <td>CL White</td>\n",
       "      <td>479.0</td>\n",
       "      <td>43.54</td>\n",
       "      <td>149.68</td>\n",
       "      <td>41.0</td>\n",
       "      <td>20.0</td>\n",
       "      <td>5.0</td>\n",
       "      <td>Grade A</td>\n",
       "    </tr>\n",
       "    <tr>\n",
       "      <th>9</th>\n",
       "      <td>S Dhawan</td>\n",
       "      <td>569.0</td>\n",
       "      <td>40.64</td>\n",
       "      <td>129.61</td>\n",
       "      <td>58.0</td>\n",
       "      <td>18.0</td>\n",
       "      <td>5.0</td>\n",
       "      <td>Grade A</td>\n",
       "    </tr>\n",
       "    <tr>\n",
       "      <th>11</th>\n",
       "      <td>AM Rahane</td>\n",
       "      <td>560.0</td>\n",
       "      <td>40.00</td>\n",
       "      <td>129.33</td>\n",
       "      <td>73.0</td>\n",
       "      <td>10.0</td>\n",
       "      <td>5.0</td>\n",
       "      <td>Grade A</td>\n",
       "    </tr>\n",
       "    <tr>\n",
       "      <th>13</th>\n",
       "      <td>KP Pietersen</td>\n",
       "      <td>305.0</td>\n",
       "      <td>61.00</td>\n",
       "      <td>147.34</td>\n",
       "      <td>22.0</td>\n",
       "      <td>20.0</td>\n",
       "      <td>3.0</td>\n",
       "      <td>Grade A</td>\n",
       "    </tr>\n",
       "    <tr>\n",
       "      <th>15</th>\n",
       "      <td>RG Sharma</td>\n",
       "      <td>433.0</td>\n",
       "      <td>30.92</td>\n",
       "      <td>126.60</td>\n",
       "      <td>39.0</td>\n",
       "      <td>18.0</td>\n",
       "      <td>5.0</td>\n",
       "      <td>Grade A</td>\n",
       "    </tr>\n",
       "    <tr>\n",
       "      <th>17</th>\n",
       "      <td>AB de Villiers</td>\n",
       "      <td>319.0</td>\n",
       "      <td>39.87</td>\n",
       "      <td>161.11</td>\n",
       "      <td>26.0</td>\n",
       "      <td>15.0</td>\n",
       "      <td>3.0</td>\n",
       "      <td>Grade A</td>\n",
       "    </tr>\n",
       "    <tr>\n",
       "      <th>19</th>\n",
       "      <td>JP Duminy</td>\n",
       "      <td>244.0</td>\n",
       "      <td>81.33</td>\n",
       "      <td>128.42</td>\n",
       "      <td>13.0</td>\n",
       "      <td>11.0</td>\n",
       "      <td>2.0</td>\n",
       "      <td>Grade A</td>\n",
       "    </tr>\n",
       "  </tbody>\n",
       "</table>\n",
       "</div>"
      ],
      "text/plain": [
       "              Name   Runs    Ave      SR  Fours  Sixes   HF  Cluster\n",
       "1         CH Gayle  733.0  61.08  160.74   46.0   59.0  9.0  Grade A\n",
       "3        G Gambhir  590.0  36.87  143.55   64.0   17.0  6.0  Grade A\n",
       "5         V Sehwag  495.0  33.00  161.23   57.0   19.0  5.0  Grade A\n",
       "7         CL White  479.0  43.54  149.68   41.0   20.0  5.0  Grade A\n",
       "9         S Dhawan  569.0  40.64  129.61   58.0   18.0  5.0  Grade A\n",
       "11       AM Rahane  560.0  40.00  129.33   73.0   10.0  5.0  Grade A\n",
       "13    KP Pietersen  305.0  61.00  147.34   22.0   20.0  3.0  Grade A\n",
       "15       RG Sharma  433.0  30.92  126.60   39.0   18.0  5.0  Grade A\n",
       "17  AB de Villiers  319.0  39.87  161.11   26.0   15.0  3.0  Grade A\n",
       "19       JP Duminy  244.0  81.33  128.42   13.0   11.0  2.0  Grade A"
      ]
     },
     "execution_count": 136,
     "metadata": {},
     "output_type": "execute_result"
    }
   ],
   "source": [
    "#list of Grade A players\n",
    "Grade_A = ipl_data[ipl_data['Cluster'] == 'Grade A']\n",
    "Grade_A.head(10)"
   ]
  },
  {
   "cell_type": "code",
   "execution_count": 137,
   "metadata": {},
   "outputs": [
    {
     "data": {
      "text/html": [
       "<div>\n",
       "<style scoped>\n",
       "    .dataframe tbody tr th:only-of-type {\n",
       "        vertical-align: middle;\n",
       "    }\n",
       "\n",
       "    .dataframe tbody tr th {\n",
       "        vertical-align: top;\n",
       "    }\n",
       "\n",
       "    .dataframe thead th {\n",
       "        text-align: right;\n",
       "    }\n",
       "</style>\n",
       "<table border=\"1\" class=\"dataframe\">\n",
       "  <thead>\n",
       "    <tr style=\"text-align: right;\">\n",
       "      <th></th>\n",
       "      <th>Name</th>\n",
       "      <th>Runs</th>\n",
       "      <th>Ave</th>\n",
       "      <th>SR</th>\n",
       "      <th>Fours</th>\n",
       "      <th>Sixes</th>\n",
       "      <th>HF</th>\n",
       "      <th>Cluster</th>\n",
       "    </tr>\n",
       "  </thead>\n",
       "  <tbody>\n",
       "    <tr>\n",
       "      <th>69</th>\n",
       "      <td>MS Bisla</td>\n",
       "      <td>213.0</td>\n",
       "      <td>30.42</td>\n",
       "      <td>133.12</td>\n",
       "      <td>16.0</td>\n",
       "      <td>10.0</td>\n",
       "      <td>1.0</td>\n",
       "      <td>Grade B</td>\n",
       "    </tr>\n",
       "    <tr>\n",
       "      <th>73</th>\n",
       "      <td>BJ Hodge</td>\n",
       "      <td>245.0</td>\n",
       "      <td>30.62</td>\n",
       "      <td>140.00</td>\n",
       "      <td>18.0</td>\n",
       "      <td>9.0</td>\n",
       "      <td>0.0</td>\n",
       "      <td>Grade B</td>\n",
       "    </tr>\n",
       "    <tr>\n",
       "      <th>75</th>\n",
       "      <td>NV Ojha</td>\n",
       "      <td>255.0</td>\n",
       "      <td>23.18</td>\n",
       "      <td>113.83</td>\n",
       "      <td>21.0</td>\n",
       "      <td>13.0</td>\n",
       "      <td>1.0</td>\n",
       "      <td>Grade B</td>\n",
       "    </tr>\n",
       "    <tr>\n",
       "      <th>77</th>\n",
       "      <td>DB Das</td>\n",
       "      <td>126.0</td>\n",
       "      <td>42.00</td>\n",
       "      <td>135.48</td>\n",
       "      <td>9.0</td>\n",
       "      <td>6.0</td>\n",
       "      <td>0.0</td>\n",
       "      <td>Grade B</td>\n",
       "    </tr>\n",
       "    <tr>\n",
       "      <th>79</th>\n",
       "      <td>AC Gilchrist</td>\n",
       "      <td>172.0</td>\n",
       "      <td>34.40</td>\n",
       "      <td>120.27</td>\n",
       "      <td>21.0</td>\n",
       "      <td>4.0</td>\n",
       "      <td>1.0</td>\n",
       "      <td>Grade B</td>\n",
       "    </tr>\n",
       "    <tr>\n",
       "      <th>81</th>\n",
       "      <td>BB McCullum</td>\n",
       "      <td>289.0</td>\n",
       "      <td>24.08</td>\n",
       "      <td>102.12</td>\n",
       "      <td>37.0</td>\n",
       "      <td>3.0</td>\n",
       "      <td>1.0</td>\n",
       "      <td>Grade B</td>\n",
       "    </tr>\n",
       "    <tr>\n",
       "      <th>83</th>\n",
       "      <td>IK Pathan</td>\n",
       "      <td>176.0</td>\n",
       "      <td>25.14</td>\n",
       "      <td>139.68</td>\n",
       "      <td>14.0</td>\n",
       "      <td>6.0</td>\n",
       "      <td>0.0</td>\n",
       "      <td>Grade B</td>\n",
       "    </tr>\n",
       "    <tr>\n",
       "      <th>85</th>\n",
       "      <td>Azhar Mahmood</td>\n",
       "      <td>186.0</td>\n",
       "      <td>23.25</td>\n",
       "      <td>130.98</td>\n",
       "      <td>16.0</td>\n",
       "      <td>8.0</td>\n",
       "      <td>0.0</td>\n",
       "      <td>Grade B</td>\n",
       "    </tr>\n",
       "    <tr>\n",
       "      <th>87</th>\n",
       "      <td>MK Pandey</td>\n",
       "      <td>143.0</td>\n",
       "      <td>20.42</td>\n",
       "      <td>127.67</td>\n",
       "      <td>12.0</td>\n",
       "      <td>6.0</td>\n",
       "      <td>1.0</td>\n",
       "      <td>Grade B</td>\n",
       "    </tr>\n",
       "    <tr>\n",
       "      <th>89</th>\n",
       "      <td>S Badrinath</td>\n",
       "      <td>196.0</td>\n",
       "      <td>28.00</td>\n",
       "      <td>108.28</td>\n",
       "      <td>23.0</td>\n",
       "      <td>2.0</td>\n",
       "      <td>1.0</td>\n",
       "      <td>Grade B</td>\n",
       "    </tr>\n",
       "  </tbody>\n",
       "</table>\n",
       "</div>"
      ],
      "text/plain": [
       "             Name   Runs    Ave      SR  Fours  Sixes   HF  Cluster\n",
       "69       MS Bisla  213.0  30.42  133.12   16.0   10.0  1.0  Grade B\n",
       "73       BJ Hodge  245.0  30.62  140.00   18.0    9.0  0.0  Grade B\n",
       "75        NV Ojha  255.0  23.18  113.83   21.0   13.0  1.0  Grade B\n",
       "77         DB Das  126.0  42.00  135.48    9.0    6.0  0.0  Grade B\n",
       "79   AC Gilchrist  172.0  34.40  120.27   21.0    4.0  1.0  Grade B\n",
       "81    BB McCullum  289.0  24.08  102.12   37.0    3.0  1.0  Grade B\n",
       "83      IK Pathan  176.0  25.14  139.68   14.0    6.0  0.0  Grade B\n",
       "85  Azhar Mahmood  186.0  23.25  130.98   16.0    8.0  0.0  Grade B\n",
       "87      MK Pandey  143.0  20.42  127.67   12.0    6.0  1.0  Grade B\n",
       "89    S Badrinath  196.0  28.00  108.28   23.0    2.0  1.0  Grade B"
      ]
     },
     "execution_count": 137,
     "metadata": {},
     "output_type": "execute_result"
    }
   ],
   "source": [
    "#list of Grade A players\n",
    "Grade_B = ipl_data[ipl_data['Cluster'] == 'Grade B']\n",
    "Grade_B.head(10)"
   ]
  },
  {
   "cell_type": "markdown",
   "metadata": {},
   "source": [
    "These are the list of Grade A & Grade B players through which a company x can take business decisions"
   ]
  },
  {
   "cell_type": "markdown",
   "metadata": {},
   "source": [
    "- Created By Akshat Dave "
   ]
  }
 ],
 "metadata": {
  "kernelspec": {
   "display_name": "Python 3",
   "language": "python",
   "name": "python3"
  },
  "language_info": {
   "codemirror_mode": {
    "name": "ipython",
    "version": 3
   },
   "file_extension": ".py",
   "mimetype": "text/x-python",
   "name": "python",
   "nbconvert_exporter": "python",
   "pygments_lexer": "ipython3",
   "version": "3.7.6"
  }
 },
 "nbformat": 4,
 "nbformat_minor": 4
}
